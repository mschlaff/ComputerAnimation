{
  "cells": [
    {
      "cell_type": "markdown",
      "metadata": {
        "id": "Cn_HGpM3XPa1"
      },
      "source": [
        "# CS 4496/7496 Character Animation (Fall 2024)\n",
        "Copyright (c) Georgia Institute of Technology\n",
        "\n",
        "---\n"
      ]
    },
    {
      "cell_type": "markdown",
      "metadata": {
        "id": "Bl36Lnh6YcbQ"
      },
      "source": [
        "# Project 2: Integrators (due <font color='red'>10/4/2024</font>, 11:59PM)\n",
        "\n",
        "**Tip:** *This notebook contains many long cells, most of which you should not edit (but would still need to run). Use the \"Table of contents\" pane on the left of your Colab window to navigate cells quickly.*\n",
        "\n",
        "![The Leaning Tower of Pisa, Wikipedia](https://upload.wikimedia.org/wikipedia/commons/thumb/6/66/The_Leaning_Tower_of_Pisa_SB.jpeg/340px-The_Leaning_Tower_of_Pisa_SB.jpeg)\n",
        "\n",
        "You are standing at the top of the Leaning Tower of Pisa. Just like Galileo, you are trying to convince people that your numerical integrators are accurate by dropping balls with equal mass from the tower. One ball follows the analytical equation of free-fall motion while the others are simulated by your solvers.\n",
        "\n",
        "In your program, you will implement the analytical solution and four numerical integration methods: Explicit Euler, Midpoint, RK4 and Implicit Euler. Show that two of them yield the same motion as the analytical solution, while the other two do not.\n",
        "\n",
        "In your results, you will show five objects (of different colors representing the different methods) side-by-side, falling from the same height at the same time with zero initial velocity.\n",
        "\n",
        "Skeleton code for visualization has already been provided.\n",
        "\n",
        "PyBullet documentation (if you want to learn more about the physics engine used for these simulations): https://docs.google.com/document/d/10sXEhzFRSnvFcl3XxNGhnD4N2SedqwdAvK3dsihxVUA/edit#\n",
        "\n",
        "Note: the installation of PyBullet will take a few minutes..."
      ]
    },
    {
      "cell_type": "code",
      "execution_count": 3,
      "metadata": {
        "id": "rBnCSSvSu9Gp",
        "colab": {
          "base_uri": "https://localhost:8080/"
        },
        "outputId": "1f290558-aa53-4d77-dd64-16add72150e1"
      },
      "outputs": [
        {
          "output_type": "stream",
          "name": "stdout",
          "text": [
            "Reading package lists... Done\n",
            "Building dependency tree... Done\n",
            "Reading state information... Done\n",
            "E: Unable to locate package python-opengl\n",
            "Collecting pybullet==2.6.5\n",
            "  Downloading pybullet-2.6.5.tar.gz (82.8 MB)\n",
            "\u001b[2K     \u001b[90m━━━━━━━━━━━━━━━━━━━━━━━━━━━━━━━━━━━━━━━━\u001b[0m \u001b[32m82.8/82.8 MB\u001b[0m \u001b[31m9.3 MB/s\u001b[0m eta \u001b[36m0:00:00\u001b[0m\n",
            "\u001b[?25h  Preparing metadata (setup.py) ... \u001b[?25l\u001b[?25hdone\n",
            "Requirement already satisfied: numpy in /usr/local/lib/python3.10/dist-packages (from pybullet==2.6.5) (1.26.4)\n",
            "Building wheels for collected packages: pybullet\n",
            "  Building wheel for pybullet (setup.py) ... \u001b[?25l\u001b[?25hdone\n",
            "  Created wheel for pybullet: filename=pybullet-2.6.5-cp310-cp310-linux_x86_64.whl size=101474141 sha256=f3a3b3da67bef85cc8c4566fa161e8d4f8f98ed7df52d90a910471160a5284e9\n",
            "  Stored in directory: /root/.cache/pip/wheels/ee/64/09/b01fdf51b550cca64866a88b97315fe48a437036adc66a9d6d\n",
            "Successfully built pybullet\n",
            "Installing collected packages: pybullet\n",
            "Successfully installed pybullet-2.6.5\n"
          ]
        }
      ],
      "source": [
        "# Install pybullet and related requirements\n",
        "!apt-get install -y xvfb python-opengl\n",
        "!pip install pybullet==2.6.5"
      ]
    },
    {
      "cell_type": "markdown",
      "metadata": {
        "id": "BczgOCbrXMp8"
      },
      "source": [
        "# 1. Skeleton code (do not edit)"
      ]
    },
    {
      "cell_type": "markdown",
      "metadata": {
        "id": "1zRVBYMOQry8"
      },
      "source": [
        "### 1.1. Import required libraries"
      ]
    },
    {
      "cell_type": "code",
      "execution_count": 4,
      "metadata": {
        "id": "yobnZUPRYAfi"
      },
      "outputs": [],
      "source": [
        "import pybullet as p\n",
        "import pybullet_data as pd\n",
        "import time\n",
        "import io\n",
        "import imageio\n",
        "from IPython.display import HTML\n",
        "from IPython import display as ipythondisplay\n",
        "import numpy as np"
      ]
    },
    {
      "cell_type": "markdown",
      "metadata": {
        "id": "PSTL6hdzQt6M"
      },
      "source": [
        "### 1.2. Create base class for dynamic systems"
      ]
    },
    {
      "cell_type": "code",
      "execution_count": 5,
      "metadata": {
        "id": "FC4VYQVyQ3I0"
      },
      "outputs": [],
      "source": [
        "class DynamicSystem(object):\n",
        "  \"\"\" An abstract dynamic system. All systems we use will inherit from this class.\n",
        "  \"\"\"\n",
        "\n",
        "  # ** Basic state operations **\n",
        "\n",
        "  def __init__(self, initial_state):\n",
        "    self.set_state(initial_state)\n",
        "\n",
        "  def get_dim(self):\n",
        "    '''Get the dimensionality (number of variables) in the system's state.'''\n",
        "    return len(self.state)\n",
        "\n",
        "  def get_system_state(self):\n",
        "    return self.state\n",
        "\n",
        "  def set_state(self, state):\n",
        "    self.state = np.array(state)\n",
        "\n",
        "  # ** Simulation operations **\n",
        "\n",
        "  def on_start_simulation(self):\n",
        "    raise NotImplementedError\n",
        "\n",
        "  def on_step_simulation(self):\n",
        "    raise NotImplementedError\n",
        "\n",
        "  # ** Analytical solution **\n",
        "\n",
        "  def analytical_state_update(self, t):\n",
        "    raise NotImplementedError\n",
        "\n",
        "  # ** Operations for numerical integration **\n",
        "\n",
        "  def get_system_derivative(self):\n",
        "    raise NotImplementedError\n",
        "\n",
        "  def get_gradient_of_system_derivative(self):\n",
        "    raise NotImplementedError"
      ]
    },
    {
      "cell_type": "markdown",
      "metadata": {
        "id": "yXiQL6Retvz2"
      },
      "source": [
        "### 1.3. Create base class for numerical integrators (i.e. solvers)"
      ]
    },
    {
      "cell_type": "code",
      "execution_count": 6,
      "metadata": {
        "id": "0ysCKkjxtzSW"
      },
      "outputs": [],
      "source": [
        "class Solver(object):\n",
        "  \"\"\"An abstract solver (numerical integrator), which all solvers inherit from.\"\"\"\n",
        "  def __init__(self):\n",
        "    \"\"\"Initilializes the solver.\"\"\"\n",
        "    pass\n",
        "\n",
        "  def step(self, h: float, system: DynamicSystem):\n",
        "    \"\"\"Calculate the state after advancement by `h` from its current state, and use `set_state()` to update the system.\n",
        "    Do not return anything.\n",
        "\n",
        "    Since nothing about this abstract solver is known, we raise an error.\n",
        "    \"\"\"\n",
        "    raise NotImplementedError\n"
      ]
    },
    {
      "cell_type": "markdown",
      "metadata": {
        "id": "s61fwx6P0XcW"
      },
      "source": [
        "### 1.4. Simulation utilities"
      ]
    },
    {
      "cell_type": "markdown",
      "metadata": {
        "id": "8CteMs1u1Ve1"
      },
      "source": [
        "#### PyBullet general initialization"
      ]
    },
    {
      "cell_type": "code",
      "execution_count": 7,
      "metadata": {
        "id": "B3cXipsk0bm-"
      },
      "outputs": [],
      "source": [
        "# PyBullet globals\n",
        "flags = p.URDF_INITIALIZE_SAT_FEATURES\n",
        "\n",
        "def init_pybullet():\n",
        "  '''Initialize PyBullet parameters (call before setting up any PyBullet simulation)'''\n",
        "  global flags\n",
        "  p.connect(p.DIRECT)\n",
        "  p.setAdditionalSearchPath(pd.getDataPath())\n",
        "  p.resetSimulation()\n",
        "\n",
        "  p.loadURDF('plane.urdf', [0, 0, 0], flags=flags, useFixedBase=True) # create plane in background"
      ]
    },
    {
      "cell_type": "markdown",
      "metadata": {
        "id": "_pgnTiL0YDnT"
      },
      "source": [
        "#### PyBullet camera setup"
      ]
    },
    {
      "cell_type": "code",
      "execution_count": 8,
      "metadata": {
        "id": "S6ZdGcxzYKRs"
      },
      "outputs": [],
      "source": [
        "# Camera settings (global)\n",
        "pixelWidth, pixelHeight = 640, 360\n",
        "viewMatrix = p.computeViewMatrixFromYawPitchRoll(cameraTargetPosition=[0, 0, 5.0], distance=10.0, yaw=0.0, pitch=0.0, roll=0.0, upAxisIndex=2)\n",
        "projectionMatrix = p.computeProjectionMatrixFOV(fov=60, aspect=pixelWidth / pixelHeight, nearVal=0.01, farVal=100)\n",
        "\n",
        "def render_pybullet():\n",
        "  '''Render image from global camera in pybullet'''\n",
        "  global pixelWidth, pixelHeight, viewMatrix, projectionMatrix\n",
        "  _, _, img, _, _ = p.getCameraImage(pixelWidth, pixelHeight, viewMatrix, projectionMatrix, shadow=1, lightDirection=[1,1,1])\n",
        "  return img[..., :3]   # ignore alpha"
      ]
    },
    {
      "cell_type": "markdown",
      "metadata": {
        "id": "2m-Lp4l5dGBu"
      },
      "source": [
        "# 2. Galileo's experiment: Free-fall system"
      ]
    },
    {
      "cell_type": "markdown",
      "metadata": {
        "id": "zWBuc3itoHDa"
      },
      "source": [
        "### System definition\n",
        "\n",
        "The first task is to write the code for defining the \"system\" of each free-falling object. Particularly, you need to implement the following functions:\n",
        "- `get_system_derivative()`, which returns the derivative of the current state.\n",
        "- `analytical_state_update()`, which sets the correct state at any time `t` as computed analytically, and doesn't return anything.\n",
        "  - Use the closed-form solution for free-fall height and velocity as a function of time.\n",
        "\n",
        "Please note that we have an additional function for extra questions `get_gradient_of_system_derivative()`, which returns the gradient of the derivative at the current state. This will be used for implicit Euler (see the docstring for details). You do **NOT** need to implement this for regular problems.\n",
        "\n",
        "In the cell below (and in all cells where you need to write code), your code goes under the `#Student answer begins` comments.\n",
        "\n",
        "**<font color='orange'> \\*\\*Task 1: Write your code below (20 pts)\\*\\* </font>**\n",
        "\n"
      ]
    },
    {
      "cell_type": "code",
      "execution_count": 9,
      "metadata": {
        "id": "N9kvXO3uimac"
      },
      "outputs": [],
      "source": [
        "class Freefall(DynamicSystem):\n",
        "  \"\"\" A dynamic system of a freefall object, simulated using pybullet.\n",
        "  \"\"\"\n",
        "  def __init__(self, initial_height: float, gravity: float):\n",
        "    \"\"\"Initialize the object that is free-falling (assumed to be of mass 1).\n",
        "\n",
        "    Args:\n",
        "      initial_height: the initial height (velocity starts at zero for freefall)\n",
        "      g: the gravity constant\n",
        "    \"\"\"\n",
        "    super().__init__(initial_state=(initial_height, 0.0))\n",
        "    self.initial_height = initial_height\n",
        "    self.gravity = gravity\n",
        "\n",
        "  # ** Simulation operations **\n",
        "\n",
        "  def on_start_simulation(self, rgbaColor, basePosition):\n",
        "    \"\"\"To be called when a simulation for this system (pybullet) is about to start.\n",
        "    Sets up the pybullet object for this system (a free-falling sphere)\n",
        "    \"\"\"\n",
        "    global flags\n",
        "    objShape = p.createVisualShape(shapeType=p.GEOM_MESH, fileName=\"sphere_smooth.obj\", meshScale=[0.25, 0.25, 0.25], rgbaColor=rgbaColor)\n",
        "    self.obj = p.createMultiBody(baseMass=1, baseVisualShapeIndex=objShape, basePosition=basePosition, flags=flags)\n",
        "\n",
        "  def on_step_simulation(self):\n",
        "    \"\"\"To be called when a simulation for this system (pybullet) is stepping through.\n",
        "    Updates the position and velocity of the object for visualization.\n",
        "    \"\"\"\n",
        "    obj = self.obj\n",
        "    x, y, _ = p.getBasePositionAndOrientation(obj)[0]\n",
        "    z, dz = self.state\n",
        "    p.resetBasePositionAndOrientation(obj, posObj=[x, y, z], ornObj=[0, 0, 0, 1])\n",
        "    p.resetBaseVelocity(obj, linearVelocity=[0, 0, dz])\n",
        "\n",
        "\n",
        "  # ** Analytical solution **\n",
        "\n",
        "  def analytical_state_update(self, t):\n",
        "    \"\"\"Set the state to the analytical solution of the system at time t (float).\n",
        "    Args:\n",
        "      t: The given simulation time\n",
        "    \"\"\"\n",
        "    # Student answer begins\n",
        "    z = self.initial_height - 0.5 * self.gravity * t**2   # position\n",
        "    dz = -self.gravity * t                                # velocity\n",
        "    self.set_state((z, dz))\n",
        "    # Student answer ends\n",
        "\n",
        "  # ** Operations for numerical integration **\n",
        "\n",
        "  def get_system_derivative(self):\n",
        "    \"\"\"Returns the derivative of the given system at its current state as a np.array.\n",
        "    Used in all numerical integration methods. It is the function ` f ` in the slides.\n",
        "    For example, if the state is [a,b], then this returns [a*, b*] where a* = da/dt and b* = db/dt.\n",
        "\n",
        "    Returns:\n",
        "      The derivative of the given system as a np.array of shape (2,)\n",
        "    \"\"\"\n",
        "    # Student answer begins\n",
        "    x, v = self.state\n",
        "    dx = v                        # velocity is derivative of position\n",
        "    dv = -self.gravity            # acceleration/gravity is constant\n",
        "    return np.array([dx, dv])\n",
        "    # Student answer ends\n",
        "\n",
        "  def get_gradient_of_system_derivative(self):\n",
        "    \"\"\"Returns the gradient of `get_system_derivative()` (Hessian) of the given system at its current state as a np.array.\n",
        "    Used in first-order implicit Euler. It is the function ` f' ` used in the Taylor series expansion in the slides.\n",
        "    For example, if the state is [a,b] with derivative [a*, b*], then this returns:\n",
        "    gradient([a*, b*]) = [ [ d(a*)/da, d(a*)/db ],\n",
        "                           [ d(b*)/da, d(b*)/db ] ]\n",
        "\n",
        "    Returns:\n",
        "      The gradient of the derivative of the given system as a np.array of shape (2, 2)\n",
        "    \"\"\"\n",
        "    # Student answer begins - for the extra question (implicit Euler)\n",
        "    return np.array([\n",
        "        [0.0, 1.0],\n",
        "        [0.0, 0.0]\n",
        "    ])\n",
        "    # Student answer ends\n"
      ]
    },
    {
      "cell_type": "markdown",
      "metadata": {
        "id": "-1vxORN4C_ll"
      },
      "source": [
        "Let's quickly verify your implementation. (do not edit)"
      ]
    },
    {
      "cell_type": "code",
      "execution_count": 10,
      "metadata": {
        "id": "i1o1-0l0DDRn",
        "colab": {
          "base_uri": "https://localhost:8080/"
        },
        "outputId": "4bed1433-24aa-431c-f25d-6f03d6076fbd"
      },
      "outputs": [
        {
          "output_type": "stream",
          "name": "stdout",
          "text": [
            "You pass the tests!\n"
          ]
        }
      ],
      "source": [
        "system = Freefall(initial_height=10.0, gravity=9.8) # 10m, zero velocity\n",
        "assert np.allclose(system.get_system_derivative(), np.array([0.0, -9.8]))\n",
        "\n",
        "system.set_state((5.0, -1.0)) # 5.0m, -1.0m/s\n",
        "assert np.allclose(system.get_system_derivative(), np.array([-1.0, -9.8]))\n",
        "\n",
        "system.analytical_state_update(0.0)\n",
        "assert np.allclose(system.get_system_state(), np.array([10.0, 0.0]))\n",
        "system.analytical_state_update(0.5)\n",
        "assert np.allclose(system.get_system_state(), np.array([8.775, -4.9]))\n",
        "system.analytical_state_update(1.0)\n",
        "assert np.allclose(system.get_system_state(), np.array([5.1, -9.8]))\n",
        "\n",
        "print(\"You pass the tests!\")"
      ]
    },
    {
      "cell_type": "markdown",
      "metadata": {
        "id": "sUn_hilGoNVi"
      },
      "source": [
        "### Integrator definitions\n",
        "\n",
        "Now it is time for you to implement the integrators.\n",
        "\n",
        "The integrators have to work for dynamic systems *in general* - not just for this kind of system! In other words, don't assume that the system you get as input will always be a free-fall system. Later in this notebook, another system will be introduced and your integrators will be tested against that one too.\n",
        "\n",
        "For implementing all integrators, follow the same pattern:\n",
        "1. Get any state/derivative/gradient info you need from the provided `system`\n",
        "1. Compute the state after advancement by time `h` from the current state\n",
        "1. Update the system's state using `set_state()`, and don't return anything.\n",
        "\n",
        "Note that, to compute the state after advancement by `h`, you might need to use some intermediate states and store info from them."
      ]
    },
    {
      "cell_type": "markdown",
      "metadata": {
        "id": "rlvhA2Wyr5KH"
      },
      "source": [
        "#### Explicit Euler method\n",
        "\n",
        "To implement this, you shouldn't need to use any intermediate states.\n",
        "\n",
        "**<font color='orange'> \\*\\*Task 2: Write your code below (10 pts)\\*\\* </font>**"
      ]
    },
    {
      "cell_type": "code",
      "execution_count": 11,
      "metadata": {
        "id": "X7B7NuY5r9ic"
      },
      "outputs": [],
      "source": [
        "class ExplicitEulerSolver(Solver):\n",
        "  \"\"\"A general Explicit Euler method solver.\"\"\"\n",
        "  def step(self, h: float, system: DynamicSystem):\n",
        "    \"\"\" Read the current system state, calculate the state after advancement by `h`, and use `set_state()` to update the system. Do not return anything.\n",
        "\n",
        "    Args:\n",
        "      system: the instance of the given dynamic system\n",
        "      h: an amount of the time step we want to integrate\n",
        "    \"\"\"\n",
        "    # Student answer begins\n",
        "    # useful functions: system.get_system_state, system.get_system_derivative, and system.set_state\n",
        "    current_state = system.get_system_state()\n",
        "    derivative = system.get_system_derivative()\n",
        "    new_state = current_state + h * derivative\n",
        "    system.set_state(new_state)\n",
        "    # Student answer ends"
      ]
    },
    {
      "cell_type": "markdown",
      "metadata": {
        "id": "JXbjgpMPxzGc"
      },
      "source": [
        "#### Midpoint method\n",
        "\n",
        "*Hint:* compute $x_{mid}$, use that to set an intermediate state for the system, and then compute $f_{mid}$ from there. Don't forget to store the original state $x_0$.\n",
        "\n",
        "**<font color='orange'> \\*\\*Task 3: Write your code below (10 pts)\\*\\* </font>**"
      ]
    },
    {
      "cell_type": "code",
      "execution_count": 12,
      "metadata": {
        "id": "P-hEwtmzyFpa"
      },
      "outputs": [],
      "source": [
        "class MidpointSolver(Solver):\n",
        "  \"\"\"A general Midpoint method solver.\"\"\"\n",
        "  def step(self, h: float, system: DynamicSystem):\n",
        "    \"\"\" Read the current system state, calculate the state after advancement by `h`, and use `set_state()` to update the system. Do not return anything.\n",
        "\n",
        "    Args:\n",
        "      system: the instance of the given dynamic system\n",
        "      h: an amount of the time step we want to integrate\n",
        "    \"\"\"\n",
        "    # Student answer begins\n",
        "    # useful functions: system.get_system_state, system.get_system_derivative, and system.set_state\n",
        "    current_state = system.get_system_state()\n",
        "    derivative = system.get_system_derivative()\n",
        "    midpoint_state = current_state + 0.5 * h * derivative\n",
        "    system.set_state(midpoint_state)\n",
        "    midpoint_derivative = system.get_system_derivative()\n",
        "    new_state = current_state + h * midpoint_derivative\n",
        "    system.set_state(new_state)\n",
        "    # Student answer ends"
      ]
    },
    {
      "cell_type": "markdown",
      "metadata": {
        "id": "k1wJ8UIgqhj9"
      },
      "source": [
        "#### Runge-Kutta method (RK4)\n",
        "\n",
        "*Hint:* follow the RK4 equations and use multiple intermediate states. Observe that $k_1$ is taken from the derivative of state $x_0$, $k_2$ from $x_1$ and so on. You should end up using 4 `get_system_derivative()` calls.\n",
        "\n",
        "**<font color='orange'> \\*\\*Task 4: Write your code below (10 pts)\\*\\* </font>**"
      ]
    },
    {
      "cell_type": "code",
      "execution_count": 13,
      "metadata": {
        "id": "S_7D-yw5qhj-"
      },
      "outputs": [],
      "source": [
        "from types import new_class\n",
        "class RK4Solver(Solver):\n",
        "  \"\"\"A general RK4 solver.\"\"\"\n",
        "  def step(self, h: float, system: DynamicSystem):\n",
        "    \"\"\" Read the current system state, calculate the state after advancement by `h`, and use `set_state()` to update the system. Do not return anything.\n",
        "\n",
        "    Args:\n",
        "      system: the instance of the given dynamic system\n",
        "      h: an amount of the time step we want to integrate\n",
        "    \"\"\"\n",
        "    # Student answer begins\n",
        "    # useful functions: system.get_system_state, system.get_system_derivative, and system.set_state\n",
        "    current_state = system.get_system_state()\n",
        "    k1 = system.get_system_derivative()\n",
        "    system.set_state(current_state + 0.5 * h * k1)\n",
        "    k2 = system.get_system_derivative()\n",
        "    system.set_state(current_state + 0.5 * h * k2)\n",
        "    k3 = system.get_system_derivative()\n",
        "    system.set_state(current_state + h * k3)\n",
        "    k4 = system.get_system_derivative()\n",
        "    new_state = current_state + (h / 6) * (k1 + 2 * k2 + 2 * k3 + k4)\n",
        "    system.set_state(new_state)\n",
        "    # Student answer ends"
      ]
    },
    {
      "cell_type": "markdown",
      "metadata": {
        "id": "0jJSGW0v4ANM"
      },
      "source": [
        "#### Testing all integrators for free-fall (do not edit)"
      ]
    },
    {
      "cell_type": "code",
      "execution_count": 14,
      "metadata": {
        "id": "slQGZeXt4I-5",
        "colab": {
          "base_uri": "https://localhost:8080/"
        },
        "outputId": "3494ed4f-3656-414f-9883-59db4d1264b2"
      },
      "outputs": [
        {
          "output_type": "stream",
          "name": "stdout",
          "text": [
            "You passed all the tests!\n"
          ]
        }
      ],
      "source": [
        "test_systems = [Freefall(100.0, 10.0) for _ in range(3)]\n",
        "test_solvers = [ExplicitEulerSolver(), MidpointSolver(), RK4Solver()]\n",
        "h = 1.\n",
        "\n",
        "for _ in range(3):\n",
        "  for system, solver in zip(test_systems, test_solvers):\n",
        "    solver.step(h,system)\n",
        "\n",
        "assert np.allclose(\n",
        "  np.stack([system.get_system_state() for system in test_systems], axis=0),\n",
        "  [\n",
        "    [ 70., -30.],\n",
        "    [ 55., -30.],\n",
        "    [ 55., -30.],\n",
        "  ]\n",
        ")\n",
        "\n",
        "for _ in range(7):\n",
        "  for system, solver in zip(test_systems, test_solvers):\n",
        "    solver.step(h,system)\n",
        "\n",
        "assert np.allclose(\n",
        "  np.stack([system.get_system_state() for system in test_systems], axis=0),\n",
        "  [\n",
        "    [-350., -100.],\n",
        "    [-400., -100.],\n",
        "    [-400., -100.],\n",
        "  ]\n",
        ")\n",
        "\n",
        "print('You passed all the tests!')"
      ]
    },
    {
      "cell_type": "markdown",
      "metadata": {
        "id": "57r_AoVhnK7S"
      },
      "source": [
        "### Simulation & Comparison of Methods\n",
        "\n",
        "Now, we'll be simulating 5 free-fall systems which are identical except for the method used to update state. We'll visualize the trajectories we get and compare the methods."
      ]
    },
    {
      "cell_type": "markdown",
      "metadata": {
        "id": "DjODj_35Z4yj"
      },
      "source": [
        "#### Load PyBullet objects and initialize required parameters (do not edit)"
      ]
    },
    {
      "cell_type": "code",
      "execution_count": 15,
      "metadata": {
        "id": "PsBvpiFCw8ub"
      },
      "outputs": [],
      "source": [
        "init_pybullet()\n",
        "\n",
        "initial_height = 10.0\n",
        "g = 9.8  # Acceleration due to gravity\n",
        "h = 1. / 20.  # Time step\n",
        "\n",
        "# Order of methods (and corresponding systems)\n",
        "method_labels = {\n",
        "  0: 'Analytical solution',\n",
        "  1: 'Explicit Euler method',\n",
        "  2: 'Midpoint method',\n",
        "  3: 'RK4 method',\n",
        "}\n",
        "\n",
        "# Construct all the systems\n",
        "systems = [Freefall(initial_height, g) for _ in range(len(method_labels))]\n",
        "\n",
        "# Load objects\n",
        "\n",
        "# Red Sphere - Analytical\n",
        "systems[0].on_start_simulation(rgbaColor=[1, 0, 0, 1], basePosition=[ -2.0, 0.0, initial_height])\n",
        "# Green sphere - Explicit Euler\n",
        "systems[1].on_start_simulation(rgbaColor=[0, 1, 0, 1], basePosition=[ -1.0, 0.0, initial_height])\n",
        "# Blue sphere - Midpoint\n",
        "systems[2].on_start_simulation(rgbaColor=[0, 0, 1, 1], basePosition=[0.0, 0.0, initial_height])\n",
        "# Purple sphere - RK4\n",
        "systems[3].on_start_simulation(rgbaColor=[0.5, 0, 0.5, 1], basePosition=[1.0, 0.0, initial_height])"
      ]
    },
    {
      "cell_type": "markdown",
      "metadata": {
        "id": "7XyyOkwEqQ2E"
      },
      "source": [
        "#### Complete the system update steps in the `while` loop below for all the systems in the `systems` array.\n",
        "\n",
        "They are in the order defined in the cell above (refer to the `method_labels` variable).\n",
        "\n",
        "Note that one system needs to update itself analytically using `analytical_state_update()` while the others need to be updated by `Solver` objects.\n",
        "\n",
        "**<font color='orange'> \\*\\*Task 5: Write your code below (20 pts)\\*\\* </font>**"
      ]
    },
    {
      "cell_type": "code",
      "execution_count": 16,
      "metadata": {
        "id": "yDywtLhydGVI",
        "colab": {
          "base_uri": "https://localhost:8080/"
        },
        "outputId": "0573b460-0d52-48f6-ad82-1f6a2bb15e45"
      },
      "outputs": [
        {
          "output_type": "stream",
          "name": "stdout",
          "text": [
            "At time t = 0.05\n",
            "Height of object using Analytical solution = 9.98775\n",
            "Height of object using Explicit Euler method = 10.0\n",
            "Height of object using Midpoint method = 9.98775\n",
            "Height of object using RK4 method = 9.98775\n",
            "At time t = 0.3\n",
            "Height of object using Analytical solution = 9.559\n",
            "Height of object using Explicit Euler method = 9.6325\n",
            "Height of object using Midpoint method = 9.559\n",
            "Height of object using RK4 method = 9.559000000000001\n",
            "At time t = 0.5499999999999999\n",
            "Height of object using Analytical solution = 8.51775\n",
            "Height of object using Explicit Euler method = 8.652500000000002\n",
            "Height of object using Midpoint method = 8.51775\n",
            "Height of object using RK4 method = 8.517750000000001\n",
            "At time t = 0.8000000000000002\n",
            "Height of object using Analytical solution = 6.863999999999999\n",
            "Height of object using Explicit Euler method = 7.0600000000000005\n",
            "Height of object using Midpoint method = 6.863999999999998\n",
            "Height of object using RK4 method = 6.864\n",
            "At time t = 1.0500000000000003\n",
            "Height of object using Analytical solution = 4.597749999999997\n",
            "Height of object using Explicit Euler method = 4.8549999999999995\n",
            "Height of object using Midpoint method = 4.597749999999998\n",
            "Height of object using RK4 method = 4.59775\n",
            "At time t = 1.3000000000000005\n",
            "Height of object using Analytical solution = 1.7189999999999923\n",
            "Height of object using Explicit Euler method = 2.0374999999999988\n",
            "Height of object using Midpoint method = 1.7189999999999972\n",
            "Height of object using RK4 method = 1.718999999999999\n",
            "Done. t = 1.5000000000000007\n"
          ]
        }
      ],
      "source": [
        "def get_heights(systems):\n",
        "  \"\"\"A helper function that returns the heights of all systems.\"\"\"\n",
        "  return [s.get_system_state()[0] for s in systems]\n",
        "\n",
        "i, t = 0, 0.  # Loop counter, Time\n",
        "heightsToPlot = [[initial_height] for _ in range(len(systems))]\n",
        "times = [t]\n",
        "\n",
        "# Constructs all the solvers\n",
        "explicit_euler_solver = ExplicitEulerSolver()\n",
        "midpoint_solver = MidpointSolver()\n",
        "rk4_solver = RK4Solver()\n",
        "\n",
        "frames = []\n",
        "while max(get_heights(systems)) > 0.0:\n",
        "  t += h\n",
        "\n",
        "  # Update the systems using the methods you just implemented.\n",
        "\n",
        "  # Student answer begins\n",
        "\n",
        "  systems[0].analytical_state_update(t)  # A bit special treatment for analytical update.\n",
        "  # How do you move explicit_euler_solver, midpoint_solver, and rk4_solver forward? Use step functions.\n",
        "  explicit_euler_solver.step(h, systems[1])\n",
        "  midpoint_solver.step(h, systems[2])\n",
        "  rk4_solver.step(h, systems[3])\n",
        "\n",
        "  # Student answer ends\n",
        "\n",
        "  heights = get_heights(systems)\n",
        "\n",
        "  # Print the values for debugging.\n",
        "  if i % 5 == 0:\n",
        "      print(\"At time t = {}\".format(t))\n",
        "      for idx, label in method_labels.items():\n",
        "        print(\"Height of object using {} = {}\".format(label, heights[idx]))\n",
        "\n",
        "  # Update the values for plot and visualization\n",
        "  for j, system_j in enumerate(systems):\n",
        "    system_j.on_step_simulation()\n",
        "    heightsToPlot[j].append(heights[j])\n",
        "\n",
        "  # Render image\n",
        "  frames.append(render_pybullet())\n",
        "\n",
        "  times.append(t)\n",
        "  i += 1\n",
        "\n",
        "print(\"Done. t = {}\".format(t))"
      ]
    },
    {
      "cell_type": "markdown",
      "metadata": {
        "id": "ahtnMEXgXFeZ"
      },
      "source": [
        "#### Let's visualize the results of the experiments. (do not edit)\n",
        "\n",
        "Make sure that you can see the animation of five free-falling objects.\n",
        "You may want to download the gif for repeating animation."
      ]
    },
    {
      "cell_type": "code",
      "execution_count": 17,
      "metadata": {
        "id": "3XE_x2zRiCeN",
        "colab": {
          "base_uri": "https://localhost:8080/",
          "height": 377
        },
        "outputId": "177d4037-02d2-4832-c097-ff63f4a96ad6"
      },
      "outputs": [
        {
          "output_type": "execute_result",
          "data": {
            "image/gif": "[encoded data removed]",
            "text/plain": [
              "<IPython.core.display.Image object>"
            ]
          },
          "metadata": {},
          "execution_count": 17
        }
      ],
      "source": [
        "freefall_gif_path = './test_freefall.gif'\n",
        "\n",
        "imageio.mimsave(freefall_gif_path, np.stack(frames, axis=0), 'GIF', duration=1.0)\n",
        "ipythondisplay.Image(filename=freefall_gif_path)"
      ]
    },
    {
      "cell_type": "markdown",
      "metadata": {
        "id": "AoK9a222ZsQG"
      },
      "source": [
        "#### Let us also look at the plot of heights vs time. (do not edit)"
      ]
    },
    {
      "cell_type": "code",
      "execution_count": 18,
      "metadata": {
        "id": "tAsCw2uA3k8Q",
        "colab": {
          "base_uri": "https://localhost:8080/",
          "height": 696
        },
        "outputId": "9df64d1d-b2e7-4fa8-f1ed-3052e76b95ac"
      },
      "outputs": [
        {
          "output_type": "display_data",
          "data": {
            "text/plain": [
              "<Figure size 800x800 with 1 Axes>"
            ],
            "image/png": "[encoded data removed]"
          },
          "metadata": {}
        }
      ],
      "source": [
        "import matplotlib.pyplot as plt\n",
        "%matplotlib inline\n",
        "\n",
        "plt.figure(figsize=(8,8))\n",
        "plt.plot(times, heightsToPlot[0], 'r.', lw=4, label='Analytical')\n",
        "plt.plot(times, heightsToPlot[1], 'g-', lw=1, label='Explicit Euler')\n",
        "plt.plot(times, heightsToPlot[2], 'b--', lw=2, label='Midpoint')\n",
        "plt.plot(times, heightsToPlot[3], color='purple', ls='-', lw=1, label='RK4')\n",
        "plt.xlabel('Time')\n",
        "plt.ylabel('Heights')\n",
        "plt.legend()\n",
        "plt.show()"
      ]
    },
    {
      "cell_type": "markdown",
      "metadata": {
        "id": "UblJy1RWgmhT"
      },
      "source": [
        "Can you see all the height trajectories over time?\n",
        "\n",
        "Discuss the results, particularly in terms of the accuracy of each method.\n",
        "\n",
        "Will the results be different if we take a smaller/larger time step?\n",
        "\n",
        "**<font color='orange'> \\*\\*Task 6: Write your answer below (10 pts)\\*\\* </font>**"
      ]
    },
    {
      "cell_type": "markdown",
      "metadata": {
        "id": "wWQ-mWahhPRx"
      },
      "source": [
        "* Analytical solution (red dots) is the exact solution for free fall under gravity.\n",
        "* Explicit Euler (green line) is less accurate and overestimates the height at every step. At every step the line deviates more and more from the true solution.\n",
        "* Midpoint (blue dash) is more accurate than explicit euler, where it can be seen to be pretty much the same as the analytical solution line.\n",
        "* Rk4 (purple line) is the most accurate method with very small differences from the analytical solution line.\n",
        "* Reducing the time step would give better accuracy for all methods, and increasing the time step would decrease accuracy for all methods (explicit euler would deviate the most, rk4 would deviate the least).\n"
      ]
    },
    {
      "cell_type": "markdown",
      "metadata": {
        "id": "Mji6OZFg7Jw4"
      },
      "source": [
        "# 3. Bead-on-wire system"
      ]
    },
    {
      "cell_type": "markdown",
      "metadata": {
        "id": "jFqGZnJY7dXw"
      },
      "source": [
        "As promised, you will now test your integrators on a new system - the 2D bead-on-wire system from class, generalized to follow these differential equations:\n",
        "$$\n",
        "\\frac{dx}{dt} = -k_x x; \\frac{dy}{dt} = -k_y y\n",
        "$$\n",
        "with general initial conditions.\n",
        "\n",
        "The system definition and visualization code has been implemented for you.\n",
        "\n",
        "You just need to verify that the integrators work without any changes, and write your observations from the simulation."
      ]
    },
    {
      "cell_type": "markdown",
      "metadata": {
        "id": "C4MJQ6ufW6ah"
      },
      "source": [
        "### System definition (do not edit)"
      ]
    },
    {
      "cell_type": "code",
      "execution_count": 19,
      "metadata": {
        "id": "UcdGKxqg8erw"
      },
      "outputs": [],
      "source": [
        "class BeadOnWire(DynamicSystem):\n",
        "  \"\"\" A dynamic system of a bead on a wire moving in 2D, simulated using matplotlib.\n",
        "  \"\"\"\n",
        "  def __init__(self, initial_state, kx, ky):\n",
        "    \"\"\"state is of form (x,y)\"\"\"\n",
        "    super().__init__(initial_state)\n",
        "    self.initial_state = initial_state\n",
        "    self.k = np.array([kx, ky])\n",
        "\n",
        "  # ** Simulation operations **\n",
        "\n",
        "  def on_start_simulation(self, line):\n",
        "    self.history = [self.initial_state]\n",
        "    self.line = line\n",
        "    self.line.set_data([], [])\n",
        "\n",
        "  def on_step_simulation(self):\n",
        "    self.history.append(self.state)\n",
        "    x_values, y_values = np.array(self.history).T\n",
        "    self.line.set_data(x_values, y_values)\n",
        "\n",
        "  # ** Analytical solution **\n",
        "\n",
        "  def analytical_state_update(self, t):\n",
        "    state = self.initial_state * np.exp(-self.k * t)\n",
        "    self.set_state(state)\n",
        "\n",
        "  # ** Operations for numerical integration **\n",
        "\n",
        "  def get_system_derivative(self):\n",
        "    return -self.k * self.state\n",
        "\n",
        "  def get_gradient_of_system_derivative(self):\n",
        "    return np.diag(-self.k)"
      ]
    },
    {
      "cell_type": "markdown",
      "metadata": {
        "id": "y0UzTrL6r7UO"
      },
      "source": [
        "### Testing all integrators for bead-on-wire (do not edit)"
      ]
    },
    {
      "cell_type": "code",
      "execution_count": 20,
      "metadata": {
        "id": "MPDTbt6Ar7UP",
        "colab": {
          "base_uri": "https://localhost:8080/"
        },
        "outputId": "08c1049c-2e21-4917-9428-8468e1022b4d"
      },
      "outputs": [
        {
          "output_type": "stream",
          "name": "stdout",
          "text": [
            "You passed all the tests!\n"
          ]
        }
      ],
      "source": [
        "test_systems = [BeadOnWire((1.0, 1.0), 1.0, 5.0) for _ in range(3)]\n",
        "test_solvers = [ExplicitEulerSolver(), MidpointSolver(), RK4Solver()]\n",
        "h = 1. / 4.\n",
        "\n",
        "for _ in range(2):\n",
        "  for system, solver in zip(test_systems, test_solvers):\n",
        "    solver.step(h,system)\n",
        "\n",
        "assert np.allclose(\n",
        "  np.stack([system.get_system_state() for system in test_systems], axis=0),\n",
        "  [\n",
        "    [0.5625, 0.0625],\n",
        "    [0.61035156, 0.28222656],\n",
        "    [0.60654283, 0.09452822],\n",
        "  ]\n",
        ")\n",
        "\n",
        "for _ in range(6):\n",
        "  for system, solver in zip(test_systems, test_solvers):\n",
        "    solver.step(h,system)\n",
        "\n",
        "assert np.allclose(\n",
        "  np.stack([system.get_system_state() for system in test_systems], axis=0),\n",
        "  [\n",
        "    [1.00112915e-01, 1.52587891e-05],\n",
        "    [0.13877788, 0.00634441],\n",
        "    [1.35346142e-01, 7.98446841e-05],\n",
        "  ]\n",
        ")\n",
        "\n",
        "print('You passed all the tests!')"
      ]
    },
    {
      "cell_type": "markdown",
      "metadata": {
        "id": "XqWAoxvKW9rA"
      },
      "source": [
        "### Simulation & visualization with matplotlib"
      ]
    },
    {
      "cell_type": "code",
      "execution_count": 23,
      "metadata": {
        "id": "saH32uShXGRI",
        "colab": {
          "base_uri": "https://localhost:8080/",
          "height": 914
        },
        "outputId": "ec842be7-863b-41b3-dc13-b48aa878a531"
      },
      "outputs": [
        {
          "output_type": "execute_result",
          "data": {
            "text/plain": [
              "<IPython.core.display.HTML object>"
            ],
            "text/html": [
              "<video width=\"640\" height=\"480\" controls autoplay loop>\n",
              "  <source type=\"video/mp4\" src=\"data:video/mp4;base64,AAAAIGZ0eXBNNFYgAAACAE00ViBpc29taXNvMmF2YzEAAAAIZnJlZQAAUq1tZGF0AAACrgYF//+q\n",
              "3EXpvebZSLeWLNgg2SPu73gyNjQgLSBjb3JlIDE2MyByMzA2MCA1ZGI2YWE2IC0gSC4yNjQvTVBF\n",
              "Ry00IEFWQyBjb2RlYyAtIENvcHlsZWZ0IDIwMDMtMjAyMSAtIGh0dHA6Ly93d3cudmlkZW9sYW4u\n",
              "b3JnL3gyNjQuaHRtbCAtIG9wdGlvbnM6IGNhYmFjPTEgcmVmPTMgZGVibG9jaz0xOjA6MCBhbmFs\n",
              "eXNlPTB4MzoweDExMyBtZT1oZXggc3VibWU9NyBwc3k9MSBwc3lfcmQ9MS4wMDowLjAwIG1peGVk\n",
              "X3JlZj0xIG1lX3JhbmdlPTE2IGNocm9tYV9tZT0xIHRyZWxsaXM9MSA4eDhkY3Q9MSBjcW09MCBk\n",
              "ZWFkem9uZT0yMSwxMSBmYXN0X3Bza2lwPTEgY2hyb21hX3FwX29mZnNldD0tMiB0aHJlYWRzPTMg\n",
              "bG9va2FoZWFkX3RocmVhZHM9MSBzbGljZWRfdGhyZWFkcz0wIG5yPTAgZGVjaW1hdGU9MSBpbnRl\n",
              "cmxhY2VkPTAgYmx1cmF5X2NvbXBhdD0wIGNvbnN0cmFpbmVkX2ludHJhPTAgYmZyYW1lcz0zIGJf\n",
              "cHlyYW1pZD0yIGJfYWRhcHQ9MSBiX2JpYXM9MCBkaXJlY3Q9MSB3ZWlnaHRiPTEgb3Blbl9nb3A9\n",
              "MCB3ZWlnaHRwPTIga2V5aW50PTI1MCBrZXlpbnRfbWluPTIwIHNjZW5lY3V0PTQwIGludHJhX3Jl\n",
              "ZnJlc2g9MCByY19sb29rYWhlYWQ9NDAgcmM9Y3JmIG1idHJlZT0xIGNyZj0yMy4wIHFjb21wPTAu\n",
              "NjAgcXBtaW49MCBxcG1heD02OSBxcHN0ZXA9NCBpcF9yYXRpbz0xLjQwIGFxPTE6MS4wMACAAAAd\n",
              "iWWIhAA3//728P4FNjuY0JcRzeidMx+/Fbi6NDe9zgAAAwAAAwAAAwG5pYX/dnfziCAAAAMAdsAW\n",
              "Xt/BCR/n8JgX9hX1GfPRM2+lAyqicmNt03PQLVoh3RtlexpJxqjo6K03EFkOWhGWGJhrxWQ4jnpz\n",
              "yeuUdTaZvbP8jARZhOJy/kp+Im5O+JUHzV5w0wqkD593d1fppbD7Ak/xFpWOB8oEFALJtkUpeAIK\n",
              "sAvA7hmz2GrOVuDb15Tmhf85Y9XdIJg0BeNLh1I4BGuHncpCYv9HBnU2mKh3DteKfuu3fcWzfI9u\n",
              "MpCF8Mr9GsHdrcxzgmzodlL8rys1EEGv7qZt0/yg+ZP489QQue0s84LZtSj+X1O/YoS212PxPMEr\n",
              "Y49dBhKxpEo0v3c2yYRii+2xlBBP2K8XQSepSydaQZKFnQwhsT8DtMpmL8X7CC5xbP3rGsXn5L9y\n",
              "1ocm6/nz+pzeUgT4I6bOa83N9/AQOI9f42gJSfr7fAvAhxEKyOGlE6nktBuTCgVV0zmqkWwaYxMU\n",
              "K2DoV/V/xyhoII2B8FQod3yCsVuM2TQkF6kr7bGJ1HyMBEyttS9YL2eHty9jnMDSkka0i4MTEPMd\n",
              "NRydPPNNcKKc0AXHAUg8zDXGPwI4st7MuOTZNlmH3MXvq+dXHxxWoItKgbm+1+1LrzpmG/qM7dUj\n",
              "2F1jI7KG3tk4Gb18yP0DsZQlm0XajdrwEUkhwYOkG1qCSRJYt6V+/knRxoX/RAsPxlVVb+COll4s\n",
              "FvS0gV4Y8eXSG0OMOQ3MM7nyAU2dj5ncwvGp5owPybHDATPsdv34YmGASk5swG01KT5Z5b8Uw/YT\n",
              "0FthgyvHPZS6axK9SPVkiARJPWdkSNYv1uTEVBOmyd05Ba6X0wemWRCEIknQkiOqYtp5Rl52qriq\n",
              "ZQbO1eft41rlCXsQFg1RHJ02YLLSMDzprVxUd/4VC3Gtj2dUIzS/yjNz3RlAvjPxNOi4MkcbDnye\n",
              "1xJfBqXH1wM43rpQxOkGPIFycC74DXe6s6iLcXsquKfzfqK3Id8qRYK2Qu9TG8XSeoBdxK630mMd\n",
              "R6fqMAyQijf4eM1pdUVDJBNmLQcTxVo/0Wlw9jSpQykrr/dmocyepqihcUrCB/vXyeCM1e+noe4y\n",
              "ySM+QhA7+n6df3dPn0fagP3bttHOS4ClJiS/RZMeHfTrmoH9iZ+kWztqlg4wof3i4oU6Fbr8d0fm\n",
              "TqDnqUve4UnMsjxz9u10wRGnAvjkchkTjrL8KfsPN2atA27+48OdUqDpznTYcPgZ/7kA7GYAumxF\n",
              "srQ9f39lvyBgp6+I715Uh1jSxaoz4f5df18aeT4MVGg/eUfjqknxCMDzjiGSSQZ9tEk+tyzBsW8i\n",
              "wC+7TLmP4LT8Cb8COQDK9d7xSt1s3hTdyydxBZdPckx5gcKI0Y4gfoM4A+Tvm2dGQ2O0VXWeUpqh\n",
              "h41PYYiEBO5kigfvFKFXyuPEkwGH8tjAwtA5SAr+FnqtAskiOH448nL7EmrUIE4w+HsU+iryVr0I\n",
              "QgBmDwkiFnRMa17vvUKxBVdTW/6n0R5vOC/8W3vJS9t1MH2V4mO9e2D+Yj8yxPfaSO7xA4UtFnNo\n",
              "fmIHwXwRazx8uU4h/d6uun2jLwsg3AXZQrh0hYSGLB1OKg08p9aDPFwldtwzXKip5pwOlXZmKkGc\n",
              "ZN3iE8+Hu6omLYerqbo/jiDa6hYULTV/659hNDoV99GjOKLtrtgoTMUVrSrUbNGunAWQkW4MF0x2\n",
              "7fA2lFqpSlfWE1c2R5cuxAf4WPj4L+tfieiNHMWFdSQM30I5lPEvVgEqi9MhX3XBWZ5FVYpNAz3T\n",
              "nu2C9dXeGpBgnYtNqGoWznsffbjJnNVjI73/lgLO4+eYM7BPOJ5kcDqNmjR6jT3RbQ5yZsOUjm2v\n",
              "ftjNSmo/Cel9cwwq7VdEEKTDNqqRJsXenrpf/hLPYU5KEXdF12bR7AdcbLcG4jWuA2Z+Fekza8Ka\n",
              "ReHgmpBJWtDMAm2P4mFCtISbDp0tASrrVmZkZdKQW08SXF4MdvJdqd16nPSF048FUQi9vv+0H/tT\n",
              "DhwDVfUGeM+Sr9b/o0+ubwU3yhfW9pjNrPRuzAneCxgMH3J3PY/Puc2GaxwTzynjpRzQ7G2pA1Wp\n",
              "dQqZ0PW2PqIwAbEcDfEyZTMA17HI4JUhQA89PDeMoISSGQJ+wM4SWKCh+xcvDEbPh44KuT2isS5H\n",
              "huzDQbmCiLHjSbjxgnvj6h0yp5pRAIaqxaeLzcTUv9xh+l5ZqVRsOqdEq1rzj/LnxSkhXFiB6m4e\n",
              "mkA8e3JTEmPBMBOSN36YVPU1ZPRApf0pL/2V1/P8SqA8wTBVIKmF2GuEpZ1hMhlzMCrMtkA7elFN\n",
              "2ha+EgtfDRpXMWDW18jxUwGbXaPmA1HKcbW45VfBQlX/zqxfTRb5nrYqBCmsoPE4DS/V4OCaKw/k\n",
              "HoIl6YX2+X5JolR7ehYspDa2/nYAhg0W/z4IeHOU1JIERWbeJ6p8ojB2NyQFzXvlq4rEnbJxbBYT\n",
              "g3RIaKDRXBZBOXcki+FXcf6cVMiEIv20SLqt9L41E2tk5zDlSgPracR92jwKYydYsiVSdzDARAPF\n",
              "hF3DLHaAIqq8Mse58ImJ08soS3DgvSTeBY68zEEjfnz2kzPXl3sosEaHbcxm+iUHloxuRJgS4K1K\n",
              "CrXXWJXEPOF0RIzEAfsROwBHQkcnv+bUjcLoxSSJl3SiCWk6JZxlyNViUr9BAi69HnBhwKOPo2tj\n",
              "ss4+pmiXpyPweCfB+3VOp9kuv7A+iDeapiCrJduW/T1sBARdebXnwptJv7TaSNzWRb5Cu5hASvd3\n",
              "uQ49Ty3DsSlLgmzNNZqDCTaV+k5UOBFGNoYHYcdz2eaAWM6sWEURJbJ5nf+2BCjLMxGJstU0AWoL\n",
              "YBWIRhLwpMv1RrM9/IYTnrDBCzCAgLVBE7SSqrCGiH3aVrBXnQ6P0wZ8/0CcbSd08wQG85seeYH/\n",
              "771TKLlKM/Zn72nf2aVrPpDhxSRYifF81NTvX5I4pGOIKpVvUxEdqm8F+O00zB9+Wzu45nGjw68S\n",
              "ACMg1N8yyD4YRomQMCuxTQMAsRS3/hx6WY9Vk8FCHWAXi/pppfjZQgqIuQ7KIo+wJEaxjOVQ4gp4\n",
              "wsIMohCOhQ/HTnLi34iix5WNfd9DtnvQEh69fcb6J0+VvMqopnAY+Q0JD3mA6y60OHwPSE6p2nUx\n",
              "5LV24gLLesdzYN63VQRLTPuEhdslT763DVIwr/f2Le2H/s/+X5cN+lg/4hDEMkbXbYbf9/wzg3Ed\n",
              "VWdGaz3bz6mQUlP6Fk0wcsM0vvc+KyxXD7Fsltd04mnFruRS1MfiCiK37FL6/3qsF8QCzgP23IRm\n",
              "ImksB12ZAJZDQMEyugYNbDdECkcz2HqHcXIwtvnawyvU8i1heLFzsDDHjf6rPUp82ctFZT7aja9d\n",
              "gmIuyAvXU9n/Kyh66aW0q1IYensh06r80GpCjTgYw//W6d4DHfl1Wy8VmXWZt0d/27GHJnYKa8I9\n",
              "EjJTWPyMVw8Ik+skFwgcT3Wbszv7047e6LcXUyhu7rLuPm2r1HVD9oG+4/D9VsAR0+WO74PXZyOZ\n",
              "len+cMaZH+8Yr10HJKEQfsB+TCAOIwEDKpIszlff2otN1Oez9N+xw2c+T/f/22qif3VjX81z2vW5\n",
              "VI4chAjh9f6a6pQ2/HVpf4vplQRAEQ2YscLUW8CNQWaWwkzY3eUJ+dL1kWKGR/fIuX4r0tX7XVYR\n",
              "FKyJGB2X6I22n/U2y8SniKqH6qLvco0mHE3JpwsxaQZ5OXvYSswjGdAR4T8wXEDiOwd8tRtoGKb2\n",
              "dnjt6QfVedP60PBnmOPCq+9FGG/UNHP521XbEWN6ZcqJCFl7SNbggr8iNzqReGLnmnm32pXQcEDW\n",
              "xywfxFcPUVhN0z7zUu64YOe3KCe7DSGibf2zmK6A17P3dl3jfTC7gqnjLwbA3jtaMUieyPI5G7iH\n",
              "XHxCSstTwvBQDKd4jBKn5FfYR4+SGXaUlwcyqrnggcwyE7ZbPZl1HW75re5z5MfuqLMtuIomOWea\n",
              "/f01Ww19qxWHZNS6mLx2aWuZKibjYlnMuMXHeValyKn8kGKEn5ZXBVoGEh/9juuc8Ydf2W4RXoAH\n",
              "fwKw9uHc1vbYq5ddA9ZPaAuzomGDKO8iSAzKt2Vum5ip1wLTs7a+ZtnelC0NBW0tfhmz6JHqBlSV\n",
              "bIrWt/n4hIn9exEFUN1MxywOKuxSWqrZKZNpSn7eDT2b6AQ/IuV5SWRMBXhQwv6bWAKenCexLlBQ\n",
              "4gT8dvqKHjSVy4howM5eiJadt28Uu1W91gi+jLQHQdb7gbKwEUwedQuTb1jtDKQqHog3eTacoPkM\n",
              "giyv6UWWZRvRK+A5L/iktSx64PBLl+dlQRIGdcyekfl0LSvO8l0z8INfTWEK+Z3a4J4UlwI9z0K8\n",
              "wjcDXAkrbA5+4B41f+LK+rGOmH8mCxMva9YG45xvYSqo7zjKCCdr+86XLFBkCBB6F1NOlewMndyz\n",
              "vFy8IWlWPteBLJE4FqDT8MRH1U3akN7mG6z6WsMfbvheW2Z759gI5XLRu4wzzuWgIgIfKKRFUK2j\n",
              "XaPusBN8aUEkhws9GHq8teYC2gmEcviUZbWARJ12/qUb/Iwz+Uam9UvPdVHqLwhh/sx92L5auS+J\n",
              "C2Ph1WDLd5QICBqNYIP1YdqeR/Vi9+c2O6Old9XWEbuDsgFYNYkrs5vf02YexdrrmoyrdcO3UslH\n",
              "jpWkWTRkvupWcUgaPHze1Vl/VHor7ll3y3bBBb5lhtnlSQwHj5hwgN2UWax4BAYciITAx4JH/wRD\n",
              "YA08M4MXLXUTFMTkWq9qPNvasor27t2epOs7Ad7I+5QpRfOQjz1VYA15PzisDa3FsOEFAffygBE8\n",
              "ZRGFrSO1gDtdB9keXs9OeD+BZ6TuCs+3CTM5OajLYTO0c6hcqBXqRGlwpGRrOxiP9qMJBiegle7J\n",
              "nEYrcM43/cL52nk7DGcvTPlhZkvCrqMcLQQdW7BCwlG2wlm+TRH3L1K/8jLQDHjioSoWWf2oV6H2\n",
              "821hL6YAAAMAAAMAY+vl3wLvi7vbfko02wGjbhCbeku9SgnwEDpmAuQvv7dRnq2Gw12YYQy+VnBJ\n",
              "jOyC5dqcHrty5l8zxaBEjHC3rBaxzbZFJv3YUjK9Po6T6H2t62fC0lMba6yCnO05ZoAri4LS92fa\n",
              "tmzPfTQWAVWDq3eb9dOfeuyYUvulNLm5/m2RpYx7AAtqg/Vqcen0Kb04/Mujt3tdmGrbVlkroCzF\n",
              "+lYtChvayDElwHMl5K+N5XTHidO6R/MR43e3neJXPAAmwE2bLlcDzn+UaD/lYzI854AgXvmhkNm8\n",
              "3QB7oQ4EZ8vWv+I8ge8OtunOkUaPaB7sDNQtJYun1kkUpKM3mqynUXNMAgcEtCoscLtyFOM+53Q8\n",
              "74PH6R04oFPVY6LxsGwuTUA5TibrJ72J1Bb6w15JIAKdTQcW2rg9sRX+97K+kerzseKnKLjTaKd4\n",
              "ZYzeXOpjet/bGgAD3bocG24auITXe5GZEdB01j9SVXoh5tD69zewMtHlVbjmr7PXHgsaKAmLVjmg\n",
              "UFNr8fx/fvW48Op21SuLmd2TAsqBIIhlGLQGbjz6G31bRVWDEPt/pmG+o4PxXt5Rdbbe5c6HSeRS\n",
              "aXV+22qlt3q7XYnAJtmv7Bn2n9+UY2jAiLEgTnNhdY5EDsgUjF87P4bgF0FC2QtloypZsTmHA58Q\n",
              "Z4ukZq8bdpoC4hEKqaKEhx7tg+79Y1LUcXqBDc0eEhUti6QC2uy3UvDoW5bK88/4XmN8Yrz5eemI\n",
              "ZSsOOHNFPlnJTbyoecEJASa9QqDLbeg3bnQHU9tdG2MxSjipYUSQpYp27E+CAKjVA0Wvajj8uSXD\n",
              "7mgiWQC25Lcfrb2PF13/67CRYJY9Vice6prwWeekO4pyEBR2+jYLkSzlalxFOS+OH291hFwl80Q4\n",
              "zQHa66UrGO1CrIF8WCm0ivB5vY0m7+eo38AlIXc4zzAfxieBijs4Mw+0Xrn09xJSR07Kt6VrXfF2\n",
              "3xUalNpuXK8UNbyvCkGBU8P4Bsv4Ed/HqC9DqnRsY/ji07GhpEn7Hi017UK3ndrH2Dl4sPggZQZo\n",
              "NXMi+8NZQpZ5cGJ6WX9rzLh6HI6AAizUsTE66zwGnw2Bnbg+IcJYR83my9UUkHQdrDlSF/Wdfmc7\n",
              "qHWwjEXvxkFwx20MuP+JeUkPlfbrjJPrmIFfBtDex3q3fFBIkRJrN/0HRrfJJ9Y4CZoCipf4AfQq\n",
              "VVGf1PVm12wLPgbrDfYN9rx5WYOlgHpyWPEnszV194sZCrpkC2IQW27bGcf0eTwOVI9609edV9xd\n",
              "wEPHgi6ettYOScs36vkKDlPOfTG4RhdbX+SoqwQYbSsKNDztBOjkjj56TykkAFvC4oZt3OQho7s5\n",
              "7YjhTODVq5WB0LzIr55vvQNeK9wJ0FKn9hqixyl6mhaeRYRX7TXh+0nhBU5VMTElulQ9+fOur/qg\n",
              "1c8J9yNuCHo/bpGmT5TXFFpUrhlBuTOwGkgRNvrMzWQERl8rx8moNq0HMe+AMBaj/uy8QzlSnJ2s\n",
              "yQYL5MpnWRkjcDmnsR6xnY82IC9AtVn/kW+oSkXDDsQWa24s0gu76y3k0XpVP0pRHSqShx6jfelc\n",
              "ojqT+PJ3WOH8EEiX5DG2YLEmjFjENZQmfGT6UjzxXiAFWpQhxmhvlUb0bNSg0aTgGWOW0l3xZPzS\n",
              "7WWL7j/4Pk0WyI1KVP2zyuXZE5j/RcWOqy0R2eXlvY7A2aOl4omQ0XCYFA+gVZyNR+UiIdn6TYpe\n",
              "pzdar2OxntrsSEhsW5qmz3aYqtow0BwmxnaPThUQJBIn6VAmuUNV+XKeeoI4FXgpFeU+hNs3FqoY\n",
              "Qh9yOjGpEixSefecqNhrnOm6VaU1WevENuR2+twfbbqpdVrNN3ZxL6i39ShxZDpeg4Mv5U83jZJR\n",
              "xoWoV2A5lMlN9djJ7XPKQAJnUHY9252EArY8G3rSTL+Bh296VrS5YwRtzszyfgmoEBc9Avw2BRgG\n",
              "hd+QSt5k3K+t7la7Ek5SvoTa7ZwqQRzkR7pwDl+lnpp+GwrNR3Y30zYniDyBfUG8MbcYfUmxMp4c\n",
              "thaqiRfjm3j4lLRZ+4YcbhHTb3dGG0sPPGHyoKz6Gvp/Z/A6wAKWJrKIVktrGmy6HPRPt2ue8gEq\n",
              "h5qgRNObkQXjvT+uY6iEXLJd//+8ewewUnoY8z665go4IejiUZJN3UWvTMJh5uFr6C3SRMLnUOhy\n",
              "uf2y8u5SaDGUXLeOmazTDeowwB81ZFV8Rd4k/6g4AErPZuY0z14+dELeHhnFbhwWsfyNdtMNvTJ6\n",
              "eoaAXw/I43TIzBka/RhN6i6MlHeT9vtqP6y5CzGUoxVj7BzbW6pCjx/9BgoYSp+lA2xbsUA0AeD7\n",
              "1LPWITHvp6A7t+yZGjpR8gLVRVW1vcyTMWJI4Q6GxdxAHfpsZ1rbYy+BqRFfi8MpXo68VNyiOMVg\n",
              "t3i+GP+qEbf7sCnbpyiCdzWhXIQIkpnRy7SwqogjN92aweA7RPBG3zyptqF8iBckm5UmKjEGI/ug\n",
              "GI9vusdJFvVbCdFE+T4XtVJpcTZev+SMTfBGBbX7MtDPv8vQJEVIWOzkB/n8gHKZLHSXkpdYwcMJ\n",
              "wPOxaCRd4PzM9HElddHB4GG+W3T5DASQRcWauVBm5N9HVu7M1YH2cwOAl5Kqk+IZOuqUQRgRnKZl\n",
              "eqeKfFzxOu7Zrw6u/1iCBpoJVjtdzwHWWLYIzNCiddU0FNeKA6+W1/tIJ+LlZ1ok2OCew8y9EOi2\n",
              "3ClcVn9azpO80bZuOI4MjGwTN9NP44+B6G4hb3Y9a20znV5XCg6BZB8aQIgjmELL7WT19vl4Atr6\n",
              "WdwMisaXkFj8Yby84T/I3hw4VCwrJCSBBCp8TPkJzb2/uQ4tjhRO7bApLrWfNvdJl08qQYw/ocbV\n",
              "Eoti8hcRGOdSpttB9QNhrp4j0geMt5oS3C8yiboaVEXOM9LKsPoJs/IYA8OubexR4pInYaUfLLWh\n",
              "oKxMz6sIkLX3Y+SHB9iUhjHkZgX4nXJyUc6FD6uIFIUTsXmEX9FYAIn7EGUfKRrRt9d8VFq+r4v7\n",
              "SquovYpdFVzaLMNlkFpb6Ng0ZMnKU2zhV6i6PuITGH/MAKOKAORuNIMY1txNW+QRz1hHXigMvPr6\n",
              "+5JXtlPla+05DlmDAdeoLiknKJh4rGu8Okl0MbvlrqkdyEX/DuGxwAXhaWR17rSBy1erMD3lHXcw\n",
              "Ioea0nnmSLU6Cq4t0IX+TUWinJeXx6EkpdBZd/0BkG9E85jN0HJ2YB6xlmLgf/kxyGhl3DUD6mBX\n",
              "64HPIDhCzpcyR4Z3Tzrm6UqoIUe6Kmc/U82d0ukCWJutSATjfcPZZsCVF0Dsv9dOacjj8kPD4t4i\n",
              "3/MtrtF3SakVQQoLNfIj60lnkO+vBrgIg1ecYqLmK9uvKOHsP1VlH46H/3DNXOHgzH0tkD1oRU40\n",
              "ona/e4N9TFXsbyGyPgEQgcKv+0P48clJIJfBQICK/8bmgGw3VWBTWsY3F45/Tw6FYhP+/6jZR0C2\n",
              "oIlAidnhmmyKEpYPGhBBGNCKpBsqG7fxpGEMz6lbycTa04DOVGPv4D/yCCUqb/maAJTGCvPCRWsz\n",
              "uToM7Ya/cr8dg8mZ9VQngDvMZO2UdfX9YUqKElUPccxX+pgwScV4+MQ2DMRoO/DkY4lZKxghEHK7\n",
              "vaFgvMEIUHDBFYGq8lI+D0t14uylg28Q6R35eR+Jsuz7q4djnALB0AksYsr2WjiVM6iXLioJcgR5\n",
              "kvHokc3QsmjAL0DQtW+0FFxeJa8bFkI5J6wQc0+sP0PAZKsPC4zmrg7DTFeuvscFKaWdkafhY8y1\n",
              "AlcRFdQSlvKLoZfxsDzW9cdckND5UsDADe75mLwSArjYNqJxElpZr34Do8uq46vGwZg5ROl5SW9f\n",
              "BhE2NqU6X+HPRcc9lHmed52q2ZuQRF5lzJMOtkjPHlDbt4JI2YegRyA58svMiIHlwmvtqOvUcYuw\n",
              "bo/VU31eXDnBp0zp1bWJ1w+BPm1sppHXewcVtEwaje4BEjtWXyLhVZi4gyJ4QXJnVS6hj0sTYkU/\n",
              "uJZgU659k3wFUCXe9aPUyc/kZSEIAmKSk4vfMjNWGQ7/OJWPUcpRZhN8FNaFEMZOh8DZFJnZ0ikp\n",
              "rOPnQNGMeo9yRN5kkA2xbBJw1K3Jx9sr2qaFHwTjgeWRF+mgIV//SiEYbvXCAdTB1Oe8cKpeV3s1\n",
              "YGoYLMPrnrnd//Oz6o+UXrL3PCr85JCRZrgwHvxXIb07MRSV8V97k4aqln+wD/1KRW0SjeLicL8J\n",
              "fjbRxc/f0OuprJb5O7x7xyBuxiuNhwtKKXygmHBXPspyLF2PIfJt1PFfUNFF+y62RYFAw0I8Q60j\n",
              "sumN5XisANSou5hHHqBnNauUuvJNiGcY/1O8aig7AlwCssi2tCC9tSbI9eQTHEnpyASCZfl2kORD\n",
              "o6KG1GALuOE65NzICX7NAIXANOZKdW8eHKStSl0PiviiLHTD5RClBZS6F2y660kAlEHpf1LpPAwo\n",
              "Gcdn4VqG/QWe+qsgYbRcNjWnKn3mzmcsBQ9bOSUsKAJvVwb1bq2yMWoGq3l0mIlPGSed+nWo2l6b\n",
              "FZJaO+4RbqU5s87r77O9sGXSiQDcUbd3Z3rrk+xsUYBz99wZXH6L/TqxcMi7iQqtmPSKwcOVB9Mq\n",
              "Poqpto6aQdanT5el8JRuh3pwwRo3R2AcrhCQpCfon/XSWXWH+Kq8gzukGkk7auTCDrAmrVsQTCHp\n",
              "wITNSbMtaFHtKcpKU0aL+MlL49ebqXl9MdGdpzyaRjuGHaKfelK89cQeiMBkiwJjGp5fGKqKdp33\n",
              "2RTYn+zBJrxR1IUogZNSnytZ2Xzm/puv2YTZWpXb682eVsICNZZm680t8D6BrF8VFnKEu/TSaoab\n",
              "uHWtpLUU/Rf1JwT9i4nS+6PKRt7eIBnc1RJd6I2/B4GPXXIqaSGKqJcIzM2A9OVmdxvhKfpPBOCi\n",
              "qSPxqHljfUcnm/nOmqPWv0TJhN6WSZU95FTLkfn/BrfEj789BNXBB2VOEBnoFVoCkrOycTHp9zs+\n",
              "PWVynCGDfEHQlqOU6qtnyZSiUI6buSDiKFE7AsdfNmUVQ1AAAXEAAA2JQZohbEN//qeEADo699sS\n",
              "KRYAglqmJhxP5LBdqqujii1nTJp63OtCbxVpTO7iJsIRgesuu8UPZx1Zvti+p4m5DCbA4Y58Rl7L\n",
              "yCgGsnAy38kMIPZCMOMWId1j1OHqxuVxfogBQivFqAAf42sCXV3rmB3vvy5CH4MATRMuJ2UQxxgx\n",
              "grzZXYKUvhhW0G/uJlCu/gtETfRvsKZGpyixR4PSneAhFxYbl6kFPwxbfH1gvgkmAZggAMCp5dSk\n",
              "H6JPHqVaO3opSM7dAB4i9lXhqQWthZZJaA7Adu3tsabdArkMUMG/0YoumnXn1T53EC0z6JpDRtfx\n",
              "Pz7q9Dg0XkoYyWi/X5rn1zC6r/eXcyNKh8DvUr3ajr++M23t6UgVXhQvw05SW5RIHhcsvqQrT5bP\n",
              "ck0CTDOHYiHzQWrf0rHLrIWFj6VxxEc4T307Oa1lUxaXn/q03pSsruWAlVoa6nToV2f/8eUhqAEb\n",
              "si289HpOKr/8wws0s8FZHxpi53Icy3sKZcGJhp+hwxipWkVy0uLcvyVXHAxu6xglw6O0ILJ22wl2\n",
              "bSfxFc/y66iyO4w83meTTRN/HLSRziaDnjeYYONy0ivnRbGFVOHqNXpOdKfzg9T5IClqIIWjaIIE\n",
              "PTsypYzkOcdk8OkI257kSh0rrz3oPTtx1wDN6gTvKy+r5I7ShcLbp5cTsQfi1DvGQoUjyRzzrYxB\n",
              "zQGzmwPvPMD8alyvjAFj4Q77PsoXNk78duRj58bSERWWvJlihdBfQXdv8TkVAYQuy7MxJ6r5iA+c\n",
              "J7mTzZLq199KsBZSaeJNRf9p+GAxpDwq/ANfv2jyAnsAkXsWlY3Qc/JDnU2Nap30a7nDC1GqzaaO\n",
              "pC0muHtiluewNw0jfrAg+3BiO57HJ3TlBPO3UqevxXsMPq3N1DhHT3Cy2QatTmOLY+M7W8TWSKZL\n",
              "pqCPcBb3r8UBIZqLAs64MxGaiLl2m791TNo23JFgwFDeHlMd5p3mVTUBV/W3wP5D4COdu1qtkvAR\n",
              "d3ouCGyKf1OB3GHM3waXiYryD7CfmgktjpSQGb1ff/+47xTQKdDusRmQLCbEdgUcfoNjxXz2lb9d\n",
              "HRY6McPixaBhnNxVYg6LrJhkw9KjL33O8Y3k1Xx5vbPqOdbzoiaisyHfulXfAhiBx19A8oDP6pwa\n",
              "F7xmcm3zzCzrLhoDSIDitq1SVOtyKha240Zsmj1LfswLoICp9vk63yKVT9+SP93jo8Xw1Y78YNgr\n",
              "sG+Cv4w2dGYW0hbPOoBu2hi9/l9etL9eipscHm7Ijo8O5tdR/j8dcMxMpydB8PPagl0X/KmeQb7b\n",
              "/Jwmcr3wcyYJamJOlP5QLJYm9XAMU7DHcO9HLZAscH9fEls1TfnAQ3KNShftbjBw/z1ahokMbR1p\n",
              "zY6VKnMUqU2YvmMuXbcKwYpVDA9BeFucej/raApzeIitjM3nV+jf9iM/q4r9CsUCyIQxUh67Voa0\n",
              "m9f0NO8YnjwFzc3CHQfvYYCoT5pfE7oTwzDvjyriScS50nipBjAqBjWw1qQ/NUm0TAgd61xCzxvW\n",
              "dQO/oPNTktkxPtORqG84YEQnGwy1/3jG7VOWE6L2QcbjNcvyLa2Fm8Rj1HwfphBztfDQgOVvzhx/\n",
              "/5u/oPRc69xGVhQhYVneyUY7nLIFhcIqKS0PhJAk8o4KnuV7T5YCeeBgMcCRY3K/BVbvtLpQ7bO3\n",
              "ztpDSFVZ9K5opfHxb/6vJGnLtQKcCvZ1LA3dffRFqguLdWiXC51R/mxXyOtl3StMVsuU+RNN348l\n",
              "GkzwGRTK+3t1pZ5LQHDzcLVAogwsACta+zGUqRzXIm0YVP1VoaKTlR5HSnwxDGfvsScKHNrLWLwR\n",
              "adGyVsROOw2BRI0AsocZCBfchQCtCwtEirJrVztEuPGAu5TVTaRewmIFYHKDgn5zCh0xHGPG+2GJ\n",
              "ivam8Zfu2DxPFu1KswiSJVJk9VyPmipmBuUwwUhPiUgoNr2HSJETdjZioZ5Pb6vL1jMGgiN/0F9Y\n",
              "w1N8BJwa6ELjhCahwDik/YKweNnDXuGij1KoeUJzIZeOo77iveTVICli+91qSnRFzdJHSW058OTN\n",
              "9hU7hU61VdkAS8bJOFl/QjK2YsX4UuKLGBsqxSX4BtAi6PUh2RQ+dfvDJ6oqEAq/oK89aFCjpTYl\n",
              "ejmZwFta2z4j3MCV0c2VYchJCtGPLJAcVpfHT2nT+n1yuYh+AM0szKYwHWKPD5jxlH3wBbpvyB4P\n",
              "e/QMFW0KYEZW4Z9190gLlLPjhlhv4TA6qZMrX384yLlYpY82Qe/LclC3hA6pniIZQuy5VXbZBKTc\n",
              "pGaq/7sII7ae0Tjq3GNSIgM6MJ2owPyVFjAxxx3gO6lO3qJ0rI3UVqezvOddWJUWgWhqGLXKebXT\n",
              "pAFsOm3IOGPhGrkNmRWlgDwblvxEd7RGs8qqMUvTrLfrN/v6ujs1Bo6FMVxa4MmpDVkr/ly/R6he\n",
              "9h8cpbY4vucF2mN2saXi/vyxp6cfy/0IUGp87n+oLe/zVGWWoW7e8anJ0UkndQCc2D7rNLEYBgrs\n",
              "FNb/wCKOUuVr7/r34s8ent7IqzUerY5gcy2Us3fez7G5POqtaTC/QSWT3fyfpKh64dsw4s94/UYd\n",
              "dPrFTI0bK8/VpsVhAa1xj0z7rA9nmYFVB3Gw8jORQzAfJQijF2wOL0TBX1EuifxQl7uozDgFE2Yo\n",
              "My8cHvWyVdgAtFuWgjo1Fe0z7c4ePV2aETe2EO/hoBQNS0PTcgCQhb0ZHpQn3X+0w3TWowf/dubw\n",
              "VwgPEKhQq8ZKXN7W3uUJf7/MsAfmrckbOl5dM66IamD6PJEjaER5XA981GFiBq39Pn9MGHEP7IgW\n",
              "p9PlEeZt7wt7J8CaWY0rJjL4ymHzo151f5MbMFStFsWgEjq8alRyCJLK34Nv8BR6x6JFHOBim+KX\n",
              "L/f4UAO3kw23Nzn0t81XPoSJ1ipOTJdpTxbcHHgfZkDdG20LzIaZE/uWCPO8AAOnTy2DKhLW3/uC\n",
              "fqk5OJ4t10/nC4CwfFbcE96sZirlwPck+rQyF3pDiyDicABstkBF2mjBwbJ3ojiZLs77hvDi8Og2\n",
              "Nzxp6kO3zyQwTTzHFtLCaBqCn08lAA7RSE5OPkl6ooIVVX+uTpV53rpR4D5KHajNGzY7yg3aMebH\n",
              "WGZ8FGDsMEeff/9eGNHzc9MbdrWvCE5Mgf7NEVNgpds4ejd90KaWzD3qd3u8PUzb/gQ3OGaylH5s\n",
              "Za8deXUKW4u3cakc7G9Ka8MarAQtYZRDBcsZT0ZX3y+FmxDlTMTxOSsZq0ll4knjy3dsIzZ2Ax4D\n",
              "5STeKI/nxwrX7r/Zcx7hKOkMD1JRn5mBl+FGul7iF5nwbLcICVhr1mvzPMi//Az/eQK5EQSNlluZ\n",
              "e9Kd8VhiYPNzpRbuvqMhvHE9P4MMdHee0cm8U56r2FJ90IZPxHL7jSq1j2Fi5HRQ2d/Lhh8OoJYA\n",
              "vw5rNbn5SEoN6Rso3G6CmETsPm80bMtSWgclbTR/J7+JhMAvu/HaCk40QZCYqRXrWEX1h7zE4d4w\n",
              "b616N7JFHH9Vo8sGfXQLf6JOfjeEVbYYphdWNMM8Ik6lF6/Nd80qvaTbFJcfeAc4p7SEv2K1Y3T9\n",
              "gCmE0EuYCyD/gJ0haLuAMK/Cn6iXMRfpTrkY1lMDXXjba4vJzy/Wr+mO8jf+m8o0fAEEe3Mft9AW\n",
              "4ozJNZysJbx04FxfCrK+Ar+WQdAiL+sM+6MOK8rr1e568pZgty0Nd/Funnamb/56FpPvRSqidcRP\n",
              "sg2DdcAgNfNZmFCzPHcC21H7Qc56/VC6osZzPkIQH1j6/FXDGfam3dif3eKAP5slUMs5UJ9gyuSv\n",
              "ibxQlNJS/CAAXJWQBRkf2phKCAJEakvtj2Qzs9/5q29OB2TisyBHAsB9Ek0ZyPE2vNj30J1Ty59b\n",
              "n3pXAPt6bgUoAwI20/mhoGADxRepWHVC4kF3pZoVisA5bzK9q1cxMgTQ+7p9SHTeISQU5vmqFojs\n",
              "Da92HJG9pPnzX4AFpzAIqZArI9LXAyGxqLSZ4ALIocWOahUMqthKDHjqrYrUpCRLK4yxrpijdGmu\n",
              "s2szHBXLL2IB5RXK/pw9LX6bRViQHu1H4fO/N94H5scc9nVy+k58OAWSCzxymbnkR/H/3fnPbUPE\n",
              "EjNEvKl+YyXFhP2T9SeGxsm6xw++mPkYiMb/YLnfiSHytXfyMhHnQxprF5GeTT1PVohRDkkECEn5\n",
              "Y7hnI8zBZNXOSso7eiD/fZzTk0piMtLLb87yIPmzYwrCp6EpL96KjVXd0Z7PUEtueq1zHf58BYgj\n",
              "zBYNzO0hlROy4ESez+KfF1LLONxPOSwmG44rh5+rw0tTGV4jXPq8WYk+J+nsWiUxvItqqXu3YkP4\n",
              "rbzTjaWDPtIz31BuAhw/8H0wMjtHKxBZNGWDB76VTzCrceykXRCORlFsEEwNpmYPzo1LyFrPkvOL\n",
              "3rWOGmZ1OI6PE4WX3e1qHNOYRMkroEQgW5UR1Hx0KksE+8WDKtX2BFE89/KVQBfVxmQYenkmD/OH\n",
              "jbYHeHqog7q5mE9bAYc5iorYcIxG4WyPeiIn7Jp8S4A4GScMtTEmK/yXIaQEYYL0QfB2bVvBh5Y7\n",
              "9lGFXbrCRy/7RjLutkMMlRV/DMTnoiYITYd4OYl4AAAQpkGaQjwhkymEN//+p4QAQ7uaoBY1Bzwp\n",
              "uE71a0oy+XUDOMOUUztnwj4ugdMdfuVyq1+mzxXZWd4T3sZfQ20frxIr8dR/XGbTPiXb0bJ2MDOa\n",
              "kX2x8oHctg+4bCMiHxFw0+Hp5Oas6AP2IryIJsL0d/AIMi8ACK29XW3K7vDEwMRGfN0zHJj/K9V5\n",
              "MAAt+7BuhCAI61AX013hXveEIbqhyNJmRT+1dv/UcmAAAe3ds7KD2wjk7R1tDqa4f7Eely548jJt\n",
              "jpHK3Hs+hXW1w9AaMhsAp6K2xiD//Vp/wBJNlQGzXekKkK5S+cPgCpaDYY4lKn/NsS4z/yFNamOi\n",
              "D35UuOp7+YhyidDyN0OvLJ59pVhCSp+AsFT6FVQxsz5u4+F75XyKlbOzaRnSjCj6gBL60rEosihA\n",
              "hzzQRUW/ttoZdVeslIjwlZkWVy51A1KtddE+qMlK+dBsVlprA5U2TWpBjF5vX6Zt2yRB1w1HjGak\n",
              "MNziZC7u/qpQiJbbsRTdKi6ovS3zf+KhHDzO0XzvzmD+gY71tRrnKc2a5kP9MW0qmOehuOBx5XjL\n",
              "c7Mpf28wF+orxePDrw+PwuMWt1YUztQItgJid1DHpD6g0UvUmgkh1ipdc1RV1LtzrP1BzSsOcj+z\n",
              "9u4joQwIr4sfrphDlpABwGHSOtvsX+klHJn14M2YCDinWROcGUAiBBKPM1BpcL+wBJU6xiNQ+9PE\n",
              "S8LAO406D0j/7Mmw3CydkUvClhV18NKX2r7HY2xaOPChrHvliMYPfJEKc8JdrnKevYTd6/4RaLJk\n",
              "n+gQVzHSF2BKDrp6GohAKDd70ZC+GeS8huaWoiRv1tuN0DjEX5ooG32TmQizS5yQs0ZfhnPq1yFQ\n",
              "fZunTyJnYg0qpuTjpZubiwnTvMhNTOosqSIG0qFYkY4RfsO+CWOqdXYZDnt329wACaTe3IumTq39\n",
              "rCxj+sthMPYqYF3VYFFBs1+jqY4hpdzeov307RlY0s7FfZmkM2WMVRfGLhMwwHQIdh0IyGYSb4+n\n",
              "/kIpnZ61kH5XWlELtm1mEGm2h4e+9Q4PnHLw+W9NrZczOudRpSHZ8KE8vFAavyz2MVLMdzpW8uFe\n",
              "Z1gIT6bmxiChXnGOoYmvJwodIFxSEBVCZBiZRulpq8IUH/pxBm7AACnygfEgwOKl0YbAwnyN5BGZ\n",
              "oifW0BSZZ+H+jj8iW9xtKPOSECb3HIkLONnK6VSO23c0WXhmfIwYqmvznKCcuohk7BSFnpEOvDcz\n",
              "1Vgy2eW6lpqSlyB+unshgOtRzgA9MJCOlHK9x3Arb+UVxePCDMGl0ObKA1VT25WuJuWRt36hM4uJ\n",
              "Du81nWS2eG0f8H84i568KsyZI7Q/8gEEegDR7myzrfOiNpiwPZ/aI2YyM2kUAbpu8jIdourk7yzH\n",
              "O3VOeApoyvq3ZLkjG02RMIFdDoJca4OPWbGUEbcUG/qN+XwBZHzz2etcgBrBGmK3l+xvucZYunfi\n",
              "HtI9StmYH73j6aLHMGpuvmUs33b1hOj8QDSmRuMDUwXNJmUccZCM53EgzEcDcmuNmOwZziTaGXfa\n",
              "5ymJrTf+U29f+GYD53Pp7ERc5M320sGcz9SLvMVrZ3WohYs4r4O3SRL2UBGW0sW13N8b4HVD0EwJ\n",
              "b0vo2O+cxaFeE71WBmiCk93TCMuFcjP0/klMjyH9iDBnPAT4krkE4IRMexJP/PmQM8u2p+gPH5DE\n",
              "9euaYU3HtQxijDcx0hkCRxyN8sc5z/l8yoRh4dCvrFzIaPBvS6p/YlEC4PAVxna13fUkLRUojIiL\n",
              "zDkOwhEvbAzLJrGvnmRQ21mocETvcr8HUImcI8wdP7qFpDLE4yLX2N2YWQgwKofhLElbJ7Pqwy5M\n",
              "BZgtFqTf7Aha+iir82j8WSDgqydN7gAlYs/SmyYS+SRIsN66V8BwGYSLqvd56g+fkFA8ZFBtQwqO\n",
              "Hd5YiBqF5nmKx3BzIvu2t/tWj/6f5JQwbaLs5f5My98tN8WHeZ/73z5TkfKI4M33x1xZNRSzL3tN\n",
              "Kb+kQ5C0becIYxwsy98szyw+zTWgRlPNNhPkFbFvJEma2u/w2kPZmeo1bb6/vo3Hu8zMIZCN9zP/\n",
              "YrLfVsERD+W+TtjlmV1cZPo3TuWamku9yEvtatXuJxu69CIyVuyoi2CT0HRzERcQplH+q1quFhGT\n",
              "JcJpsqHh/7GRLoOsPslO7SLzROOkDo9eRsPEXPK2dPtv0iELUrXtycVTITFn92pwWLfAVgqZyQAC\n",
              "RtaVB0/OnwcoBlI/sJesnr7/Pqd/WkxGsAjHzkHNG3dREn5gblSd/+6JlFlUJRx0GeBdRkcj7GI/\n",
              "iY2HK5xu+MvOrR/WdJapxt6lpiHZKj0Ft7CK4tQQr0hPeV7uejSNMOZ3qHFbilUlO+wKYMEJL6iJ\n",
              "T1F/HtxPR3BYODGI8ua/IzjEx9ogtZYNI7q2CKsp2CyjZikXExtpeDDqpKQvAjDSELKxEY8UevOy\n",
              "Dm2x7Zlck4kcFhUokvGLNZOxrmywKvydfaRbwoRDMVDg8p754dg75LkJ1nGZIOaqwY4MRZN4CUUC\n",
              "RAMTVTyCLhLGKuV5EYKVp+qXE3mjUis9n0lLtK264SUhNJoqIhscZngHmHl19Fp/mCnVhQ6EXKGt\n",
              "zCOiAWCaaeHaemDF57rTZ+Q5BgEDvSd7whtppzcbEdac52AoaL+lWr/rNsX4VIDqwV2XHYl7lvwm\n",
              "KaZcSmtF5g+5JUqCuG0omlbn+6QTQ4AWDNGBtL32jqBaTSkrjD8VkRXp5ZC5CeZyDE3Ngv3r8m5z\n",
              "cnnA+rcuTsx3qbnSV+zvGGe1hFtC9BTg2S1s1cxctqH9UQmXfHtgXUG4sqd3IoEohEpSTqMXMG4A\n",
              "5xjvfH3pK87LMRXcVTH9ju2Mkf/H26hCEpMQM5D3CouZGMvVtA7uPZu8rlHA8puJfQXwJovVKq8p\n",
              "sKSKkJrsuNXfpKC45Q8vshvq1CjpLGXHfDMElQYsbh4M/Cla/m5nZ7HAQSkRKuWTsv98W+l2FIet\n",
              "Bsotaj3zylBwFtVHNY1cjWXmVJBBc5su3NkSBLdHTryrKK/P8tVp7z/Ov19yobdBYWLqq5lRsWjU\n",
              "vNvsq7BdjBXKS61LLNkr3TVHqAbuyhTgPoboSSZyPvOlR9GXxFeX8oBCt9Tw0Opx/+2usxhIHdun\n",
              "/duLm4J5LDd545MYaIQ3F9pjQIZdGJBxO0U+eUxAdRss5uxxP7htox4LXEYI5ggTkL3k9Zjkeo7o\n",
              "mQ2OEMpyWfd1aSXanXp934lHb4QwxEZE/+zT53tIb+a4ZEQBHV8izm+Nkl7jtyCJznHuGNtf3/Or\n",
              "3hOvRsKQu6Kl+9tNVViy/CIZYR2vz1gPONmQ0BO6fEptgycHslfGEtDOKf/vfwIyqIDZ61LBGSzZ\n",
              "0bRViHj/3aenGWDB47aTfs5k9dkWPVNcOUEjf6KCKP2kXcUkfjaIqU8nlrNSQFgnF/zdPNgYmKrp\n",
              "Pem8Oq5bjyEeaUKeBof74Y01+TVp7Y55t+NplTNCxf09wtkNndbiu0MroA4uCbWkNeasCjrA00WB\n",
              "E/EhtegIaDLvjlJrSmBV/ZVxqo6F7gzxSyfOgc5oadZ1bfcLPs5/xghg+sNqQHA5jaU7czdK+D/k\n",
              "ZhzYeGoXqpk8xdKG32iJeWlkNfGdNWK0+aLDNvwRRCOs6WUDYNBuodvOnr+dVTDfgB/hoQ200YKy\n",
              "23/40VBfxP1KsEodkjB3uJIcbUYmffUmcG+JDvtTBVVU6AJNl0pzeJsxf9kUsIJDUk4fX8TVerEe\n",
              "MDA06BHmlS9hFUTZA2YkgXr4IweneR80a3W2fymlhVpIuL6R1ElKWy/ISdl911vdnWRD3ZQln8XQ\n",
              "EyuIa3UuMQQaQIPMWa6Jfl8M0XF2vEo4A8iB7ELOLO8mTnXwfIucLMiSrNr1fR+IGI22FTTk6alI\n",
              "gv6eLHaFJWFe0AjolxZDzU2iu+F8Lm8bk0t57AXkmdxmAFEn9fr9HXYE+1zNZT7Zkp4Vngw4d0e6\n",
              "xhrf9qDdaEfzJAQDoRa79HflPOYXrXU38D0ZxqoKiGmSPHSGPl/I9P9hJk0wRJCfaw/vlbC0a0vm\n",
              "Pxx8pDt8XfbVIMzISeJGMHS7lD6uZrCJfWpkc1UWcy4VHar7Cjs5oUIyw/tcrlbApUgvhC3ojBXL\n",
              "qow7EmwFnKeFW4cI7yu3wlm0+/e+nrVRQ4K8XpCMkqIQQxweFuYBym26kV/TMhy4UOJ7j7uy50wl\n",
              "EnCJjfb9dFUmmNqn94/Jn5rLvIInJfkqSi3bthGSeaSdYMzIjsTxL4prR5If/boczsFKE6jwvCfE\n",
              "ieKPYn1zh9SODv7bVF3meS+WDQtrXtn9/cdYHLzRtZWNE3NJiMSqSnZtEgi2dpmiRe2S/z+8EjF6\n",
              "pWMFh2LoqgQfgyFKBTfzdIqOCsmqFRtQVPfk8F7jfghFZzBS5hMEmvOdoZ9PTJqQ9QZBkjzjAJY4\n",
              "JfpiH7S+gTmvsTJI9GUhsMayBiXHkWtmGbC3PkdQhlflt1jd1yNbYuD1Zfn4XWxX8Yc2qeDtjBHR\n",
              "2LJCCn/zw/5sbtH+7WElDse7Cqbafe4r7ZTGBJ0fa4aYj25WzwqP1ambpbirm4NliBTzATH2XKr5\n",
              "s32MrppFh0sIi/G+yujbw2O68UzmxFP82WL/GiMQ+HRNetyM72qqDPScQ2fHy0+3fiUpN5Cqt974\n",
              "+Srr/3Ix2X+H1hBeQubaF8iYe4k6JHij89Or79sv2H5jnP/1OXuxN9YD6oGROMPU4maQ9dE8aJcf\n",
              "Kf1/49xDArGOKG1P2nRlVW8HORP5sfkLyJn2xhHNl549v4DWjL0tVOoAEzWB/UDykq8esK3KErT4\n",
              "CrGo/yxmC4KohdPVem9aumXnDHFbiEotgl0cCPP0fRV95F3Z7GjACqdKlGgQalKNQBkQKRSG4XpF\n",
              "yBfI9DTrtWcePqQQmDXVVjhxYbdej2BekcwYmFCCoyPzZHbW68iauT8XRyIxoAvVCG2/4No1HXjK\n",
              "RYQrYHW+j4buorQ7Fmbj7zRBoxkmVlbFxCfKa8wyAWiAbAB0S6kqslhwjX78UeisOjX8bA5eX2uA\n",
              "QEu0wfl9lBI99RW+aIOVmvqVb1ndEXKGT24lRSJ/Gad9D05J9lxF2WNhw+z6T4U4ss6W+GgI2mEB\n",
              "AFWh1pJNpUi/WC1DRaVcCL2kTBOzW0tPzcoGCIQl69P0/PBNqIVhasQRKo7zCwWWLtqlipzu0Xws\n",
              "OBld+U1J+HFUBMDKGGChD/xPeRakNKWcoWr1L4E/piNje8HDGYKW7XvD+98zzYZbxIhK+1ka+fuv\n",
              "D8GOox/85yrWbNjpzsfEByY3ez11nmTWbaxnnVF1+4FctYypsKKIvVEYz51x/umm1ibU96WBAKyY\n",
              "wDHufwIwErlBteVgyUV7SAzs95EhzGbPRiOUe5GpaaO+c8/ejqTB7b2YiNhrd9CON5bByPhpgnJY\n",
              "sGhgsDOLYFMhZ+4dKINbZgpec//cNGXf3CIkics5xAvEHNx0KtHev/2fbIH91O3QKyWjJY8NJ6DA\n",
              "In+mcfHdhg6d8XX92pjWMTbfKYWw/9aA7L6G4RST8PdP2GnivYS/WUAGaYyI2nxqX1MnICdWuxIC\n",
              "G/dsyf1kCIIL9Wd/8g8dR5hD0yR4+UqG3s/ICmwsseSUT2OB+8N8a+7AFbzC6ACODDyxmgRNFVfM\n",
              "K2wEQbvhh2eezOvhQOLhiaqyfjRhAAAEykGaY0nhDyZTAhv//qeEAEFMF+AgowlE/fBlrxvN1VFe\n",
              "0n9+BM+lHM85RjuVyq1+m0gyQvbBu7simSNytGcpJY7gNiHPIApe1EwwajPU0zdIaTtHsuFYytwW\n",
              "n82WymQ7qCt20y1JyIWqEfWRQrEI7kXC/n8a5ezwfu0R1muWrmUYDUMn/ZvLmtpXWOeQnRxMmDGT\n",
              "+Ev9kMfXv1NE+aItE+ohTPhFDG4H6soI+NknJDzo1VTr6zhRQpwI0JJwLT/TcvN9apCNXyM091bB\n",
              "12S6o4iaksDNRnHMSAwIeLeWZoqwRo80sF8EYwr+JcuG2RgJ+or4b0+lJnTdPoaaUEyFlaEIgFHw\n",
              "X11/pmdG1FjjTGU+zHsEDDLV70VUcPFMmuToS3361yYfh9TeI2lLwCHba0N4TLy2ahHSxW9RSEMR\n",
              "k7ypPZZOWy2N90QHl0rUU3KiKC/0d4YqMNd9EdJHDlAs7H196Nk0oDS3WXp64L+mQYSjSh439ngb\n",
              "FC32wh8Du+Ccmq6SaslLyphfh09oKSAKErh29HkXNinrl0L09iIhcd+pI6prDB5Co4g2wlKdzuD2\n",
              "n8GwW1s8ojfMqKxQM1f+jkvT9k2rYv66A9WtKA2brBIgdEjoa3pb7shgRgRpToIY2NauFuf4YPJK\n",
              "Nb32d1e72L0PjBPFGRJj+vmt1AqlZmDN5vHZQN3tfkoKcLHJ5CeAT2F9imrJ2y4zRFptaaekgvb7\n",
              "ULRn302Xb00wMEXqkx1yO97PUmQ8tZtopIj7TJ/BNx4FC8Yk5FcuolALmCdYNawyAX3UXyKRfS2k\n",
              "M3+rpMRNZm9TSkwCCu1XaB/GdpFwF330gjeOBkNTTURkVHY99IklVRZ0Wublps9EcAwa//Gbhl3p\n",
              "KavDFfnEMw/0zqyKJ0lkVrcs2QnHKtsUoBtnBDS1xU5l85F1oZuc64yoZVwRHd20uJN/NWq4MRhT\n",
              "h8UdRxuKgs8GV715ahF3vAFKEfVXgu4VgseZUzKyrI6LNVd/Ggv3kSKnes8aJ2KrR8tUUNGIM8U7\n",
              "FZwAwTlKqnrqpuRWU/v82foJXgWIQLnGqJ+3A1Yy80trH7Mw6IROwdX/wYxhZsxPWChKs55oVPOW\n",
              "w4zhH8sB/ZTHhlDhCQdZVOnRUZd8uBjLOuVmc24+rGzAfcsJTsztTzT3puIcAAExJpdIPB70GHJL\n",
              "hqIndHGqgk9T1+Dk8cWHP3/o0y+WT+DkKqZXfpaNrw5Xo6S0AP7eHmDxWQAaDvNgwaYEF+KFSM3I\n",
              "FYsFrsusMjxB/eHNS5hL/zk6vZATisEQvhEF56lB9QK/SMJn2X29I9kFupUpM793s+8/OBGkZyeW\n",
              "AsGMVi+Yk0olU+QgbkIy5g7NeS1dQHFN8qTBc5Zg5W2f2t+7DWHwLy6iiMhDmWYNLs0FyiCY98ej\n",
              "KO/dbe7stEuG3Y3mtDPmk4Gihc7LmbtMoEslN2a20dyiDyNNCEwg1RBOdCzabCIP7TstrjoF+LQ3\n",
              "twYDoNXVYCUB3QRgm43noXwIa8fURh4C4oUk4bRC7/QTy+SbHcQo0x+nlhDbTS7RPrEaeA/nPUrP\n",
              "FIY0mtJiYPgz6rPW3X45TgqnpQSl19zcu6rlx6gK9CC+7XDY+c4GODJ/N9uDrcNALSk6J83oAAAC\n",
              "+EGahEnhDyZTAhv//qeEAEO5B7YkUiwDvJiz+FbCbSDtMNaXCUcSgxJ848KKUyHzPajcLBWqEvLA\n",
              "bgAYLGdUCjqAjpGhmLlXUG14md/K6ZdyDJBkplOmvk6F5jEXstBQhjK59O9Ujm8H47rihOY05D0e\n",
              "BrTq6B4v4PHOIW2vLp8XocBrOTqVFS7YUKdNqjx4J7Qj0Hv4Zr2sEixzNy2JTbb6rJzkFLS78eyt\n",
              "J0fX3pRBr8iE+0C3vd6U5Yq3VAQGHpZK/0P34l6CD2WOh4TOZr99AbqtdSaqfNcPD7FkETxPaWMu\n",
              "ch5s9BjPXsx9oeklFbhZ6vAb3j+KHcrDhfq1i2JfscCHC2gMu8HcsHq0Qt6EwZgYOhdL7eYkX09F\n",
              "0MXERIBzpn9sdnKn5sirLTju+w3NGDUu1Ml+lxk/mfyD+Dlh63M8nf0tabfqGOWDwg635goO7U5o\n",
              "8nBq9MrN3fMwht/hc1RNUZ2TET5gGR+uLh3txuuAJIYq9YA4faO08bHU5hiYFLGHfri2jD3q8NFX\n",
              "HLIRHMllWTxRwHh4QtDkrZMhCazmw9Q2fENoJCkdSqErAPNwvhC1Whj/fZR1vPB0dI/wuJ4VJr/C\n",
              "f4IsfaBzpixh1l72J7prL+AMcEiHl5aHICECKU9aSbC/vmtYIVy7Qc198IsBXNROGfkfOWrByXjE\n",
              "dUyuinJVQcNCNoMhcL6g2xMq/fJ5PI8FGG7gox2gQvpxhzB5aWFTS9LNzFyZi52eTGzqlGgv/Mj1\n",
              "qf8SdocU0XlHN8dj6xarboBbtZksujzjKIhzW2oC5NuT208Vf22sprABoDYZRZR1nWUCxfYELNsj\n",
              "JiDZZfzRHDPTWlrZu3gBUnNDtG2mWjWo13xVwzlNwFsrjUx7sQfYJxHyE23lHMA7MF8e79KcV67v\n",
              "6cJgFrSxKdGHnmeVQuEECYQAuWjEWTJH23TsS/mtPha7pcJiT4D8orgOJ7h/CLOjgTcQOt8gdyq7\n",
              "9MnSEbZG2BQC2DwQh2eg8+l6E4EAAALlQZqlSeEPJlMCG//+p4QARbkHthR73ACEEPlwHWXDlFfn\n",
              "nIReEpPuRjR3zFGhJKwDt2T+cxHq1sZJH0UXJBRNT/klIRzbwZbf65xz3t0zkSkXPGn4TC7eQ31Q\n",
              "2QqufXuSvTpMMGc5WimUKm8X9vmMxIF4NS5oOHHq8D4wb4ib8h3bhQDDSugT8c1F9ywnLgIgto1E\n",
              "PoGw43auGUWZr6FEAHiR3pFCJkP5XB3VOLt6GC6yVOEo9/jaXp2LhLXxcimvei7HX+ghIOd576Ro\n",
              "zsVmwZ0jmHqNbvn5aVq59KysjioBuFiqQeaUoncS8MxUzEVu4TCJYKP01+ajNd6VvHJITAq0UJT1\n",
              "nXdZ2N/T3ykiZcGuYpzwfkkrHodLkIjSaEYAvsKR8GtM2xBXcXS5CG8LV2LBh4st8/i+E32Rh5Po\n",
              "V0Axwyrdgvw7D12TN44sJPhfunho4R/MZC/+sKWJbJL3eiSDnoIchBts9jQLZVOF7+hOxmPH/doC\n",
              "zqlRe8bBVJAc1mthkAjGTssndI3m9Ulzd13JCriHNTNRW7uC/Z/XbpdOakBfZgdCaCr0S34wJmUX\n",
              "1wxNd5MiA9obMAXjq7aJVuoTtg9FkJk2l2iV/0IkVDBAmAX5zse+G3g9pcbsG2T20687iGgIYTog\n",
              "nPotGH4urcr5/E4QN76LKuXOdYQu8Borcbn7yQ7Nh4S1De9IdbXwsNfsZlO9qddc8IBWe9w5a3DH\n",
              "56omkSDxiIpAA4B6FJKNICwHH5E26JcQo5S5rgoQ54xeiqJXIxrMZnhGrNG336Cyt9iFncyAmfDA\n",
              "RfynDP0vZtHkvAxs8mPvL0DtiSyq3B54FkyPOs4nmV+mxQdpVzaoalL6iXYCGC+eGR4kS9qvtNXh\n",
              "wFQimvfcWlGNsUHhR3KKvxiCGFxmdXNqlqwg7XN4kirUPX9kq06xxtuA711KirLDMVvYb69XsQWh\n",
              "i7g0tSpjrSpGvnr/xZ0nscC6cPGzTnXFAAABRUGaxknhDyZTAhv//qeEAEVLqiAG+5d0udDftEKO\n",
              "2b7tMuse4ZsdCCF3jfqDNaY8WwJtFaUzahPRUkn/1oUUPsuruYeVlnkfg1m8L7GW9q1eIBGRtmEt\n",
              "yOfwS/ocwOFFb81E1yIuhC/+tio7+vREkL6005AKQNT9kUy1qvJVtDvVSuqcM13vicm8NCpuC3GG\n",
              "deOOOR0JKYOzVyOP5LaHFNcV0PKdNqrMXU8V1YGSqD44qvPWyzb9dgzcprgWSiOn6AAWfSe6mO4j\n",
              "fp6wl9/lbXcEZ4c/bQ+Al2M8F3ciNAabg4COYZuK6jPGDpYYpUoYxrSZxNDSvjmV8bJ7tzJl+FRo\n",
              "BHeovlTO5UEaWzXgnoRJolEEJt7LJZhCnQW18uifM2kfUPLXqpe4Cg31a63efFx0QoPy5UDWjAZu\n",
              "UL4Evg9h3bWFrncAAAEnQZrnSeEPJlMCHf/+qZYAIwa+UATDeKhqjgOuoy2YQ91t/7EBpeUjqH6a\n",
              "lBglcbzS2A025pQZROjN8327vP9GNi4gcimLm99jMHAlnc5reZTpXRaSvsag7QT+/bP42iCgYHmS\n",
              "Kr9B7lwvFW9peV8+r0x6cG16YG5DOhEiZ4LPSnKG1MhY61baEELI0wufNZxk5OpV48SmGkctAepw\n",
              "+WNrYYAHDswyAO74lyndlnB7+EE+qc3h5vs3H2R+oaDDqtB978WWZZzXouJ7ESmWZrcrlhtJwQjS\n",
              "5JCkEeOX24/2dbz9DpfsYY8W6dTakwpG+Ma0Mpk8P29c9ASn5kexdIqbl8UqFoHddGQSb0cHezdb\n",
              "SnCMTu4gLxZJaOLRmBmoa18b/xCCbsNj0QAAAOJBmwhJ4Q8mUwId//6plgAjEn4FwAFBn9/DtAeF\n",
              "SNuq8hkY0ycEb4eW5oCTBCXehzVl8D9opni+a5L9Th0yfv1w2dY0xWUSmDuD+V6Lv4aZu0bCT0Gw\n",
              "Hq3+WvWFxZ5OKx4hCmE+3UD6c8AhPBTPHeX1sTJEAlHNoil2A8cCo79iV/iDzKnVZJ8sQkfcs8Hg\n",
              "lU8Ip+wQWMParJAyslGl8JlGbAngDOoBSNrA1u1NkVUIgaLrRUwJhDUlJdMUgt5fDYVX1253gJuV\n",
              "Tx48DAJyDOIDVpngquFGv0ekbguk/8JCdShAAAABC0GbKknhDyZTBRE8P//+qZYAIxJ+IuYAvRH8\n",
              "1rCjL+hCxcm7+4F26zI9B6SFwNMdVR43qwEYjdZ8fEuN/BA7NUQMZZ9uoqjprsfJnUDuLXU+DW11\n",
              "P0/nv5wzqFp/Bx+cAuW6yQkvYg/wHWnK0pz/gRwmAh/H5YkDOff/jG6N0NeabVKq1md8c+bei621\n",
              "7btXRwlY4HT59/2oMY1MYeF2ZPl+c6fHaXdVK4ZmKCdjygER046l8Q9LrfA5YXuR1H1L8NXHC9YC\n",
              "NSCwwTSB3PDfTezSBwKcktEhIlzZR2y1718cFnOHL0o8eLLKjRupUuxqs8mGIKVrZqzJsAEE+iYZ\n",
              "snlRpqL6bM7+xJcTgAAAAFQBn0lqQr8AFGjZQoP8EJZR2fyNLXwu2HcEAlcxqrORD1VSWN0SOpRB\n",
              "ciwMygA/i3dqY+26wdO/RtUbNIW1bwlmdmUE7T4/v2InIp7DT0PfWVtrRvUAAADaQZtOSeEPJlMC\n",
              "H//+qZYAIwgOHADeJ07ToPrpd2yphQEMpvwp2NmIoTgR5CGDlfLsmIlltMFu6+bWENXu0qdrr8Eh\n",
              "A992o6ZNieB9NIksR7GiRMb3eLPQed1a3GdF0DBLNLWsmAir/XHw0P4+cK+eNoSoS0ZFJWb8mry1\n",
              "DdTdx4ltVvS7/vsNXJ5/d8dpiTj4czq8c5ze2pH12+pWCfnW0nJPhzT4Nbf8+Rghh45Pi9JGkDXa\n",
              "IRkIfqk2ZPFMpLUNEcCMZuMqdRzG3QjIh3ojLw4oZ20b8T4P9YAAAAAtQZ9sRRE8M/8ACxKMHFib\n",
              "eJIz/5ZPJaW5ObRJhxDzlAXYtIC/hopEobIdkF7AAAAAIwGfi3RCvwA4pdF3U7JLZDFXY0PddJf6\n",
              "LKyRXfEu+T9uUSWpAAAAEAGfjWpCvwAF+dKdgAAAB80AAAAbQZuSSahBaJlMCH///qmWAAxgxqw0\n",
              "AAADAAW1AAAAG0GfsEURLDP/AAqDCfiZotlNAGbWpVBWcHFLoAAAABABn890Qr8ABff6eoAAAAk4\n",
              "AAAAEAGf0WpCvwAF+dKdgAAAB80AAAAZQZvWSahBbJlMCH///qmWAAADAAADAAAs4AAAABtBn/RF\n",
              "FSwz/wAKgwn4maLZTQBm1qVQVnBxS6AAAAAQAZ4TdEK/AAX3+nqAAAAJOQAAABABnhVqQr8ABfnS\n",
              "nYAAAAfMAAAAGUGaGkmoQWyZTAh///6plgAAAwAAAwAALOEAAAAbQZ44RRUsM/8ACoMJ+Jmi2U0A\n",
              "ZtalUFZwcUuhAAAAEAGeV3RCvwAF9/p6gAAACTgAAAAQAZ5ZakK/AAX50p2AAAAHzQAAABlBml5J\n",
              "qEFsmUwIf//+qZYAAAMAAAMAACzgAAAAG0GefEUVLDP/AAqDCfiZotlNAGbWpVBWcHFLoQAAABAB\n",
              "npt0Qr8ABff6eoAAAAk5AAAAEAGenWpCvwAF+dKdgAAAB8wAAAAZQZqCSahBbJlMCH///qmWAAAD\n",
              "AAADAAAs4AAAABtBnqBFFSwz/wAKgwn4maLZTQBm1qVQVnBxS6EAAAAQAZ7fdEK/AAX3+nqAAAAJ\n",
              "OAAAABABnsFqQr8ABfnSnYAAAAfNAAAAGUGaxkmoQWyZTAh3//6plgAAAwAAAwAALOAAAAAbQZ7k\n",
              "RRUsM/8ACoMJ+Jmi2U0AZtalUFZwcUuhAAAAEAGfA3RCvwAF9/p6gAAACTkAAAAQAZ8FakK/AAX5\n",
              "0p2AAAAHzQAAABlBmwpJqEFsmUwId//+qZYAAAMAAAMAACzhAAAAG0GfKEUVLDP/AAqDCfiZotlN\n",
              "AGbWpVBWcHFLoAAAABABn0d0Qr8ABff6eoAAAAk4AAAAEAGfSWpCvwAF+dKdgAAAB80AAAAZQZtO\n",
              "SahBbJlMCG///qeEAAADAAADAABZQAAAABtBn2xFFSwz/wAKgwn4maLZTQBm1qVQVnBxS6AAAAAQ\n",
              "AZ+LdEK/AAX3+nqAAAAJOQAAABABn41qQr8ABfnSnYAAAAfNAAAAGEGbkUmoQWyZTAhX//44QAAA\n",
              "AwAAAwAFTQAAABtBn69FFSwv/wAOKLMyv5pnQgB2lZFAemZ0l0AAAAAQAZ/QakK/AAX50p2AAAAH\n",
              "zAAABUJtb292AAAAbG12aGQAAAAAAAAAAAAAAAAAAAPoAAAJxAABAAABAAAAAAAAAAAAAAAAAQAA\n",
              "AAAAAAAAAAAAAAAAAAEAAAAAAAAAAAAAAAAAAEAAAAAAAAAAAAAAAAAAAAAAAAAAAAAAAAAAAAAA\n",
              "AAACAAAEbHRyYWsAAABcdGtoZAAAAAMAAAAAAAAAAAAAAAEAAAAAAAAJxAAAAAAAAAAAAAAAAAAA\n",
              "AAAAAQAAAAAAAAAAAAAAAAAAAAEAAAAAAAAAAAAAAAAAAEAAAAACgAAAAeAAAAAAACRlZHRzAAAA\n",
              "HGVsc3QAAAAAAAAAAQAACcQAAAQAAAEAAAAAA+RtZGlhAAAAIG1kaGQAAAAAAAAAAAAAAAAAACgA\n",
              "AABkAFXEAAAAAAAtaGRscgAAAAAAAAAAdmlkZQAAAAAAAAAAAAAAAFZpZGVvSGFuZGxlcgAAAAOP\n",
              "bWluZgAAABR2bWhkAAAAAQAAAAAAAAAAAAAAJGRpbmYAAAAcZHJlZgAAAAAAAAABAAAADHVybCAA\n",
              "AAABAAADT3N0YmwAAAC3c3RzZAAAAAAAAAABAAAAp2F2YzEAAAAAAAAAAQAAAAAAAAAAAAAAAAAA\n",
              "AAACgAHgAEgAAABIAAAAAAAAAAEAAAAAAAAAAAAAAAAAAAAAAAAAAAAAAAAAAAAAAAAAAAAY//8A\n",
              "AAA1YXZjQwFkAB7/4QAYZ2QAHqzZQKA9oQAAAwABAAADACgPFi2WAQAGaOvjyyLA/fj4AAAAABx1\n",
              "dWlka2hA8l8kT8W6OaUbzwMj8wAAAAAAAAAYc3R0cwAAAAAAAAABAAAAMgAAAgAAAAAUc3RzcwAA\n",
              "AAAAAAABAAAAAQAAAVhjdHRzAAAAAAAAACkAAAAJAAAEAAAAAAEAAAYAAAAAAQAAAgAAAAABAAAK\n",
              "AAAAAAEAAAQAAAAAAQAAAAAAAAABAAACAAAAAAEAAAoAAAAAAQAABAAAAAABAAAAAAAAAAEAAAIA\n",
              "AAAAAQAACgAAAAABAAAEAAAAAAEAAAAAAAAAAQAAAgAAAAABAAAKAAAAAAEAAAQAAAAAAQAAAAAA\n",
              "AAABAAACAAAAAAEAAAoAAAAAAQAABAAAAAABAAAAAAAAAAEAAAIAAAAAAQAACgAAAAABAAAEAAAA\n",
              "AAEAAAAAAAAAAQAAAgAAAAABAAAKAAAAAAEAAAQAAAAAAQAAAAAAAAABAAACAAAAAAEAAAoAAAAA\n",
              "AQAABAAAAAABAAAAAAAAAAEAAAIAAAAAAQAACgAAAAABAAAEAAAAAAEAAAAAAAAAAQAAAgAAAAAB\n",
              "AAAIAAAAAAIAAAIAAAAAHHN0c2MAAAAAAAAAAQAAAAEAAAAyAAAAAQAAANxzdHN6AAAAAAAAAAAA\n",
              "AAAyAAAgPwAADY0AABCqAAAEzgAAAvwAAALpAAABSQAAASsAAADmAAABDwAAAFgAAADeAAAAMQAA\n",
              "ACcAAAAUAAAAHwAAAB8AAAAUAAAAFAAAAB0AAAAfAAAAFAAAABQAAAAdAAAAHwAAABQAAAAUAAAA\n",
              "HQAAAB8AAAAUAAAAFAAAAB0AAAAfAAAAFAAAABQAAAAdAAAAHwAAABQAAAAUAAAAHQAAAB8AAAAU\n",
              "AAAAFAAAAB0AAAAfAAAAFAAAABQAAAAcAAAAHwAAABQAAAAUc3RjbwAAAAAAAAABAAAAMAAAAGJ1\n",
              "ZHRhAAAAWm1ldGEAAAAAAAAAIWhkbHIAAAAAAAAAAG1kaXJhcHBsAAAAAAAAAAAAAAAALWlsc3QA\n",
              "AAAlqXRvbwAAAB1kYXRhAAAAAQAAAABMYXZmNTguNzYuMTAw\n",
              "\">\n",
              "  Your browser does not support the video tag.\n",
              "</video>"
            ]
          },
          "metadata": {},
          "execution_count": 23
        },
        {
          "output_type": "display_data",
          "data": {
            "text/plain": [
              "<Figure size 640x480 with 1 Axes>"
            ],
            "image/png": "[encoded data removed]"
          },
          "metadata": {}
        }
      ],
      "source": [
        "# Simulation parameters\n",
        "h = 1. / 2.\n",
        "numTimeSteps = 50\n",
        "initial_state, kx, ky = (1.0, 1.0), 1.0, 5.0\n",
        "\n",
        "# Systems & solvers\n",
        "systems = [BeadOnWire(initial_state, kx, ky) for _ in range(4)]\n",
        "solvers = [None, ExplicitEulerSolver(), MidpointSolver(), RK4Solver()]\n",
        "\n",
        "method_data = {\n",
        "  0: ('red', 'Analytical'),\n",
        "  1: ('green', 'Explicit Euler'),\n",
        "  2: ('blue', 'Midpoint'),\n",
        "  3: ('purple', 'RK4'),\n",
        "}\n",
        "\n",
        "# Figure setup\n",
        "from matplotlib import animation, rc\n",
        "\n",
        "fig, ax = plt.subplots()\n",
        "ax.set_xlim((-0.2, 1.2))\n",
        "ax.set_ylim((-1.2, 1.2))\n",
        "\n",
        "lines = [None] * len(systems)\n",
        "lines_non_null = []\n",
        "for idx, (color, label) in method_data.items():\n",
        "  kwargs = {'ls': ':', 'lw': 4} if idx == 0 else {'lw': 1}\n",
        "  line = ax.plot([], [], color=color, label=label, **kwargs)[0]\n",
        "  lines[idx] = line\n",
        "  lines_non_null.append(line)\n",
        "\n",
        "# Initialization function: plot the background of each frame\n",
        "def init():\n",
        "  for idx in method_data:\n",
        "    systems[idx].on_start_simulation(lines[idx])\n",
        "  return lines_non_null\n",
        "\n",
        "# Animation function. This is called sequentially\n",
        "def animate(i):\n",
        "  for idx in method_data:\n",
        "    system, solver = systems[idx], solvers[idx]\n",
        "    if solver is None:\n",
        "      system.analytical_state_update(i*h)\n",
        "    else:\n",
        "      solver.step(h,system)\n",
        "    system.on_step_simulation()\n",
        "\n",
        "  ax.legend()\n",
        "  return lines_non_null\n",
        "\n",
        "# Call the animator. blit=True means only re-draw the parts that have changed.\n",
        "anim = animation.FuncAnimation(fig, animate, init_func=init,\n",
        "                               frames=numTimeSteps, interval=50, blit=True)\n",
        "HTML(anim.to_html5_video())"
      ]
    },
    {
      "cell_type": "markdown",
      "metadata": {
        "id": "FgoZlXFbe1Lw"
      },
      "source": [
        "In the cell above, observe the output under 2 scenarios:\n",
        "1.   The original settings (i.e. run the cell as-is)\n",
        "2.   With a larger time step, `h = 1. / 2.`.\n",
        "\n",
        "Describe the behavior that each integrator exhibits in each case, specifically with regard to:\n",
        "1. simulation accuracy (how closely does the solver match the analytical solution, in comparison to the other integrators?)\n",
        "1. stability (can you observe any fluctuations of state, and is the trajectory converging or exploding?)\n",
        "\n",
        "**<font color='orange'> \\*\\*Write your code below (20 pts)\\*\\* </font>**"
      ]
    },
    {
      "cell_type": "markdown",
      "metadata": {
        "id": "OxOA_BOMg1W5"
      },
      "source": [
        "Original Settings\n",
        "* Accuracy: Analytical solution (red) is the true solution. Explicit euler (green) shows the most difference from the solution. Midpoint (blue) is a closer answer than explicit euler but still deviates. RK4 (purple) is the closest answer of the three and follows the analytical solution closely.\n",
        "* Stability: Explicit euler is stable but shows difference from true trajectory and accumulates error over time. Midpoint is stable and trajectory is predictable. RK4 is stable and converges perfectly with no deviations.\n",
        "\n",
        "Larger Time Step\n",
        "* Accuracy: Analytical solution (red) is the true solution and is unchanged. Explicit euler (green) has a huge error especially on y axis with oscillations. Midpoint (blue) is more accurate than euler but also has more error than originally. RK4 (purple) is still very accurate even with a higher time step, but less accurate than originally.\n",
        "* Stability: Explicit euler explodes and oscillates. Midpoint is still stable but a lot less accurate. RK4 is still stable and still converges."
      ]
    },
    {
      "cell_type": "markdown",
      "metadata": {
        "id": "sdcwtji7h-kU"
      },
      "source": [
        "# 4. Extra Questions"
      ]
    },
    {
      "cell_type": "markdown",
      "metadata": {
        "id": "XpJxjaMdqiGE"
      },
      "source": [
        "## 4.1 Implicit Euler (first order) method\n",
        "\n",
        "Please implement the implicit Eulier method. You may directly modify the above sections to implement the implicit Euler solver and visualize a new trajectory (with five balls).\n",
        "\n",
        "*Hint:* follow the implicit Euler equations and make use of `get_gradient_of_system_derivative()`.\n",
        "\n",
        "Useful Numpy functions: `np.eye()`, `np.linalg.inv()`\n",
        "\n",
        "**<font color='orange'> \\*\\*Write your code below (4 pts)\\*\\* </font>**"
      ]
    },
    {
      "cell_type": "code",
      "execution_count": 26,
      "metadata": {
        "id": "k2B5xUmLjarv"
      },
      "outputs": [],
      "source": [
        "class ImplicitEulerSolver(Solver):\n",
        "  \"\"\"A general Implicit Euler method solver.\"\"\"\n",
        "  def step(self, h: float, system: DynamicSystem):\n",
        "    \"\"\" Read the current system state, calculate the state after advancement by `h`, and use `set_state()` to update the system. Do not return anything.\n",
        "\n",
        "    Args:\n",
        "      system: the instance of the given dynamic system\n",
        "      h: an amount of the time step we want to integrate\n",
        "    \"\"\"\n",
        "    # Student answer begins\n",
        "    current_state = system.get_system_state()\n",
        "    derivative = system.get_system_derivative()\n",
        "    gradient = system.get_gradient_of_system_derivative()\n",
        "    i = np.eye(len(current_state))\n",
        "    a = i - h * gradient\n",
        "    r = current_state + h * derivative\n",
        "    next_state = np.linalg.inv(a).dot(r)\n",
        "    system.set_state(next_state)\n",
        "    # Student answer ends"
      ]
    },
    {
      "cell_type": "markdown",
      "metadata": {
        "id": "4doeo81Ljarv"
      },
      "source": [
        "## 4.2. Trapezoidal rule integrator: bead-on-wire"
      ]
    },
    {
      "cell_type": "markdown",
      "metadata": {
        "id": "HMmtthgQoAS5"
      },
      "source": [
        "You know the drill by now. Implement another solver, one which uses the trapezoidal rule.\n",
        "\n",
        "This time, refer to the trapezoidal rule equation from class and derive the final state update equation before coding it up in this cell. It will be visualized using the bead-on-wire system.\n",
        "\n",
        "*Hint:* you must implement the implicit Euler solver before this question.\n",
        "\n",
        "\n",
        "**<font color='orange'> \\*\\*Write your code below (3 pts)\\*\\* </font>**"
      ]
    },
    {
      "cell_type": "code",
      "execution_count": 27,
      "metadata": {
        "id": "CpSTFwDHnwXn"
      },
      "outputs": [],
      "source": [
        "class TrapezoidalSolver(Solver):\n",
        "  \"\"\"A general Trapezoidal Rule based solver.\"\"\"\n",
        "  def step(self, h: float, system: DynamicSystem):\n",
        "    \"\"\" Read the current system state, calculate the state after advancement by `h`, and use `set_state()` to update the system. Do not return anything.\n",
        "\n",
        "    Args:\n",
        "      system: the instance of the given dynamic system\n",
        "      h: an amount of the time step we want to integrate\n",
        "    \"\"\"\n",
        "    # Student answer begins\n",
        "    state = system.get_system_state()\n",
        "    deriv_gradient = system.get_gradient_of_system_derivative()\n",
        "    i = np.eye(len(state))\n",
        "    a = i - h * deriv_gradient\n",
        "    derivative = system.get_system_derivative()\n",
        "    r = state + h + derivative\n",
        "    next_state = np.linalg.inv(a).dot(r)\n",
        "    system.set_state(next_state)\n",
        "    # Student answer ends"
      ]
    },
    {
      "cell_type": "markdown",
      "metadata": {
        "id": "BfbsmtgxvxKv"
      },
      "source": [
        "### Simulation & visualization with matplotlib (do not edit)\n",
        "\n",
        "We now compare the trapezoidal solver with the analytical solution as well as the explicit and implicit Euler methods.\n",
        "\n",
        "Ensure that you get a curve in between those of the explicit and implicit Euler methods, which is also the closest of the three to the analytical solution."
      ]
    },
    {
      "cell_type": "code",
      "execution_count": 28,
      "metadata": {
        "id": "bmob7OsZvxKx",
        "colab": {
          "base_uri": "https://localhost:8080/",
          "height": 914
        },
        "outputId": "dc526290-6fa9-43a2-a8de-bf3d3fa226f7"
      },
      "outputs": [
        {
          "output_type": "execute_result",
          "data": {
            "text/plain": [
              "<IPython.core.display.HTML object>"
            ],
            "text/html": [
              "<video width=\"640\" height=\"480\" controls autoplay loop>\n",
              "  <source type=\"video/mp4\" src=\"data:video/mp4;base64,AAAAIGZ0eXBNNFYgAAACAE00ViBpc29taXNvMmF2YzEAAAAIZnJlZQAASU5tZGF0AAACrgYF//+q\n",
              "3EXpvebZSLeWLNgg2SPu73gyNjQgLSBjb3JlIDE2MyByMzA2MCA1ZGI2YWE2IC0gSC4yNjQvTVBF\n",
              "Ry00IEFWQyBjb2RlYyAtIENvcHlsZWZ0IDIwMDMtMjAyMSAtIGh0dHA6Ly93d3cudmlkZW9sYW4u\n",
              "b3JnL3gyNjQuaHRtbCAtIG9wdGlvbnM6IGNhYmFjPTEgcmVmPTMgZGVibG9jaz0xOjA6MCBhbmFs\n",
              "eXNlPTB4MzoweDExMyBtZT1oZXggc3VibWU9NyBwc3k9MSBwc3lfcmQ9MS4wMDowLjAwIG1peGVk\n",
              "X3JlZj0xIG1lX3JhbmdlPTE2IGNocm9tYV9tZT0xIHRyZWxsaXM9MSA4eDhkY3Q9MSBjcW09MCBk\n",
              "ZWFkem9uZT0yMSwxMSBmYXN0X3Bza2lwPTEgY2hyb21hX3FwX29mZnNldD0tMiB0aHJlYWRzPTMg\n",
              "bG9va2FoZWFkX3RocmVhZHM9MSBzbGljZWRfdGhyZWFkcz0wIG5yPTAgZGVjaW1hdGU9MSBpbnRl\n",
              "cmxhY2VkPTAgYmx1cmF5X2NvbXBhdD0wIGNvbnN0cmFpbmVkX2ludHJhPTAgYmZyYW1lcz0zIGJf\n",
              "cHlyYW1pZD0yIGJfYWRhcHQ9MSBiX2JpYXM9MCBkaXJlY3Q9MSB3ZWlnaHRiPTEgb3Blbl9nb3A9\n",
              "MCB3ZWlnaHRwPTIga2V5aW50PTI1MCBrZXlpbnRfbWluPTIwIHNjZW5lY3V0PTQwIGludHJhX3Jl\n",
              "ZnJlc2g9MCByY19sb29rYWhlYWQ9NDAgcmM9Y3JmIG1idHJlZT0xIGNyZj0yMy4wIHFjb21wPTAu\n",
              "NjAgcXBtaW49MCBxcG1heD02OSBxcHN0ZXA9NCBpcF9yYXRpbz0xLjQwIGFxPTE6MS4wMACAAAAg\n",
              "cWWIhAA3//728P4FNjuY0JcRzeidMx+/Fbi6NDe9zgAAAwAAAwAAAwG5pYX/dnfziCAAAAMAdsAW\n",
              "Xt/BCR/n8JgX9hX1GfPRM2+lAyqicmNt03PQLVoh3RtlexpJxqjo9dQe8hc5T6XCqzTvTvuBopSc\n",
              "hGG5dNLXqq7+/NJzTx6WYV3N+MgfRMIMShXT4G6knw9oiUkmtcAz9llJ3P+sWKurqh804kXNN83R\n",
              "i+ncJzSWkqKrRhjryOPzKQMD6+XUHIZtt2IUgjQeYnczfMxSTvyqme9/8mjaiJl4cDIxXX5jeU/m\n",
              "+SbGBUknonbkyfLf/RCVUx1oFFzZ9iwUqEeB/zqfebaY1NxH8uGor3d14jUFn9vjnZUm1n6n89a0\n",
              "NaXWKV3H3RQyoom/3HD8ryMQtcF2ZvlOZXoJRi8FsWc1YXerGN2OXnbVf57RAHYKVEOo+w1V31nb\n",
              "F2CBSi55VOFWYkpj0J0y1IxOVIkNvQSpZKXv4EZEnohFcv9WTHVP09cj0G9G6ojtazmr+CdAao5e\n",
              "xTNCIrYBvVgNQhZJsYaEG8jYoNBeiX9rKtGt485g1P74MBXdvV3gl9/XFUmVliYFESIWZdDPzvUQ\n",
              "4YPoWtoKwp6UJowkLHNs/M0Yyq3yllDgranfVEDrX84ioHR0i//+f2caMOnn1Mt9FiH56/kp+7tt\n",
              "w1kAAl+eAaV15u7Ap4XfXG3UTLFjhZQ8xfCdMR3X9MuW0e1lP+9UIriKq0pd8eWbDxmMtqzRh7ce\n",
              "7asKMiPLFFnAkrY0r6wZ9cvCnTBipJBQ1ngmpgUAbZ0bIMTFJPp7WDH783zQ5iwgq9B9d7AGyObb\n",
              "xlX6opjolxrDZ+6TQ70/gkwplxWWG0PuXo0MCY7UYoeEGSSLplyZWC0+2KvFZBLWWy2LHE64ryS/\n",
              "qnZ2togy/7+zJlOAmDYECVmidrzjKN6W1hjH0bMbNm7BFdv0JGQetw6eAP91hvVJSJZxUkRXZnCc\n",
              "tFUd77JTZ4U0r0qG361vp9roLAJAikBEZlgtvtFQelfx8lO49VkfgLR0FNKyEmUx6ybngKkNxals\n",
              "d/AH8WsL9EN3RQxgHzvkINzZ+vlEMw9WHpbE2uooTbLk5+DJ70/aZZ3paOY1739KkX73KyZWoLBG\n",
              "3MYGADP9V+jeaijpV17HZqTJp9DyIST1FpBKnGQH2mB2TZsDdEOAjR14R2nC7iLm0QFJHeHy2an6\n",
              "14plJxrlfrmNV9a3fHgxp7vHLXu0UzYoawmJgsSyEwvzH3UIDvjl7R2uKh9PWlbDH9ZDEVf91yXl\n",
              "3cnCn40zsboQLRwlsQFjMWetJOZPgAIjPz/uP+2aReQHiFug3/n9JzV+5yWe+HD5WMvmi3ktTn7U\n",
              "Y2sMIeB9FVqWGta5zLI/7d/nEOAyyfCDGkZtAf/BE5O8JWcb6cId1i3Ov23SPe/mqU0+99RXLSHl\n",
              "6/TAYo+4/DclrQosKOZUkEPsP7QwO1jJV89M7lffVSC80GFMm33uLYo0Rh8JhZSt50/KUI/f+qgA\n",
              "B6znI9ZTdt/yVsGxecbEfpoAg2nASiLNu+e2xxPIZQffzu7etpUlzS4rSwZm/C+M4YlhI3gC3oiA\n",
              "MOlfLxTbR1VP8vAFWz60KcsGek2BY1axgIgUGQORbTyGEqjOmTkRmvrVEQKGLT9gjXG1nEHrEeMX\n",
              "OlANCj4d2Ov7MUAztEKun7zNV4u2tIQ5LkBqkuwXMOA/SeirR4/K+W4/3UHevCiDsHdFLie0cMAM\n",
              "lXCu81koC5JXaVKAU1r/eL9qIpqB0XCRt6eHhqCry/dDhq3qvytX8DWQbQ3Np0LYIQckVpAAAk4/\n",
              "Bo/fpH4CJTY20TTW0YkjV76P7NTGsopOBbOEVC4J6y+GOw9yM8Cq2cWwWaF3wm+Y6gtKHpf8eOXm\n",
              "5LIjpAdUedh2k/q7v/tRk4l7mFQ4bAjGEtDHvh3YapTwROzgZwFBTvPA2jGgP32Hdwu69GXsUlWb\n",
              "67n1fcgLr9tRtfpVkkj4WVMScn+v+4Vq2ypF7m9cLzecHrUOhSLaU/fFXnCmMV/gyvtyJBAJTaUr\n",
              "K5enTpurr5Q/o4Sp8+w2mEZU7GkiOfUDaolMOYdfNUImxl7gsYsa8LiXgV6DydYHyIhyMLeGno/C\n",
              "q42Pu+nEGHfqUPjGYFwfilJBChCl7lI6J7iyyCDbm85EBGiaNZPP4OtoevvFPWl/7Dgnv08ADQXv\n",
              "496v+NIkXOCdN1tmRIsuV3InGdyGlSaM8tBtS9oQ2GpMm1CQqZ3rmLcEn3vc9FYc1QC2shtaIUpr\n",
              "zQEj+t0ahpNPZIS15GgdK1A1urU+QEzltWc9M/ML6BLJyoIokgNDuhe90BXegmx2UaojByUaqvSt\n",
              "MB/sTFc6hqm68FYr7GqmpeqCOTaok3ug6f++XEqUmcXDwhJqN7xkN3tqFL2EJRgn1OZgtwuTsnqQ\n",
              "AHc7kxvRiPdx8fW+inM0BR3XXjgIlhGlH+2Q7usop2dV+dST9e2kC7+ANf+ueE75DSS/bgzTGt2T\n",
              "7JGF5p/C/KWy5Vw9jCGxm9p40W7122KGgy62wkdRSwIBbwVf4xYgaa9zFXWz4ZRzJhSjQRfqSfFJ\n",
              "cGqv8KzGQcO87goouVsBHM6OxQqXsPgwGP4e6FMQqD2GLdAdeSeqtCQ8E/J3IeQjuTgtleThKxRj\n",
              "DwAAG4EVZ01uvhBb+bqpfyzDHHfTA/ddUf3dkHp/+OTx8JY3eST3CF8RVqv6DvgPOWRZPSPduI3v\n",
              "V0o4rW3jnMtW6S0t3/6nj9bIKyN8WYC+7Q/Q6rNvNZbA3hASlSl9uxKjNn2zoE2G5hazILk+Ysve\n",
              "6omkgULlHWLJHUgwzxMckCflxJu3zAQqefJL/llZR43C26tzTvxfC9YfWVoHsX9VCk2xuKwYVtwK\n",
              "Q3N3T1/B/KjrNZLkLv8YYkHvLtX2UXpTzhz+oPLmh4o2emDEhaEAflrTwq6aKf7HWOK9nCcQjXF8\n",
              "y4pFipjMDonsw+q5vafSP0OEMqA62skpnxkq1e356gV9O/J4dliDb78KDXrby6HtEGPfKikJtE24\n",
              "r2fLFTkjrL5Af1HwAnJeDt5vFbZY3sEAmnDOabaaEPDsfV1JMoizZc+MUkZKTHokYH5prvaJ0Y2U\n",
              "A1lGGtP0Myp8RzAbhA5ei7ksBV1aSPaYvZevuyt9NQ44Nzj+qddo8sb55s8hZ7R1GcKZ3H3+pP1X\n",
              "sYsPApDvhpPC6ACoCck8OuLHNrwTi4rMB1ySgkvw31wAmAsR0jxFN4oQwM6o+U7GQgg5NoGMCdcu\n",
              "0fo2tkb+9McMoGNPBFob9OaACKy4joj5rSjynnD34HCiaFoiylZTByl2VthhLchdYIWFoAs4AV86\n",
              "g8cBKgWhADAx0mBxZkdvPsSg3z0ofxK3o9oF6jVTaE2G+P2X3bgYCu5Ytr5zNhMBKurvhQHmfDfm\n",
              "jWdBSfjqr8fBYbOq2SMeH+w6UcUaH1SVqttxQGKn+CDfmnOm21i5fSVrrt89OnLRAds5a8rW29j8\n",
              "WwnFrbPRoYybYrgtQBNcrDlTdUzMT0vtJXR81ggn4yAlm0bD8gCkd7I6oBX1i9JkxJI40a8Vvmxd\n",
              "xkvxfIroFlzaJjyHKEUjv3bD8GhU8Wc+G7Wz/UVmVpaiQWCX6HXX/+Ahgrrxme1bvFDeOL8dtg2E\n",
              "Ngo167y87CqF8ZjUuvxV7FH2JHki2r+HfyNl3yEV4avtjjRV6otTZXwWPaWYhC96+pAqHnLMKO7c\n",
              "V6s3q9BksXntb4Y6ZJD974HdllVWTBKDQiDIGxPqb/cFsqEJwpk7cijMInvgeqUXY9zwtImYHn6V\n",
              "i7SmAONXqhtU0aSCvEzToyAb3lh11ZXX4BAy5TWnNRmUurRmOIYmr3CYDAmIzFqWdqt5CAnstsw5\n",
              "LRqb+WOjKZz0wyPyBA9SMwVo0OOyZgLlkeP0zEZyjfSNZiRhHrU0YG4wubfdGztMm8MFYsLG7fp5\n",
              "DAButhzScBWvQODCQTxXUW42dkDnugLbKG126RqQy99CcVyuJqbv1cBBQXqmaYzXFGHtLXsdNgAd\n",
              "02k08jzt+ZuIkn8wUBiTGmj9RuJPQBBEUr2VpSuGkypn/aMyt0FwDfm07Gohz8vVm7EgphjiWfaG\n",
              "IZdGjn2S4b7DIW9zO0gLGaGNpUj1LgF23h98gV+CobVTh8QvxvdOlHAd4VfRB7/atBGW2Oeuf4sr\n",
              "Y/9pmIYM1Z2JXz5fhFHCWQRytfCvHufnEyf+aOTVa7p6khyyJT2gpWZjz1Mf837Zh1Oic0isHoB0\n",
              "/2rxpiEtR69fSWZ6bjax3mpyGpWRCQCzdpJr/R8/qnr82EN1teFb6HNrUiETHtLLv3AtSHXRuF7U\n",
              "O1gjk6qcitmuvvafrXeENON2Oj2G58R9yjn+E8R85BAHSU0E1jzrS6tjmuKbrpfPzGqbs8Cpj1Xp\n",
              "j2bxYecCeYqOtPo4uXRqWSPuGN9F+kHYrd2NtgY2k6Wdo51C6YVweRGlwpGRWhgq2rgpR9Kp3qcA\n",
              "gXOnfPVQ3/OfLU34Vy9qRfMPp6Mt6SIXOT3VBCtm/HMOXpK0yIo2gWoXh2MZZ51CBO41Cyz+1CvD\n",
              "wr3GfVIsFuCswABX05vo5eHck63TJWSX6PYpXN7JO6X6hPqzAkYryV/Ls2JU3yJqH6h6rKVx6gQA\n",
              "FyzoxGc/dMX9NMszQvMuE8YoBHBLBH5hL0d+JYR1JsMGkwVzhHQuo9g3L7MMvz24b7ka2vE3/OZL\n",
              "+3+7DRni91pq7p08sD37hnIHoc4SngzMCEzBNBx3ggvBY46dUGVx4aH9UuNOA6IjeV7h6eLUd/LP\n",
              "8pzfvytolmjZ2E0TvMYU+yYocJjEw5puEOh8w/L2mK5nNPRGWU0GmXq5YyQ0aEuTV8Cg59S2GCsF\n",
              "3+u325TpD5KVBX0Vl/SaIS5PVwXaxh0ghiWyGEA05oroPeBED2/n8VagNepk4iOMPmWiVs7hRljE\n",
              "ghxxsr2lHJ2tzQ7YWNCdA6dI6JS6mCBMAR5wjPkiYWbFpc020w3GkNPDvTSyhR39wuN56szaqGmA\n",
              "0E9tZcdNqveoe4/sRiz7sZsOuS4o0hGtDEoGiBOu6sTbC+Sziv1Ny8RTKp2jR1+maa3dCHmZU1pm\n",
              "hFaQpQryHEUPKL2WGmOwGpgwuoO4M6RU9aiYE1qFgumBmhnjyf4PUvPkbMMGxCxP0nyZtui3ZM9F\n",
              "HRsh93DChi2T8hqcu6PikUq53h0pdKWvsStyvUm+dmTwFKVPiscj7ZW1MmrWtdg1kOVMHqtff2wX\n",
              "I62gEmY4qt8jeDgovcGiLSIGcpXZMa1ynrZVpyZQvIDk6y5NHCLC7FfrYf+jmqx2+iiyHwrK4oe4\n",
              "sTkgJteuTIwXjYGByPDzftJl70w+rwqf9C532rMJCA2KRvrLC/rItuttJWhhf3o8YRQ4LMkEWTIT\n",
              "O4kzLF96+2DCobo3J+3F6dzwGTT1VVifdvYY0AUj04Zeeo/sc4+qIQbbU7CexPzR8J/Se5H5cb5p\n",
              "1tBnrGAydmg8W6HNFJQ1EDHHVg9nP13gcQmd04ZcT+2iT8e0hy8ZJVGioynXZ5xX0OwSBdtxFRCR\n",
              "XOIX0WpNjjzxINYafSvz8qXVWQ586M8JK1nZPlRkSlNr9LrDNEnWca3WGr8RpVRMG5EFfdoI/lLr\n",
              "k1peGR915kO09kMKQ1n8ZJhTU2q3mtBnQvwAAEwr0heZaW94L4YpHNzNDA4iDl1zsuw0SJ/pNjIM\n",
              "7QoHsNtEoTU2mPJiORAQan5kjA93y/TPFGj/5+4CSuWoH+a/ttxqbEmOLq0WiykBcgPvJFRCWCio\n",
              "V4R30yaU7OO1JDRhvtDC4amSUyfoyooyJGFsJYKsrZ2d6KwifLg1aSLGAXoAz9AwfJxSXG9HG8Ky\n",
              "5bRl2EyluluFlCtEWs7MpR/ZIoixNoIk8tIIcAG4dD3st+mgnTYSqDr9dQSBxY6xLL+zrMMsA4xF\n",
              "mNmLbf2tx2OJzAd9Oh1qzqr90XjceBsM6I8lUmoG31stHhNfLi4Tzia2M906QgrPac2eIJyx8eMK\n",
              "mioUxYbuer6/cl8VC0jn2HIkAOOmiUQAGom1djsy9g6woQEnSrAlBPUbtKc8yGzYCBYLrjQ7EHxu\n",
              "2MR8CipKMPjpN91IWg0308GFHqiDuQlCrTIsAcj5TLNQQm/unAo8Hu6XFzkO+ta0NlMWeLgSEh5E\n",
              "V8X9Cx/2lV9xxA19IO+1SJtNBK6zddCfQp+1UUPrI5VVO6Yr4F0s2zcspnkAiAIKf3mt3Z8zrMka\n",
              "UgBfjqGnJkkYl6pH65DigiMuKAJ2ZyyO4qcRGDpjvYX9k3TKrHbQRfVNgdOWGmpNNTMELlQ4z8by\n",
              "K/+3YWZ7sEJrXXQlsccdO4nhf6cM3Xs5MTTz6KSfF8Rmdw7bwY/eMxz5eZPYESd8jW7AqrJeJ2Dc\n",
              "G1KW5QgPYlLqnC8idVUb4QbXE5LzPdCAyqIAgLe842QBOVpBL9PEBwTRF6Fvi2vjJc3nvRvTb0j2\n",
              "OnX5zvEk+GuKCCQDxvqVRxOpDnGmXgtMzoBJZKzzTOkTj1rQtRdcgODsQYT1sBorHvyHLiK2CBGl\n",
              "h/fGj44CLSa2DFZbEANEqEcoZ1x/OiGqntsp6/3FLnd+t+SH8FA0ttgwK9JtqY6j3rkFx1mHfwh6\n",
              "bwYyqh8CFhp86uAXQcifmZpZo0zGVRvgjcpRqeVC1yeNRrXPfO5KRBHXWsIrvuKOia2GJ1hnkAuE\n",
              "VXzSbJqBsMKyx7ZhEQQroegfNsS5/5okafmsJz/m4pqALZT8zanN9qSdKkyV8+KicQ+vwO6CcE33\n",
              "mLmnrK8q2zbcM2VmEH1h0ocqEGQIoDabkw618CnrhdUZJMbV+UgPQgctxrco1OaxNLGi+DTLFZXw\n",
              "Wc0elPfIYPbk11cWcyVs42Zj/Z3M3WkBeuJXyeBjXprrsJ+lCqIhVCVBvU/JiQ9Pi5Kozdcf/Rm9\n",
              "pIj4wFL3X2R8RAHcU7CZweD38JVJrtWXB7jDieACeoiZP6QcU2YPtKT2io3xFr3XiRWD/Yr5OF6h\n",
              "nnaeicCTPKBPCTp8V6Tk4swnz+8VAu8hopBNQmOqrdsVToFUH4tvZYl+x7JiKvmCHKunm8BAtJNC\n",
              "VMiFseEh+/BSMn5vMtC6gDgUpo9lj+j10xLC7dZ1cz6sXanq8q1z6XYuR0ZOCVNfJA3bEmTQ6tCl\n",
              "EqavQ45o7i5exldobZqIQnBEKUOOO7Ax3m1/ulK5s2PI8/CWU2Q4QrUvXIsqg0uZptFyBum/64O3\n",
              "Bzp2ukkb27fai8iYYfJQfDiM+8KlqaN6MJFm2OOWktHeG1xo53ma+pTZA9S1utiaDOpj72rXgoxk\n",
              "b+ljoRaonggkzjBgxEhVJgZf6G3wzC4y8hund/mtBq6wVtcQNoOz7jTgUiLELxCGESM675yLeG8O\n",
              "8j6ba2GeWj5e59UenEFxdjDYIq5QRROmxTQVnXKn+JlxV5YKIhj6ZKOk4OG+USURGNt3AQvexvGG\n",
              "jxVNeUunUdYuzYHhsPC4NebV0WP9+biwVPeJoxSAjUbuyl5G2PXf7P5SFmN1lehpoiGk2WDlRijh\n",
              "viG6aOeE3IMPWsNDid2iZTQG0n09vDHLK7iVv8vJFpkPQvIQzq0m0SqawvlScT650rPTOastuYgb\n",
              "S6IG/loJ9s5UKt8NaaIsPbYGTpIDkDfPGhoMiddAOmv+XeyMbJyZuNXj85bR2nC+/i9KBIFVfuRv\n",
              "O+s0xJ9qNl1AbNRPDnQSoW10fDy3gCS8d0C32NZGokfO4mRcwE5V6GxsNyngf6Jp7jVFisYJEkrU\n",
              "mcItWxj/APSSS3E41HH0IeTRehGpahGtbIZXFB2qFUWMof/m2bCF56j/IGPyFMe0eeAL6C+d0rAq\n",
              "HqcAOqHHBLqTuJA4eg+0Is3HKhWV9JXht2395Jql8DibgIPPH5sJIDmOmcmW6Pq+uIa1+v3cdemG\n",
              "GwmQudlYn0Q3RF05ZfS5afrGbJem7mjHmzbWlljgOYSdCQIHdEz11JC9qHEXaVq4YnS+JokpfanQ\n",
              "EmpJJXOq4NXLnT1DQyt9qrzI+RgXUdKVpvspNqk0Y3ENYX09qs0iC29G+Ut9nQdk4BVUpGLzP8ic\n",
              "e4dh09snjy9Sz58oGHjIvP4oGjeT9aSw3/BEFeM+CJBF8+9+PtwynJ/gpR5WVFE4cGtBFgW4WLzb\n",
              "9aUQVYMZ8a2i+HjKz/USkzNwL8RcqIJ45ukoL6xQ1qg/zLvhP7CoHZFMbkZyQYykm1ekRlr5+Yy7\n",
              "xvwXXPw6mTxI9XOfnqNiQCZJEyAGrjFABgMXHchVviqEtEZmh+RmRY2LNt6gAnmqkrfWn04onlNa\n",
              "ATBFiptXi1ImlkCHpy+k0WuitlBxoDHhGSBaMtrB1RjdQjc/XQ22yYn6warmLAAAAwKNkwjxlqgj\n",
              "hI9cmLDAhLY9/i432+FuTH23Jxqh//zy/ZlX92MXyntewRwEWSYaLoae1ffe9ysE3usHNpyLhtaX\n",
              "xR0GSqf/YmgBlAaV5ap0EEWkqFcAIJAIIGHGduLLChFZB7/rIUo8hpp65DIJjjnDvPhe4MHDa9QV\n",
              "cqOKLiGDB4OARyR4sUrR6uf5Bk/fUmKDezP09tgaZ92ZDocOZql69ij1X/woVpqC/U64kxxCcGa7\n",
              "ear2evn2DwUgfzc2H3+ykd482XAg6Z7cQ+/fX8R/TDompcaKAz2hkf/sOWfnjAvIBYmeMSC13xr+\n",
              "jrsv6zhX/alHfM77b22osBoyO14Lg0/mbkvjHaYUodwN7JjloUhzx7e8qf781DI4yLzdSplYcvsF\n",
              "fIPciyo/kDJLOEbEAGC8L6xCtjc4878vQR/2qfd/xU/u57LXoqlQvyJAyXq0e2SlhsNIKnA6RMA7\n",
              "jBn64k76DZ9pKkunkz0XTV0RQJiUZAYRM3T5F3BlgI5g0OemYhIZXY9Vy9PHWZw3JSYJ3GANwK/c\n",
              "zqIqU4XT1MCHNTmUAidocJNtTcDHngRPhUaIvWy7X93GeK5i4Eb3SZdSkoShX461Yp4yk76X5Hdq\n",
              "Ke7IB8Ayr8eHCV2YQyyOv48kRUTzi6MN+8c/pa1PVScYlQ7jrb2b2EzE7W097zGR0C3fYEuOblRS\n",
              "Ss31qE0ntucNvXFsaAAiAUQ/58tlCenzA3XKhSvQVsRazpHzJc8rEVrnslYQNQABG02Q1dmUOrHQ\n",
              "x3OxKxhZsBPxoekeBP4zRMOS/+Kfi1iQLtVKXnT14Talft5EMciTlCZUzKKCvmEIHvFmEwpEGnA+\n",
              "2GyRU9/vSTiA1BsuScYSROB98YkYJGkNjdSl9TDIChLLfaD2hfaMt2tumpKhnAhiJoiI0dME4tdx\n",
              "jS0FijGrcrq8RwwumujWHCd93po7MfRZJQJ5royXUSfg6NQJ25ypLKMshaqmgHBuC4RvwADhbNOk\n",
              "bPDd+HSOHNVqe3ugMOtKvzrJ+AcL3uGBQXCJiMdIRQydWzJjzxz8Edq7H+AajOGlCAhscxGyeF6r\n",
              "3Y6o8SMFtAAVCYZUc78d7YEI3QX/BOoCqAU8KYZu4HHn+QyBIJulIJ8fuomzp7v8YhinyUaKsgRl\n",
              "QhBfN9QS3DtBiVX767/nHncxPZNqinz6gyuXRoJ87k1arl9PiY9741XFjZY+zNUxo//v00NClKHb\n",
              "0Mif52InJELNi2bT8M30kG0z8Tf24FYKUuFdAJHzRHYlloMpk/yAEVjwNLJBx3DE/74HhsbqJCsQ\n",
              "hQcMAF4Q906n05sO4cu2qJZ+13TNNkbtGQkXz31g56DkeE8ZgOwHY3zMZlDAgUjDIYL0plAnHigV\n",
              "ycUg/xUvG5mS+kQLeWoemBqvCPolflNRvCsKOgcD+c8iv89/Ie0XfqkiY8Gpo8Q6GL2Cj1mnV3+n\n",
              "7GUwxGerwnPZpfbUZLQS8DjqTVvZLCnj37efAfV3GB1XQ8fOUPprkXO6+a1KFOZBdBkLOaTuS86q\n",
              "+m8aCd5JR5nnedqv6/5EInLtvfn3mVDlCCyUOvptzLJFOKEWT/QyCyvpHA2DYu99W3GOPmTGu4X5\n",
              "gHDnB4WTjox9vKLsDgH/9SObEAlRylCtcVy76wtj/TqTIxxsfM7lspIp+AXJO+DVj6ZkttvY5bm6\n",
              "tyvSz0fnt42/1ezbll1JnWfI7vHA2LImijoNmrR9UsdXHmfBS9Qs9DIXYJGNGTUsn2r7+KfStEbE\n",
              "yYCNcThUEOI6Fgkgw/L74+3/76zhO6e73dINRZeL7we6aygjDZmztrqUzbiU20mhQjj6ARjG5ofu\n",
              "Afqt/+LJroT51qqqE/zXM31hcplF+fL7rD9HkivvfVSoaX+OKnb0YjhSY67hbX8neqQaj2Vc6oNx\n",
              "Ey3yd3j3jkDVt8cbDhaUUvlA/xoL05TkWLsMy72dfsfD10pq38RsiwKBhoR4ietORP+iX1poAfz1\n",
              "dzCOPUDOa9JrD7ojWT1tTezZ1V+NBeDuYgi2txsFb/5X6Qvpu7ocOksEy/LtIciHVsUNqMAXccJ1\n",
              "ybmPVUZu+UDxmllFZEuTO9ST1LofFfFHmOmHyiFKCylvYR9eWkgpc8vCejsjQDCgZx2fhWob9BZ7\n",
              "6qyBhsWxuNacqfebOZy/Xl1s5JSwoAmyb9fVurbIxagarkJyYiU8ZJ536dajZ9K9KLXqZE7HCUpz\n",
              "Z53X35FRcKfZ8uCpzqxELDiB77GxRgHP69BftHmspph0jYhuAEEmyOorBw5QH0yo+iqm2jppCVqd\n",
              "Pl6XwlG6HcjWnkqhYFvJqaUGfEvq25P3iIThx2d7iqse4+7AnpJhnc95Hms4SME4qbbmS3IXa17o\n",
              "vr9qhePYnlrGWva1JU52Z7fWDdkGVzBBPuKVB4SfriD0RgT8Yl/4CN+SSBBTr7z+kd9FLMp0vaub\n",
              "k/yPhhmDYjfkbbr4dl30gk79QBLf+6rm3Ci7dXxTjyfx7fRZJ8hzPBIbooP27pOjXtW6HZhHouRO\n",
              "0OTpG2A5eNYE0S4dK25VDez4PRRetdIv+VHZqKREgtnzsMCKBt7KWV/lL3V529DTwHOzEs/5NEiU\n",
              "oWhrvtBt7xZVQvTvMRQPmhOVmYJtsqO8ov8BZz3EGcGLHjWjF4i3z6SYob351tgpcIHdlTE1pLhQ\n",
              "LfMfxBqCfKSE2Y7SZk69/uIAzLfKuwAB+DRiWXedel8vBMQwAAADAjcAABNNQZohbEO//qmWAB9d\n",
              "n+2FHvEAVdLSuQ7rIgdzwewwWOEPDhgLy9KXFdQhFt9WOT/BO4kewgnyjYAATsfY+NLosbwM1Lca\n",
              "gzp2FThu9wKuw3XtAddYmp9LyhydXpne+GWvsrpAfCSt/C/+/Nzv10lnfjbud3Yk4c3L87cNpxd6\n",
              "V1NqA/Tt8LaiH2iWRkuuqiGj/KCLZkZxYxSbYGOEAg9tiGtdCRPobQwvYct1lGoJ47CqaJgWJtLL\n",
              "7sOXYAL/QRTCLnCByiQ4Js4J4NyuvHr14H9bnL5R+ZDYHACIMLqCui8KSPTJ41UEND2hj0hkeA2j\n",
              "uTP1ONhUYCBJXL+7ChSQ37oXMA/LLrKuYo5qOEOw8Xd8fznEUjpyWhbsUxD26eZrj6C2FV3gEuqx\n",
              "b3ayJfV0SejosSGT9kMVmc5iuwU8A16U3t6sCEIn4sBAhBILfihoVFjea1ZL09pz8u0Z8iBVWaW0\n",
              "PHs6KqKuiMWsT7pGLTEdDluVPpt4BuCNuj0srjRWf5pELgKc91dgoRLPJaGLNufGrLfX5xkviC6a\n",
              "AnOHQd4h8txuNLEPldWA3p72VwM3s2JPuZIkwTHrdCJ9eAsCNnlQwkXCv+xuNETsJiNq6+suGAEP\n",
              "pdbfmW1H4iU4/gGNSoUHWbGL42njMUgBZHjn+yasD7+80WbfvaYwNksHVzM68T8LG1ViCYQiwTje\n",
              "MiF+QSu3dkV/+tSCHIdRV/BAZQ6NAmM+EjdsTpv1rY37g3geYR9sPgio7hbN5XOdCnLe4D6yyrvf\n",
              "PsbUJ1MuhbhAhRuuP+4rtaL3Yoh7FDX7KVb3CozccOGAqwKRQYRIxVqLzPMOqcgr0cJdTyhgf5JQ\n",
              "4iOkm6C+t/favugUrrWFCzysXhhqE57WC5af3RLEDZXMToMrEzkT06QpIlPCEReUd/wgsO+B8G3c\n",
              "nMpqqvqUeGQKKykoyho0dfaQrgMw3nIMXrDaXMwaVa5YuQTGWd2rdXOwUUU6qwe6kXqDLaFO1qKS\n",
              "ROBBodM7gP7amGzMk6ozfzKe2cRUaNytipy17axthQ96TD7dPQ0WtJwSCfFLnU1ui+iZBriQbi8U\n",
              "o1aAEYfrzW23xZmnkknLCF5Wl7R6b48hI7frjJqRN8RkaqQHqw06802xIhTPfdquQkiv7I6Z9bpV\n",
              "Ue0unLdFNE3oET0Q+87J5PH6WLMfWZc9Yctt7Sp7maQox8MlrEdaoBhLEHB+dYTG/yiRMis2rwc3\n",
              "pg0wBIosPIn+sQEmaRXArk/bVMYPw/V0/PaGnUaPo71upd+lpwPmghus1kb9zSPOuuljlp3MuYLU\n",
              "1cugx6lob6MxxHLDCFGfoRDquNvaeVgvtneriYUcB9G5rqmWPuPv2MTr/p1CS20hwBtXtCfRqcs+\n",
              "JpAnZ5S52rvJYCpaslfGs3CwJjSIh2prpkZ5XSOAC2CChTgH44oPONtj3/NU2BmKfS9OiaelDd28\n",
              "Cy1sn4iAGavP2cyajKXL+Q2+3AF0AHf4rYGM+cakpUU3G9CS16aT1KriqsblqhKmRuja7YnZBERj\n",
              "in1NWEVjOxDhZlm5ABJ93ZxzCnXzGfXlpiW3V9Qr3/rUZSAWx7oBjwB1yC8L8jSSlH44Gsci8MPB\n",
              "dkL1Eyvuz8rLZCm03q7Ns2TfTeyB7PYZhYkhWJHDC6w6seWba5nNLK0O2NE896kgrT6kQyO8D/1w\n",
              "j7J/+H1Rt3HFD4mFzy/7rsCNFqtJW274v4eJ8EYD88UoX6a0OWk9RWVdEtmgEgXLNK6FFGeOgg5Q\n",
              "lineUhTr5Nyq3dCAyg3GjaUvAvPfypIo/Lq4z+Bqy03wTyVanvXM5scVSlW1VcySKTwJejJRbcQ5\n",
              "OeKx4Njn8B/y2123ZPpX9HifFA07PZY2e3vYAV3eCiuVOs6daNxLByZ4NO016V45KX3Atxs4DsZk\n",
              "qwROwZ+h1n9/IdbJumJ6xJKFLKqUZuHKrn29JjngdQuFjk+PV1p/D/vizGfMdJmkF+CtUvR6JwIi\n",
              "vKSTbhfjPR4vgUIcRxCnhxeFmMmDElZ8S1U17LUAl0+TT9fmu/hZAdP96PFUk1PN2bGY8MAb9ZUV\n",
              "0wwP2vVzGeC/vI0u4fiS+dTVl4dvcd9/lNsqL/lLqTkUBuuIll362dWxkKmXd1W+A29h/ucMG8f3\n",
              "EMf8l0IfRw+9wwxZkI6E5ACsaJLb7XCbMn58qQ1AtV2+Ekyn6ouU7S8RgExDyzQlrDeHHFgvv+m1\n",
              "4u2MmbB5d1sjjANOjrW6WpDj5dtnrdcHkYelD91CVnY1TG5D5bksMdng0zJIJDLyGenH5KXESBU5\n",
              "jDMZpz2fvqPNabWbaCQKfy//sWkWnKo/P0+HmWCsXrO3yX+cJj9eKhYukryz7lPZtL8PR7Ey94Ag\n",
              "27lW1B1wtbjY5xtywQmm7dHnpIveRKI7nsavC87hxkZuo1cZCYR0ieY0nT4PqY3M4RrW3W6nWwYQ\n",
              "0cENcQFcGt2TDUkjyj1LfllOkvUsGlyk6iftLNEoMbRTQwV9mNMTjYEY5FxslYY4Myu2v6rSru3W\n",
              "YE/n45zsxEC7R6g9K/+D1ag1Tx0tXy4dmB17r98/Iq3tcMe95U1DLx4Nwt/r0ff5FQOgZuJTP5iK\n",
              "trjrnDW97u6oScVHn5OzklT1pTEbBwOKBGER7N7lN/DtGEA5uKo0GmroLlvQzyYI6nHsTIFDTe/+\n",
              "UNU3VbpTJ+F+6M4KQho3pHW0GlYiPZOmuqtimcFlErXtxcWg4L+s7RTbfI63P2nVF3pdde44+D8a\n",
              "0joPJEH76A5ChpshT6w8mveZcqRSkiSk+oc9CJSFi/Kkffgy2dkk2STQ7dxIoYDd6B9otsc9kdTv\n",
              "R8acoUDHqLsIKrVbpIBcP9SKUDTXrZVt+ugGe+vSqhKEHccrhrbUv+Q8A+ahz5+xKDKCHhuA78/Q\n",
              "3bqYiIGAALT5uPepeCTS8ScfVw5HhKDwI05ECdpxoJmO6rqMBgMh/g9Ba8z+M+30De6HXNQtWVpe\n",
              "oaDwWTjcyfi/s9J8Gtfn3+WhMOMyYxDVVj8O081/CsyTBAS1DGBfBgSyKMBJuT25UW3X80aNFNnD\n",
              "Vq3m7q8oekrfo01iX8N4Dao4lQJW8zPQ73we/vVv/00JQqjNTCag6WIxgLkuOuRnjdZaHtDzVRda\n",
              "6Zg77gdcp//0BOhZqieUyKWiNRDrGuOaXOOgnQ2W1kvX5TXBZg++8iagH9k8uaQPSnpQTrJVZCvH\n",
              "8X3fRCvbJ09rsPD7z8qwXNSKxW8u8G7fO3gBu5S2BXY2SLaKw+XF1aifCOe2zEr/8q4sOT2x5w9N\n",
              "ru2ZCoe5WQaaT2JytSoElrR8h1G82Wn6mqtjSwYV13CshAxIUStcFN6EgkonmouaUaDq8hdqywSe\n",
              "7XB0M55SFUEa4247VQ1ACsvbQ+AfKicL/Kpx4n8U64jUgC0CX5N3IaOXEV/lblJIyV9b8ox6TiS1\n",
              "8zusm8dnczdeeudzocFztiDV+KosLpJ8et4wTb5ycj3mF2wPbJ+cxcXpkriU1Oj8YJjU4KOAkJhS\n",
              "Yf2euby47PtamY72LEZYDjZnMJzlyrRhyZMpKEaUFKPQnZGxsumoyd+KvGaamlhdN6berAftdiUE\n",
              "BSl8dTWVsIOrpqKIuyMfVb9KuPpHbzz3d5RUieG8c4nsrwrdrgdBL1C/oP8n5BfXj9ss/4DT+Kje\n",
              "jLmZ+txCljEXV9XhRAi0RgDRUQt/VRoIFBXuOO8bmeEYuvbKlvWLYK1wa/dwZa42mA+lD7lL36T/\n",
              "Wf5RXqOLzwBHL6FwA/WhvLaoqDSDuIm78NA+MzSAzRylan8M3R5uU70VOfEpj+bFJl4+LOBme8lB\n",
              "eWvf85pBHyimCSgZVraZljIl8trIvp6T+FA7mHczC8LlesbHDTCDZJjeVOFzNnrjc5o+56ZxZxWv\n",
              "4cR/pr0jZAFfAFwXbf7IVsq/WisDrwWLwdrgzt5lLGmi8CLJDHjZgOeqzmJP0V1rin5oAKcyO/xa\n",
              "cuQ04zcATjXe4FDsP/ZtidLMZm33RGzbm3b4V74xUyBEW9fyQ7P9aCRTgX6Uw/wAKYyAPQcd+yly\n",
              "UW47E2knicZkWdzgzJ4ZcrVoPlRO1ApevwjegL3cGeIya89iof9NklXsKbcSa5QnT9uCzJzUzV5M\n",
              "uGd0z8G7N4Gk72q9E5HRH8hNc+9MFG6ClU09HyrAGOjpd7vQvTvP85l/Sakz4PbYR3Gxo9b/P2B5\n",
              "nd8ldmnX1lRbBcZ4jvw44RS1q2oJoPBAf8vlBzybk94Xh2NfisboMOx3ccZtMv3pTZyyZx4oC3I+\n",
              "+MYW57rN2Qmsl+dFieyEV3ukbxCs4as7r37hUfzGTvIJWJ0NxiZAyzEOKjsT6qvvJxgyEYN69XRm\n",
              "AKDPKOoEEsVP1BnUptQJy7C/6yU7y9zFSz8R4sqlmRbJmcL17U8bipwb1PrnoHlVAqjbcIk7RKNF\n",
              "bmPhdMiXc96WyqFouamf1sVZbTYFx8aDx/GaG1P9xUbrZ/zcAWwXCF/+pH6jpAK/kSae2Xi7zJlv\n",
              "T8pBtlYYV2rlWra1fgkDBMPtpOnC9Z/rRksqhYRYczLu5FR6ToVw0lnK1TKv3rMQEyUOKb+k1/0V\n",
              "9J0Fe+RrVd3aN7ucqTy31tP88y4bihvz17PSit23zIBnHx/1NkdvqoetH5fZuxH6F7/nkoDL8ko+\n",
              "evbvD0E3PfwTOprNHl97e770mpZ02mZYHNJFzej8USjdfHMsU4TfSTMgsx2xsc1VBD0fsBtp394h\n",
              "f9UrEfIy7E+F+ELIvgORROCpg8qDc3nqrLW0oBR6H1f3i6cpBimD9EJdhmJ4XSOUEN57EZgBkny7\n",
              "3dxnCNypcIvMah5kBDP0dil3zps/H9/HTOLuTqb+kwTOjpgXgiR0P1l7DeZjOuwV5B/UleFmffy/\n",
              "5bqTDRuBN0OKRdFOhjpTVwp9FbuLC6CueuEdu32827l3sz3jWq1FQUDffWzCebXghqsokpnvwaH3\n",
              "b91V81iMZ7x0hDHZj1M/sZVBWsxLCPKoXU1dhaAs/q5ZboDotVGBnffzrrtQdySvk6PUsQa9m+Cn\n",
              "N5s5a50DprFHYhxQjQX0DWnkIHb8QjHQBEhA4/Xs3zJGNUNLVZ3DljtgSGZ4lSddKcqtDH880MR8\n",
              "uMGzPzbDO9JwcYfmodHv1bfTNTI8mQKEsjS85UHrJfpZPShHPxmuaWaeEujC3YFA2sjyAIxChzNI\n",
              "6cLcIWuLYpvRTlggiZ2hdM954DwdqHbopMvEUhj76UaF0LXLW+lJbn3HNReEHv1Z6ssxaJQzOikF\n",
              "fy3HybtGwIyTEiRA88RxxqwGUZh0AOgf3OpmikOoNg9WJVS+8RLwgE+0qbPBQOBqEeCxLDMtl7Ff\n",
              "0JXDovzUlyOED/vLzV2rLtZGNe7PWoxG0tAmgWoVzwcgSO5w4M7f6MDCpk7DuIqW2Uj0NE37GxD2\n",
              "GsT0m4k/YeyZq///giQH2tpUs2s7a/imB53soZNDQBYkLv0Pgk72wlz2sSu6EsAk4E/9fYGJnukZ\n",
              "nPx2GsuIcLwiGMQsSEVuHV0UfMSWXAE2V3c3vCNK99PD++UrfA5LOPM/sRl6g6ogAZbC0yCtnBd7\n",
              "sWKwwqTVaSMaSuVxupuO5aa1CDLMjE1r9bNTBE7lf/lu/kStiBN1vr7GY+FDPah1EuOUJyMHW/O5\n",
              "v4FQy4og/66cRI87TDhNEEOp3WdyLFeCgwo2tkmhr/zrTJMXWNMWL7tz2vCJ8228vKwQ5e43B1i0\n",
              "XFaYwGwZMGjwvxjc8u4OmqUVgE/NTgsCGcnSH64YrJr7SXCofeaDfJNgtmmVo5Df0BSy6lJI2GsP\n",
              "xQPCvPO0DJ7eloIcq+V7iDfA2dt8ztKvfKnbA99hi/D0wuI3WEs46cFkXEOJAKkztQC+gWg2+3vg\n",
              "hcQkb9oh8Z16zeazLfz7fJUrFwd5WNF8hbwnLRvkA3CjFwzrPj/ULLnBTbdLfQVNDRtSvxSIBygt\n",
              "hAz9o4uDhBTh7BoGJejy6DsoJi1N5RDTfYFj8X01TBJi+YQ6o5ptpjKWPpGC/lbjDQx96qd8okQk\n",
              "o5T19vkJGwJegYKB5Eo26Op6JMDHfFS6JfGCmbJtJ57bgzbSUtPrHqoq49o0qh3Mmgggc4iKpqL0\n",
              "fMg0FBsr58+jV2rNVT06gfEBY/Rt0ruofCnfGI1z+wtzhV4ZHvC/YOah9Y8L6ddDH5+dXQ4pjtcC\n",
              "FpoOmxxMIUJPNH8Jd1Ssedou01nlSin7IrifW2UVpzerbh4mgfTcjWGt3BTMw47frtQnfivK7IW4\n",
              "wzmidP9vYzVYm5FeZhK5rMo22w8PNQcqQ9OwT+iw5bmiiPHyPoIplBhxPnTUTcq2VpPA4bS64Ym/\n",
              "ujHjqdzPPCX4tW6Tx8CtpLzuvTfj7mBjWidSqwBBUeGimwvo7Bf/hxwD2UHEhB9O+2fKVQf9RODd\n",
              "IEoe059iSXEpLt5pn1sdhIMMp3hu+vDryNreIiz7qf5EHLnvmxr2Ve3jmCRpYuYbtwhzpw4OoLCD\n",
              "/19Tu0zDA0Abanl6560A4fwV/3wK4gc/am6Yb/DzKO+A/MUxEqikgLKX3q/GJeanCOClJt8PrkM6\n",
              "QARNAyvIOwiNVuu1TEkNk6TXDjMZ5EiNkGBAAAAEBUGaQjwhkymEO//+qZYAHzDcNAHXsT5KX8gG\n",
              "P5Uw3/89MeS1yi27tKJ13eRonIy5XrRqArj5nwzxCIKGgjH3HfMBg2QL0y/sntNjUrnfCYCfHnm5\n",
              "sTjmONoSrRI1lKiGseUMyhxvYvJfE4K7CwAAZ13XwJ92o67bIIeU///rBiTroWWz3Ic42Quqxjd6\n",
              "dOwR73RfKG8oJQ/xNQHaEytK2CZ9Xua7aqX+uzR300rr8F2U9dsT4JXIFSyXQJM/Abuym2gbrAnZ\n",
              "ph3MmQE3rt/O7kKkfWZ3AE6PYfvylHlgGdfrrudgLlM1P9CCOuGo/xa9kAO4IiIAeYgYOabcHQLL\n",
              "HLx8NUhh5+ibRYV/584/naYc7c7X5uvy9a21URPM9T57Y6CiijsSyZ54hBnYAbTGR/HHF8fpAR7d\n",
              "5HbYNxPcNY23wRbHwhhUQmDL+3G8PJGesH/sTmkZpRqJ2H4wnXPPI+ty1dgAnErtvUEIuFRqqOe7\n",
              "zfjJJfkKdYAW9Owa0D0uv8y6ysyueJTB7dt0JXwg0tpaTannbtoINnuhC/PZnWAyya5iHewyzRby\n",
              "liFFk038jArafYJcVa515EtHPNGKYAasYinUy733T49Hm92365rXcHTVTc8SlrHLA5QHnFp979XC\n",
              "Qw9YFrO3GfBMCAhNF3dHM95krYF+lJ00VH6rf9wesGLYhAs1Cuh25iy8NpglDHkhhttPhSE0ZWp7\n",
              "Zl64giHKO6QzRbCGVheg3J+tAZz7RKjfnVphyzvKc/9XexhdUqTn7VYv6HUFm0luGle9wQg4CjoD\n",
              "a9O2/UOy1LMNXXFlyfD2E5HY5qEeOWqiU+peCUu3mXsFzOyw/zPl2sDmQGo2FtHn46RZzBBnEQL3\n",
              "DFFy3g53MpJta1XL/poSWjOj+/EUOFnDVkv+lerKHrxFxkcIuRDt4/gF/38WXVhvh8JdVZqe9Htt\n",
              "bZge2MHCKPI2Y5AaRLJgQBqcCn1NmQW3bcbTfQ6yEMYxyi3FhsNVOuzY1uSxpW7jeqHP3hDOoVkV\n",
              "QEdHThYo7Ejl7FW1SONgFuEc+MAOZROHho6dh5P5HxBQnl0XJGuwP2fLTFZ9XVgw04HkY3dJ5Tk1\n",
              "ON1rhmdoaamP/5XtrzSe7LXHrrhK9oG3U4EywoXug0Nqzv3hKrS+n48D6edPKZCj40zGiMC614VN\n",
              "N12OAg3sp6kf/MnviKkhMHwfYHGxHkftXlZtEtS0t1CatpJIg9mATU3FWQLu1Gu63b/Su6zPjlcT\n",
              "rtN6tJtUa0kmPdhUwP3MFdfVy7pnMyBl/l0G/dVZZ+i/MKJ+wuXGOAR562ps4qyZ+GbMwRrPWFWf\n",
              "IOuuUKO84ECvyY8g5k4L6s5A5yFCI2kLZY7NRlx6H7GLHwAAA4pBmmRJ4Q8mUwU8P//+qZYAHzN5\n",
              "eAL0Ojm/h52UH+Mylbs0jvqJDwoo/5XAFSmG0n3NDthrWGJdKP10PFaHvJgfMdWop6guMPmkHAXp\n",
              "r4T1OC3cVvZordDgpZh8ktweaPz8HW8A6qmtaMISzlx3oPoqf+Aukds4a/qgnaRDuN4v+c7WvCEy\n",
              "u91m+xXFozeSB6ogtx7H4yNEFAMjzE4dZqE5ry7+JrsKd0p7ttfYFJChXAErYMrrMW7ak/MKN0HL\n",
              "RFMddbfuO6BBwOqLcc+CMsprA+vbfKCNDgw3ZL1dHoO9csWY38IfKg9ppCoxFcjvzalne3U2DyzJ\n",
              "CQkVxZnMZEVMj0pgTk8Iu9MQBJr6T3IPDHCho18y077in12SDpDrFf47HGMcOauLUS608SxEolDT\n",
              "zkmkT5PENanaA8NKkd3fkA+K9YGkgV/oChW3US6/mp4oRBFmzYc5LH9DW94XcBn+Hl4gl0/sdSYl\n",
              "TL2dgfcwN3TRWBVFlxP4kMngvgf/UsfO5HPnpO2woJsuVTVgXIBIxqyafH6J2qh28cWkODDFwLhs\n",
              "OQ3NTIAetmhvotd2yz+I1ZmwBCgDNsxh8Wat/zsmil+EI1B2Z85Ifq3omL1EqaVhbMpgaaDSRvQj\n",
              "/kBILtGfK9PWoluffCezIOwKVkX8nWEX1gwWdbMKZnYHyDStNLlsVD+2Iiwq1JolZ4Blof1uPqsj\n",
              "tweqCj8mSRQ/i+Edg6opA3d3sjm60y4MBIsqax878fkJL+/bSJFwe/cx2Dj5PbEWv7VCPKgIZPXD\n",
              "UQ/fRqK264OwO9LDS8jkDI5XJgnTx3QvOqg22PVOTR+8zEZPfxeNEoonkhrrC2/NL+WAnAu6H0IA\n",
              "+TK/IEjogZi/oDBlgHevXiEMlOYXzZ21OGF5DCwNES9/SLM1/PzZ8sc7iGc5j2HV5OI6t9LZ05uq\n",
              "0NojY1V7mEIXUstpLzeLzrqu6vhu7CIpDtyrz8SkMPKV5SZ9B+cH7JDWh3SbMozaj1RRCHFbA1yO\n",
              "I/12y0yIPI9r9TUiEneP6gAF7WFH4EKOSCqCsHjwUe7iTQRznASZeZxwRP1UkPzzXeboATPr/wNw\n",
              "5UTVLqcdtnQ0XeEL/a0zmePRJbfQSaazW2ZGO8NRwHbos/kD09nOK4DURxx2/tT4/2/ygR1QMFr2\n",
              "LjXMzpSmgGAsNGMiDUSmX5um8SncevgHPZm3JUfJRcAAAACIAZ6DakK/ADOEJzRo/99+iQ611rGi\n",
              "Ojq4cgrN+4c5UYAcbemugityitF9Z4qWwdjjHaRnGHRVfZI104yDjeYeQ3RnIZAX8WilCkr2DWWO\n",
              "anU3VfhdKYACKR2iov+JwFK97oz+LCFPy1V25FzPY5D0RGNwnNqpQFcKOPZ65cGn/A/tiT95iEZx\n",
              "KwAAAw5BmohJ4Q8mUwIf//6plgAAAwAbKXNgLKm/E4Lhf+H/TvsrzsrwuxMzriSbNRU4E6t4YgKd\n",
              "xHiGbJGf8K2AF6dcp6TSaCuUjh+VHGWDXBfp30YLgqzKDwvJ+qWU5Ae+WvOsEStlAes8kqjxMUm2\n",
              "AG2FgxXH2sfB5e8vSoClFYeF9S/uldgz9BOcDooeZNFXYMV9gYBakbdoncTrnUUZ+Pz/hgp7PXCJ\n",
              "7pvu1fx401IrL7/pFFylJ9PbTWN1CwGoN3xAVojoxkt+cb98qcOxY5YWyk/ue68YAxuRVROiC/Qq\n",
              "7glALP0pJZdIGQjrUMtt7Bn+LMZgmG+n5E+zC2jJ1O+1/ba4LxjxBpjxtRvL3UbnQRTJwLQ40Wna\n",
              "rcA8C9wM60POD7u33PWoeSooa2Y+pSs48uhfJi51cIh5Dv/ddJwPP4T9KDFZUj9SzAmOKEnhJJGZ\n",
              "iPY35P14CjOY9mqYy8Dd+8M8NXL2c5JvI78WLTrdGaahVAyupyy/SqB+YdJ3Qnw6rqIevMPvCrZM\n",
              "uoQkPaSPTE+b3easHKCbc3uJJi0/9O+/DEczDY/JIpoAeSAnko1xx8t00s5sCoBj3Qi3ZyxFptCs\n",
              "nPdE3dMmXLKcEPUxVeltPKLWKdR7P82N0o30L30WgIzpojYbPsw954Q5FoHJXbg2YKfMbDrLbBS3\n",
              "x92qbCuOWS1uW8GN98jGXdTRc40i2u57KWwkP5PqVGaTVibhxKTuudjcN5bcSm+VUDPQXcpfto66\n",
              "KiCe+NizBg3sixoXkr2GrcJTf06xhrr2c4EHiQIonaYBg+JUHPfihC2MCQ1aLZBiI2QDtLVO50sa\n",
              "lDfQbLs7Eoz0f9bTXHhdagkDqDuNbLDYkHoiSOioMF9YgkcvDr/39fcKNHPJfl7MZlWuxI6Phzc+\n",
              "Xg6+D+bybeOGqHyv9zPFr8mKfK+GmFszCrgRpTxt+sYT0CdofMUwek/iVRjGMnrtP8zhhjdAJYzi\n",
              "7MENcgsyin7eB+jm5Lsb/wGo5claLZ6z0hdNxRM06aG3IN1xnrJrR8agOAAu4QAAAFhBnqZFETwz\n",
              "/wABoeI45DYNNjXEnvWFwAvxg2J54+7Lva4StE9k0uzlLJTQsZaZMTN716n8pIQH+uaTwy3qPfaL\n",
              "Yx1yTAHSPBk7K5mRksxGNw6HxqHBiQHjAAAALQGexXRCvwADD/09S6Ez4zUW5nlorjQfbGukcfYI\n",
              "AhBEil2QcLMkkOmhRaACywAAACQBnsdqQr8AAxDpTsn1FjSZrvP9pN4JdbLP5Un+du0gpUQAhYAA\n",
              "AAE1QZrMSahBaJlMCH///qmWAAADABvtn/wlNYgKe1Ux5Zoe4AGX3YViSWrbnnISqtjdWdnYSS0C\n",
              "pn8GHpeGja6Z7htoogpb4H0/1JATPnDzSKVV74Isni/FBIMlsjRZHlTSFwB4SGug9bk5csueEJpu\n",
              "OfUTIydmaYw7gQnbglc5EcZq2vDLbA8eiEfjyN/zjps12eWt+8bcVEA/OymyIW8YjegqhVGoGZbx\n",
              "kkoKwKjRhgw/ZsQP+fhbOVzxPEGWjxBZq1Ghsl9Dvc9+Q0bIPQbVS71G932FcVMQYYv0Ncnv7JOu\n",
              "7JrJx8vlUUy1djexn//yhsDsBQfOcf+kGfa6d6Hf9iJZ34pgLICBxjm4t2yCFSZE78M7UlWczFda\n",
              "nSP0cM9RbitoMNbWMG8Fxo8fIpjxC6O/HAs4AAAAKUGe6kURLDP/AAGmYcWQ2DtLvmhQd1iOBtZ2\n",
              "SVQaisWS1ZrnyKxMrAZlAAAAHwGfCXRCvwADD/09S6E0TztANlz17Oa9TOBJI/TAAxYAAAAdAZ8L\n",
              "akK/AAMQ6U7J9RZu8zDNM3BwY+PphUnUnbMAAAB+QZsQSahBbJlMCH///qmWAAADABxzaUgr/kSu\n",
              "+LXSNU/4bZ793FlR6WWuBig5vUC1HnaoysSRgJyBv2XlWCI4ZsMXa/YryzEUb4URwU9LS4Oa1Ugj\n",
              "5xa2gNK0FVkLIcFbLahreXAsqtGEoAPcd5OdBEVw2BYucMkMd2DAVw2BAAAAH0GfLkUVLDP/AAGm\n",
              "YcWQ2DtMPgSjGhdm9R/HXEXgAY8AAAAXAZ9NdEK/AAMP/T1LoTRvppdOjkU1h6UAAAAYAZ9PakK/\n",
              "AAMQ6U7J9RaO1xUkSiGyyO2YAAAAkEGbVEmoQWyZTAh///6plgAAAwAccs5AgYtqpjhC0umYaOi/\n",
              "Ljdz2RZV7bmwM0oVsAtnnCncc4KBXryXMJmpFOGBBan+xsOHSCqU5eZZelwF+GUpfKnKBtjNrJzm\n",
              "xIdbIgP2FhndNZTz9Mr3opvVnF5V47Xl0jUh3+syMYgEGPUY9z+6hwZfxkVUSO7S08EJeAAAADhB\n",
              "n3JFFSwz/wABpmHFkNg7TDcClAIOV9uI/75kymiyVXnC+vvmct+AMvsA8+NqQJYORCcsaz4BgQAA\n",
              "ADEBn5F0Qr8AAw/9PUuhNJIJmPRhJk8GAADawVz4I9VawsqoqbcpONgKTJwcefE1hC8gAAAAIwGf\n",
              "k2pCvwADEOlOyfUU12wlACtd1jsj+L3MBNt/9h2Rzgk4AAAAVEGbmEmoQWyZTAh///6plgAAAwAc\n",
              "cN50Bi2VGMqU2WOOL2LV01S3yJbRr05TfAHaJlijgeItCJrX8Wnx7qzlh0d3XS4pB4W4mdy4PSXY\n",
              "rBgn+AAKmQAAABtBn7ZFFSwz/wABpmHFkNg7TDYrHeQo0HBhJ2AAAAAUAZ/VdEK/AAMP/T1LoTFQ\n",
              "FK6Cs3sAAAAUAZ/XakK/AAMQ6U7J9RREDtqDWb0AAAAZQZvcSahBbJlMCH///qmWAAADAAADAAAs\n",
              "4AAAABdBn/pFFSwz/wABpmHFkNg7QxA7ZT4tcQAAABQBnhl0Qr8AAw/9PUuhMVAUroKzegAAABQB\n",
              "nhtqQr8AAxDpTsn1FEQO2oNZvQAAABlBmgBJqEFsmUwIf//+qZYAAAMAAAMAACzhAAAAF0GePkUV\n",
              "LDP/AAGmYcWQ2DtDEDtlPi1xAAAAFAGeXXRCvwADD/09S6ExUBSugrN6AAAAFAGeX2pCvwADEOlO\n",
              "yfUURA7ag1m9AAAAGUGaREmoQWyZTAh3//6plgAAAwAAAwAALOAAAAAXQZ5iRRUsM/8AAaZhxZDY\n",
              "O0MQO2U+LXEAAAAUAZ6BdEK/AAMP/T1LoTFQFK6Cs3oAAAAUAZ6DakK/AAMQ6U7J9RREDtqDWb0A\n",
              "AAAZQZqISahBbJlMCHf//qmWAAADAAADAAAs4QAAABdBnqZFFSwz/wABpmHFkNg7QxA7ZT4tcQAA\n",
              "ABQBnsV0Qr8AAw/9PUuhMVAUroKzewAAABQBnsdqQr8AAxDpTsn1FEQO2oNZvQAAABlBmsxJqEFs\n",
              "mUwId//+qZYAAAMAAAMAACzgAAAAF0Ge6kUVLDP/AAGmYcWQ2DtDEDtlPi1xAAAAFAGfCXRCvwAD\n",
              "D/09S6ExUBSugrN6AAAAFAGfC2pCvwADEOlOyfUURA7ag1m9AAAAGEGbEEmoQWyZTAhn//6eEAAA\n",
              "AwAAAwABWwAAABdBny5FFSwz/wABpmHFkNg7QxA7ZT4tcQAAABQBn010Qr8AAw/9PUuhMVAUroKz\n",
              "ewAAABQBn09qQr8AAxDpTsn1FEQO2oNZvQAAABhBm1FJqEFsmUwIV//+OEAAAAMAAAMABUwAAAV6\n",
              "bW9vdgAAAGxtdmhkAAAAAAAAAAAAAAAAAAAD6AAACcQAAQAAAQAAAAAAAAAAAAAAAAEAAAAAAAAA\n",
              "AAAAAAAAAAABAAAAAAAAAAAAAAAAAABAAAAAAAAAAAAAAAAAAAAAAAAAAAAAAAAAAAAAAAAAAgAA\n",
              "BKR0cmFrAAAAXHRraGQAAAADAAAAAAAAAAAAAAABAAAAAAAACcQAAAAAAAAAAAAAAAAAAAAAAAEA\n",
              "AAAAAAAAAAAAAAAAAAABAAAAAAAAAAAAAAAAAABAAAAAAoAAAAHgAAAAAAAkZWR0cwAAABxlbHN0\n",
              "AAAAAAAAAAEAAAnEAAAEAAABAAAAAAQcbWRpYQAAACBtZGhkAAAAAAAAAAAAAAAAAAAoAAAAZABV\n",
              "xAAAAAAALWhkbHIAAAAAAAAAAHZpZGUAAAAAAAAAAAAAAABWaWRlb0hhbmRsZXIAAAADx21pbmYA\n",
              "AAAUdm1oZAAAAAEAAAAAAAAAAAAAACRkaW5mAAAAHGRyZWYAAAAAAAAAAQAAAAx1cmwgAAAAAQAA\n",
              "A4dzdGJsAAAAt3N0c2QAAAAAAAAAAQAAAKdhdmMxAAAAAAAAAAEAAAAAAAAAAAAAAAAAAAAAAoAB\n",
              "4ABIAAAASAAAAAAAAAABAAAAAAAAAAAAAAAAAAAAAAAAAAAAAAAAAAAAAAAAAAAAGP//AAAANWF2\n",
              "Y0MBZAAe/+EAGGdkAB6s2UCgPaEAAAMAAQAAAwAoDxYtlgEABmjr48siwP34+AAAAAAcdXVpZGto\n",
              "QPJfJE/FujmlG88DI/MAAAAAAAAAGHN0dHMAAAAAAAAAAQAAADIAAAIAAAAAFHN0c3MAAAAAAAAA\n",
              "AQAAAAEAAAGQY3R0cwAAAAAAAAAwAAAAAwAABAAAAAABAAAGAAAAAAEAAAIAAAAAAQAACgAAAAAB\n",
              "AAAEAAAAAAEAAAAAAAAAAQAAAgAAAAABAAAKAAAAAAEAAAQAAAAAAQAAAAAAAAABAAACAAAAAAEA\n",
              "AAoAAAAAAQAABAAAAAABAAAAAAAAAAEAAAIAAAAAAQAACgAAAAABAAAEAAAAAAEAAAAAAAAAAQAA\n",
              "AgAAAAABAAAKAAAAAAEAAAQAAAAAAQAAAAAAAAABAAACAAAAAAEAAAoAAAAAAQAABAAAAAABAAAA\n",
              "AAAAAAEAAAIAAAAAAQAACgAAAAABAAAEAAAAAAEAAAAAAAAAAQAAAgAAAAABAAAKAAAAAAEAAAQA\n",
              "AAAAAQAAAAAAAAABAAACAAAAAAEAAAoAAAAAAQAABAAAAAABAAAAAAAAAAEAAAIAAAAAAQAACgAA\n",
              "AAABAAAEAAAAAAEAAAAAAAAAAQAAAgAAAAABAAAKAAAAAAEAAAQAAAAAAQAAAAAAAAABAAACAAAA\n",
              "AAEAAAQAAAAAHHN0c2MAAAAAAAAAAQAAAAEAAAAyAAAAAQAAANxzdHN6AAAAAAAAAAAAAAAyAAAj\n",
              "JwAAE1EAAAQJAAADjgAAAIwAAAMSAAAAXAAAADEAAAAoAAABOQAAAC0AAAAjAAAAIQAAAIIAAAAj\n",
              "AAAAGwAAABwAAACUAAAAPAAAADUAAAAnAAAAWAAAAB8AAAAYAAAAGAAAAB0AAAAbAAAAGAAAABgA\n",
              "AAAdAAAAGwAAABgAAAAYAAAAHQAAABsAAAAYAAAAGAAAAB0AAAAbAAAAGAAAABgAAAAdAAAAGwAA\n",
              "ABgAAAAYAAAAHAAAABsAAAAYAAAAGAAAABwAAAAUc3RjbwAAAAAAAAABAAAAMAAAAGJ1ZHRhAAAA\n",
              "Wm1ldGEAAAAAAAAAIWhkbHIAAAAAAAAAAG1kaXJhcHBsAAAAAAAAAAAAAAAALWlsc3QAAAAlqXRv\n",
              "bwAAAB1kYXRhAAAAAQAAAABMYXZmNTguNzYuMTAw\n",
              "\">\n",
              "  Your browser does not support the video tag.\n",
              "</video>"
            ]
          },
          "metadata": {},
          "execution_count": 28
        },
        {
          "output_type": "display_data",
          "data": {
            "text/plain": [
              "<Figure size 640x480 with 1 Axes>"
            ],
            "image/png": "[encoded data removed]"
          },
          "metadata": {}
        }
      ],
      "source": [
        "# Simulation parameters\n",
        "h = 1. / 4.\n",
        "numTimeSteps = 50\n",
        "initial_state, kx, ky = (1.0, 1.0), 1.0, 5.0\n",
        "\n",
        "# Systems & solvers\n",
        "systems = [BeadOnWire(initial_state, kx, ky) for _ in range(4)]\n",
        "solvers = [None, ExplicitEulerSolver(), ImplicitEulerSolver(), TrapezoidalSolver()]\n",
        "\n",
        "method_data = {\n",
        "  0: ('red', 'Analytical'),\n",
        "  1: ('green', 'Explicit Euler'),\n",
        "  2: ('cyan', 'Implicit Euler'),\n",
        "  3: ('black', 'Trapezoidal Rule'),\n",
        "}\n",
        "\n",
        "# Figure setup\n",
        "from matplotlib import animation, rc\n",
        "\n",
        "fig, ax = plt.subplots()\n",
        "ax.set_xlim((-0.2, 1.2))\n",
        "ax.set_ylim((-1.2, 1.2))\n",
        "\n",
        "lines = [None] * len(systems)\n",
        "lines_non_null = []\n",
        "for idx, (color, label) in method_data.items():\n",
        "  kwargs = {'ls': ':', 'lw': 4} if idx == 0 else {'lw': 1}\n",
        "  line = ax.plot([], [], color=color, label=label, **kwargs)[0]\n",
        "  lines[idx] = line\n",
        "  lines_non_null.append(line)\n",
        "\n",
        "# Initialization function: plot the background of each frame\n",
        "def init():\n",
        "  for idx in method_data:\n",
        "    systems[idx].on_start_simulation(lines[idx])\n",
        "  return lines_non_null\n",
        "\n",
        "# Animation function. This is called sequentially\n",
        "def animate(i):\n",
        "  for idx in method_data:\n",
        "    system, solver = systems[idx], solvers[idx]\n",
        "    if solver is None:\n",
        "      system.analytical_state_update(i*h)\n",
        "    else:\n",
        "      solver.step(h,system)\n",
        "    system.on_step_simulation()\n",
        "\n",
        "  ax.legend()\n",
        "  return lines_non_null\n",
        "\n",
        "# Call the animator. blit=True means only re-draw the parts that have changed.\n",
        "anim = animation.FuncAnimation(fig, animate, init_func=init,\n",
        "                               frames=numTimeSteps, interval=50, blit=True)\n",
        "HTML(anim.to_html5_video())"
      ]
    },
    {
      "cell_type": "markdown",
      "metadata": {
        "id": "dWchNLgLk3GI"
      },
      "source": [
        "## 4.3. Step doubling: free-fall"
      ]
    },
    {
      "cell_type": "markdown",
      "metadata": {
        "id": "s1rP2jpo1ds_"
      },
      "source": [
        "Write a variation of the `ExplicitEulerSolver` that uses step doubling *repeatedly until the error is low enough*, and *returns the next time step to use*.\n",
        "\n",
        "You will see the results on the freefall system from before; simulation code has been implemented for you.\n",
        "\n",
        "Specifically, do the following in the `step()` function below:\n",
        "1. Compute the two candidte states `x_a` and `x_b` as seen in class\n",
        "1. Compare the mean absolute error between them with the provided `error_tol` value.\n",
        "1. *If error is within tolerance:*\n",
        "  - Set the state to `x_b`\n",
        "  - Return the current time step\n",
        "1. *Otherwise:*\n",
        "  - compute the new time step to use based on the formula learnt in class\n",
        "  - *reset the system state* to what it was before this `step()` function was called\n",
        "  - recursively call `step()` with the new time step.\n",
        "\n",
        "**<font color='orange'> \\*\\*Write your code below (3 pts)\\*\\* </font>**"
      ]
    },
    {
      "cell_type": "code",
      "execution_count": 29,
      "metadata": {
        "id": "TED9NyMh1rb5"
      },
      "outputs": [],
      "source": [
        "class SDExplicitEulerSolver(Solver):\n",
        "  \"\"\"A general Explicit Euler method solver with recursive step doubling.\"\"\"\n",
        "  def step(self, h: float, system: DynamicSystem, error_tol: float):\n",
        "    \"\"\" Read the current system state, calculate the state after advancement by `dt`, and use `set_state()` to update the system.\n",
        "    Now, though, return the next time step to use, according to step doubling using `error_tol`.\"\"\"\n",
        "    # Student answer begins\n",
        "    current_state = system.get_system_state()\n",
        "    derivative = system.get_system_derivative()\n",
        "    x_a = current_state + h * derivative\n",
        "    half_step = h / 2.0\n",
        "    middle_state = current_state + half_step * derivative\n",
        "    system.set_state(middle_state)\n",
        "    middle_derivative = system.get_system_derivative()\n",
        "    x_b = middle_state + half_step * middle_derivative\n",
        "    error = np.mean(np.abs(x_b - x_a))\n",
        "\n",
        "    if error <= error_tol:\n",
        "      system.set_state(x_b)\n",
        "      return h\n",
        "    else:\n",
        "      new_h = h * (error_tol / error) ** (1 / 2.0)\n",
        "      system.set_state(current_state)\n",
        "      return self.step(new_h, system, error_tol)\n",
        "    # Student answer ends"
      ]
    },
    {
      "cell_type": "markdown",
      "metadata": {
        "id": "Ae3SY6r7qdh0"
      },
      "source": [
        "### Simulation code (do not edit)"
      ]
    },
    {
      "cell_type": "markdown",
      "metadata": {
        "id": "P4GCZ7FEqZ8X"
      },
      "source": [
        "#### Load PyBullet objects and initialize required parameters"
      ]
    },
    {
      "cell_type": "code",
      "execution_count": 30,
      "metadata": {
        "id": "DvHNWdT6qZ8Y"
      },
      "outputs": [],
      "source": [
        "init_pybullet()\n",
        "\n",
        "initial_height = 10.0\n",
        "g = 9.8  # Acceleration due to gravity\n",
        "\n",
        "h = 1.  # Time step - step doubling can edit this\n",
        "error_tol = 1e-2\n",
        "\n",
        "# Order of methods (and corresponding systems)\n",
        "method_labels = {\n",
        "  0: 'Analytical solution',\n",
        "  1: 'Explicit Euler SD method',\n",
        "}\n",
        "\n",
        "# Construct all the systems\n",
        "systems = [Freefall(initial_height, g) for _ in range(len(method_labels))]\n",
        "\n",
        "\n",
        "# Load objects\n",
        "\n",
        "# Red Sphere - Analytical\n",
        "systems[0].on_start_simulation(rgbaColor=[1, 0, 0, 1], basePosition=[-1.0, 0.0, initial_height])\n",
        "# Green sphere - Explicit Euler (SD)\n",
        "systems[1].on_start_simulation(rgbaColor=[0, 1, 0, 1], basePosition=[ 1.0, 0.0, initial_height])"
      ]
    },
    {
      "cell_type": "markdown",
      "metadata": {
        "id": "ufWYNYtsqZ8a"
      },
      "source": [
        "#### Simulation loop"
      ]
    },
    {
      "cell_type": "code",
      "execution_count": 31,
      "metadata": {
        "id": "T8KOzZRaqZ8b",
        "colab": {
          "base_uri": "https://localhost:8080/"
        },
        "outputId": "a49bbb08-cfa6-445e-a529-9955064adbed"
      },
      "outputs": [
        {
          "output_type": "stream",
          "name": "stdout",
          "text": [
            "\n",
            "** h changed by SD: 1.0 -> 0.09035079029052512 **\n",
            "\n",
            "At time t = 0.09035079029052512\n",
            "Height of object using Analytical solution = 9.96\n",
            "Height of object using Explicit Euler SD method = 9.98\n",
            "At time t = 0.5421047417431507\n",
            "Height of object using Analytical solution = 8.56\n",
            "Height of object using Explicit Euler SD method = 8.680000000000001\n",
            "At time t = 0.9938586931957608\n",
            "Height of object using Analytical solution = 5.160000000000151\n",
            "Height of object using Explicit Euler SD method = 5.380000000000146\n",
            "At time t = 1.445612644648361\n",
            "Height of object using Analytical solution = -0.23999999999942112\n",
            "Height of object using Explicit Euler SD method = 0.08000000000056773\n",
            "\n",
            "Done, passing your test case. t = 1.535963434938881\n"
          ]
        }
      ],
      "source": [
        "i, t = 0, 0.  # Loop counter, Time\n",
        "heightsToPlot = [[initial_height] for _ in range(len(systems))]\n",
        "times = [t]\n",
        "\n",
        "# Constructs all the solvers\n",
        "sd_solver = SDExplicitEulerSolver()\n",
        "\n",
        "frames = []\n",
        "while max(get_heights(systems)) > 0.0:\n",
        "  h_new = sd_solver.step(h,systems[1], error_tol)\n",
        "  if not np.isclose(h, h_new):\n",
        "      print(\"\\n** h changed by SD: {} -> {} **\\n\".format(h, h_new))\n",
        "      if t == 0.0:\n",
        "        # use this as test case\n",
        "        assert np.isclose(h_new, 0.09035), \"Failed test case for SD\"\n",
        "\n",
        "  t += h_new\n",
        "  systems[0].analytical_state_update(t)\n",
        "\n",
        "  heights = get_heights(systems)\n",
        "\n",
        "  # Print the values for debugging.\n",
        "  if i % 5 == 0:\n",
        "      print(\"At time t = {}\".format(t))\n",
        "      for idx, label in method_labels.items():\n",
        "        print(\"Height of object using {} = {}\".format(label, heights[idx]))\n",
        "\n",
        "  # Update the values for plot and visualization\n",
        "  for j, system_j in enumerate(systems):\n",
        "    system_j.on_step_simulation()\n",
        "    heightsToPlot[j].append(heights[j])\n",
        "\n",
        "  # Render image\n",
        "  frames.append(render_pybullet())\n",
        "\n",
        "  times.append(t)\n",
        "  h = h_new\n",
        "  i += 1\n",
        "\n",
        "print(\"\\nDone, passing your test case. t = {}\".format(t))"
      ]
    },
    {
      "cell_type": "markdown",
      "metadata": {
        "id": "caKf6ZRwqZ8b"
      },
      "source": [
        "#### Visualize the results\n",
        "\n",
        "Make sure that you can see the animation of 2 free-falling objects, with the green one lagging behind the red one."
      ]
    },
    {
      "cell_type": "code",
      "execution_count": 32,
      "metadata": {
        "id": "jEmw7o-UqZ8c",
        "colab": {
          "base_uri": "https://localhost:8080/",
          "height": 377
        },
        "outputId": "c648b0ed-92db-4eb0-8d3b-dc8b6d1b1afa"
      },
      "outputs": [
        {
          "output_type": "execute_result",
          "data": {
            "image/gif": "[encoded data removed]",
            "text/plain": [
              "<IPython.core.display.Image object>"
            ]
          },
          "metadata": {},
          "execution_count": 32
        }
      ],
      "source": [
        "sd_gif_path = './test_sd.gif'\n",
        "\n",
        "imageio.mimsave(sd_gif_path, np.stack(frames, axis=0), 'GIF', fps=20.0)\n",
        "ipythondisplay.Image(filename=sd_gif_path)"
      ]
    },
    {
      "cell_type": "markdown",
      "metadata": {
        "id": "PWUKU8xMqZ8d"
      },
      "source": [
        "#### Heights vs time\n",
        "\n",
        "This will look similar to the standard Explicit Euler plot from before."
      ]
    },
    {
      "cell_type": "code",
      "execution_count": 33,
      "metadata": {
        "id": "tXVpRWcdqZ8d",
        "colab": {
          "base_uri": "https://localhost:8080/",
          "height": 696
        },
        "outputId": "33c2b0cb-c4d6-447d-d029-e6e845d2245c"
      },
      "outputs": [
        {
          "output_type": "display_data",
          "data": {
            "text/plain": [
              "<Figure size 800x800 with 1 Axes>"
            ],
            "image/png": "[encoded data removed]"
          },
          "metadata": {}
        }
      ],
      "source": [
        "import matplotlib.pyplot as plt\n",
        "%matplotlib inline\n",
        "\n",
        "plt.figure(figsize=(8,8))\n",
        "plt.plot(times, heightsToPlot[0], 'r.', lw=4, label='Analytical')\n",
        "plt.plot(times, heightsToPlot[1], 'g-', lw=1, label='Explicit Euler SD')\n",
        "plt.xlabel('Time')\n",
        "plt.ylabel('Heights')\n",
        "plt.legend()\n",
        "plt.show()"
      ]
    }
  ],
  "metadata": {
    "accelerator": "GPU",
    "colab": {
      "collapsed_sections": [
        "1zRVBYMOQry8",
        "PSTL6hdzQt6M",
        "yXiQL6Retvz2",
        "8CteMs1u1Ve1"
      ],
      "provenance": []
    },
    "kernelspec": {
      "display_name": "Python 3.9.12 ('base')",
      "language": "python",
      "name": "python3"
    },
    "language_info": {
      "codemirror_mode": {
        "name": "ipython",
        "version": 3
      },
      "file_extension": ".py",
      "mimetype": "text/x-python",
      "name": "python",
      "nbconvert_exporter": "python",
      "pygments_lexer": "ipython3",
      "version": "3.7.6"
    },
    "vscode": {
      "interpreter": {
        "hash": "2e5314a4d3bbd0f86247ba18d17c0766895c8e7c17c397ab915e526c9228afab"
      }
    }
  },
  "nbformat": 4,
  "nbformat_minor": 0
}